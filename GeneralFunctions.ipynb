{
 "cells": [
  {
   "cell_type": "code",
   "execution_count": 1,
   "id": "0629692a",
   "metadata": {},
   "outputs": [],
   "source": [
    "import anndata, pickle, os, fnmatch, math, random\n",
    "import scanpy as sc\n",
    "import numpy as np\n",
    "import pandas as pd"
   ]
  },
  {
   "cell_type": "markdown",
   "id": "c34d13ae",
   "metadata": {},
   "source": [
    "# Lists Used in All Files "
   ]
  },
  {
   "cell_type": "code",
   "execution_count": 1,
   "id": "75493084",
   "metadata": {},
   "outputs": [],
   "source": [
    "# The sex of each mouse\n",
    "mouseSexLst = [['19', 'male'], ['20', 'male'], ['22', 'male'], ['23', 'female'], ['24', 'male'], ['25', 'female']]"
   ]
  },
  {
   "cell_type": "code",
   "execution_count": 2,
   "id": "88f7ccaa",
   "metadata": {},
   "outputs": [],
   "source": [
    "# All sample names \n",
    "sampleNameLst = ['1_VC20L', '2_AC20L', '3_VC20R', '4_AC20R', '5_VC22L', '6_AC22L', '7_VC24L', '8_AC24L', '9_VC23L', \n",
    "               '10_VC25L', '13_AC25L', '14_AC23L', '16_VC19L', '17_VC19R', '19_AC19L', '20_AC19R']"
   ]
  },
  {
   "cell_type": "code",
   "execution_count": 3,
   "id": "3d2157ca",
   "metadata": {},
   "outputs": [],
   "source": [
    "# The Condition of each Sample\n",
    "sampleNameConditionLst = [['MD Contra. Hem. (L)', '1_VC20L'], ['MD Contra. Hem. (L)', '2_AC20L'],\n",
    "                          ['MD Ipsi. Hem. (R)', '3_VC20R'], ['MD Ipsi. Hem. (R)', '4_AC20R'], ['Deafened', '5_VC22L'], \n",
    "                          ['Deafened', '6_AC22L'], ['Control', '7_VC24L'], ['Control', '8_AC24L'], ['Control', '9_VC23L'], \n",
    "                          ['Deafened', '10_VC25L'], ['Deafened', '13_AC25L'], ['Control', '14_AC23L'], \n",
    "                          ['MD Contra. Hem. (L)', '16_VC19L'], ['MD Ipsi. Hem. (R)', '17_VC19R'], \n",
    "                          ['MD Contra. Hem. (L)', '19_AC19L'], ['MD Ipsi. Hem. (R)', '20_AC19R']]"
   ]
  },
  {
   "cell_type": "code",
   "execution_count": 4,
   "id": "0561c2a2",
   "metadata": {},
   "outputs": [],
   "source": [
    "# Biological Replicate Samples to Compare \n",
    "bioRepComparisonLst = [['Control', '7_VC24L', '9_VC23L'], ['Control', '8_AC24L', '14_AC23L'], \n",
    "                       ['Deafened', '5_VC22L', '10_VC25L'], ['Deafened', '6_AC22L', '13_AC25L'], \n",
    "                       ['MD Contra. Hem. (L)', '16_VC19L', '1_VC20L'], ['MD Contra. Hem. (L)', '19_AC19L', '2_AC20L'], \n",
    "                       ['MD Ipsi. Hem. (R)', '17_VC19R', '3_VC20R'], ['MD Ipsi. Hem. (R)', '20_AC19R', '4_AC20R']]"
   ]
  },
  {
   "cell_type": "code",
   "execution_count": 5,
   "id": "e3b8228e",
   "metadata": {},
   "outputs": [],
   "source": [
    "# Plasticity Samples to Compare \n",
    "plastComparLst = [['VC Deaf vs. Control', '5_VC22L', '7_VC24L'], ['VC Deaf vs. Control', '5_VC22L', '9_VC23L'], \n",
    "                  ['VC Deaf vs. Control', '10_VC25L', '7_VC24L'], ['VC Deaf vs. Control', '10_VC25L', '9_VC23L'],\n",
    "                  ['AC Deafvs. Control', '6_AC22L', '8_AC24L'], ['AC Deaf vs. Control', '6_AC22L', '14_AC23L'],\n",
    "                  ['AC Deaf vs. Control', '13_AC25L', '8_AC24L'], ['AC Deaf vs. Control', '13_AC25L', '14_AC23L'],\n",
    "                  ['VC MD vs. Control', '16_VC19L', '7_VC24L'], ['VC MD vs. Control', '16_VC19L', '9_VC23L'],\n",
    "                  ['VC MD vs. Control', '1_VC20L', '7_VC24L'], ['VC MD vs. Control', '1_VC20L', '9_VC23L'],\n",
    "                  ['AC MD vs. Control', '19_AC19L', '8_AC24L'], ['AC MD vs. Control', '19_AC19L', '14_AC23L'],\n",
    "                  ['AC MD vs. Control', '2_AC20L', '8_AC24L'], ['AC MD vs. Control', '2_AC20L', '14_AC23L']]"
   ]
  },
  {
   "cell_type": "code",
   "execution_count": 6,
   "id": "ec76f2b7",
   "metadata": {},
   "outputs": [],
   "source": [
    "# Hemispheric Samples to Compare \n",
    "hemComparLst = [['VC Contra (L) vs. Ipsi Hem (R)', '16_VC19L', '17_VC19R'], \n",
    "                ['AC Contra (L) vs. Ipsi Hem (R)', '19_AC19L', '20_AC19R'], \n",
    "                ['VC Contra (L) vs. Ipsi Hem (R)', '1_VC20L', '3_VC20R'], \n",
    "                ['AC Contra (L) vs. Ipsi Hem (R)', '2_AC20L','4_AC20R']]"
   ]
  },
  {
   "cell_type": "markdown",
   "id": "d55a5f48",
   "metadata": {},
   "source": [
    "# General Functions"
   ]
  },
  {
   "cell_type": "code",
   "execution_count": 2,
   "id": "d0bf8d84",
   "metadata": {},
   "outputs": [],
   "source": [
    "# Reads dictionaries that have been saved in .pkl files \n",
    "def readDict(filePath):\n",
    "    with open(filePath, 'rb') as file:\n",
    "        dictionary = pickle.load(file)\n",
    "    return(dictionary)"
   ]
  },
  {
   "cell_type": "code",
   "execution_count": null,
   "id": "3ba43bd5",
   "metadata": {},
   "outputs": [],
   "source": [
    "# Sorts the list of cluster numbers in increasing order\n",
    "def sortClust(clusterStrLst):\n",
    "    # Turns list of cluster number strings into intigers \n",
    "    clusterNumLst = [int(string) for string in clusterStrLst]\n",
    "    #sorts numbers \n",
    "    clusterNumLst.sort()\n",
    "    # Turns numbers into strings again \n",
    "    sortedClusterStrLst = [str(num) for num in clusterNumLst]\n",
    "    \n",
    "    return(sortedClusterStrLst)"
   ]
  },
  {
   "cell_type": "code",
   "execution_count": null,
   "id": "61dd72ef",
   "metadata": {},
   "outputs": [],
   "source": [
    "# This function finds the path to the files using a keyword (Chat GBT)\n",
    "def search_files(folder_path, keyword):\n",
    "    matches = []\n",
    "    for root, dirnames, filenames in os.walk(folder_path):\n",
    "        for filename in filenames:\n",
    "            if fnmatch.fnmatch(filename, f'*{keyword}*'):\n",
    "                matches.append(os.path.join(root, filename))\n",
    "    return matches"
   ]
  },
  {
   "cell_type": "code",
   "execution_count": null,
   "id": "3d0d0e07",
   "metadata": {},
   "outputs": [],
   "source": [
    "def mouseSex(sampleName):\n",
    "    for mouseInfo in mouseSexLst:\n",
    "        mouseNum = mouseInfo[0]\n",
    "        mouseSex = mouseInfo[1]\n",
    "        \n",
    "        if mouseNum in sampleName: return mouseSex"
   ]
  },
  {
   "cell_type": "code",
   "execution_count": 1,
   "id": "31c55b5c",
   "metadata": {},
   "outputs": [],
   "source": [
    "def comaringSex(sample1_name, sample2_name):\n",
    "    sample1 = sc.read(f'F:/SampleData/IndividualSamples/{sample1_name}')\n",
    "    sample2 = sc.read(f'F:/SampleData/IndividualSamples/{sample2_name}')\n",
    "    \n",
    "    sample1_sex = list(np.unique(sample1.obs['sex']))\n",
    "    sample2_sex = list(np.unique(sample2.obs['sex']))\n",
    "    \n",
    "    if sample1_sex[0] == sample2_sex[0]: return(True)\n",
    "    else: return(False)"
   ]
  },
  {
   "cell_type": "code",
   "execution_count": null,
   "id": "f2bc4222",
   "metadata": {},
   "outputs": [],
   "source": [
    "# This function checks whether a file exists in a given path \n",
    "def check_file_exists(folder_path, file_name):\n",
    "    file_path = os.path.join(folder_path, file_name)\n",
    "    if os.path.exists(file_path):\n",
    "        return True\n",
    "    else:\n",
    "        return False"
   ]
  },
  {
   "cell_type": "code",
   "execution_count": null,
   "id": "95e7d3a8",
   "metadata": {},
   "outputs": [],
   "source": [
    "# Adding the specified DE Score to the given AnnData File\n",
    "    # sampleObj = AnnData object you want to add the DE score to\n",
    "    # divideby = string of the category in data.obs you want to divide the sample by \n",
    "    # cat1 = string of one of the two categories in the divide by data.vars column\n",
    "    # cat2 = string of the other of the two categories in the divide by data.vars column \n",
    "def addingDEscore(sampleObj, divideby, cat1, cat2):\n",
    "    \n",
    "    # Adds missing field to 'data.uns' that is necessary for running the ranked_sum_genes function\n",
    "    sampleObj.uns['log1p'] = {'base': None}\n",
    "\n",
    "    # Calculating DE Scores \n",
    "    sc.tl.rank_genes_groups(sampleObj, divideby, method='wilcoxon')\n",
    "\n",
    "    # Getting DE Info \n",
    "    score_df = pd.DataFrame(sampleObj.uns['rank_genes_groups']['scores'])\n",
    "    geneName_df = pd.DataFrame(sampleObj.uns['rank_genes_groups']['names'])\n",
    "\n",
    "    # Renaming the columns of each Data Frame \n",
    "    geneName_df = geneName_df.rename(columns={cat1: f'{cat1} GeneName'})\n",
    "    geneName_df = geneName_df.rename(columns={cat2: f'{cat2} GeneName'})\n",
    "    score_df = score_df.rename(columns={cat1: f'{cat1} Score'})\n",
    "    score_df = score_df.rename(columns={cat2: f'{cat2} Score'})\n",
    "\n",
    "    # Concatenating the two Data Frames\n",
    "    cat1_df = pd.concat([geneName_df[f'{cat1} GeneName'], score_df[f'{cat1} Score']], axis=1)\n",
    "    cat2_df = pd.concat([geneName_df[f'{cat2} GeneName'], score_df[f'{cat2} Score']], axis=1)\n",
    "\n",
    "    # Adding an Index Column to the Data Frames\n",
    "    cat1_df.index = cat1_df[f'{cat1} GeneName']\n",
    "    cat2_df.index = cat2_df[f'{cat2} GeneName']\n",
    "\n",
    "    # Reordering the Data Frames According to the Gene Names in the AnnData Object \n",
    "    refGeneLst = list(sampleObj.var_names)\n",
    "    reordered_cat1_df = cat1_df.reindex(refGeneLst)\n",
    "    reordered_cat2_df = cat2_df.reindex(refGeneLst)\n",
    "\n",
    "    sampleObj.var[f'{cat1}_DE_Score'] = reordered_cat1_df[f'{cat1} Score']\n",
    "    sampleObj.var[f'{cat2}_DE_Score'] = reordered_cat2_df[f'{cat2} Score']\n",
    "\n",
    "    return sampleObj"
   ]
  }
 ],
 "metadata": {
  "kernelspec": {
   "display_name": "Python 3 (ipykernel)",
   "language": "python",
   "name": "python3"
  },
  "language_info": {
   "codemirror_mode": {
    "name": "ipython",
    "version": 3
   },
   "file_extension": ".py",
   "mimetype": "text/x-python",
   "name": "python",
   "nbconvert_exporter": "python",
   "pygments_lexer": "ipython3",
   "version": "3.10.8"
  }
 },
 "nbformat": 4,
 "nbformat_minor": 5
}
