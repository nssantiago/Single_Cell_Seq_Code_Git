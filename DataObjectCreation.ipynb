{
 "cells": [
  {
   "cell_type": "code",
   "execution_count": 1,
   "id": "cfab0609",
   "metadata": {},
   "outputs": [],
   "source": [
    "import anndata, random, os, fnmatch\n",
    "import scanpy as sc\n",
    "import numpy as np"
   ]
  },
  {
   "cell_type": "code",
   "execution_count": 2,
   "id": "88df4355",
   "metadata": {},
   "outputs": [],
   "source": [
    "'''READING THE 'scanpy_mouse_FINAL_DATA.h5ad' FILE FROM YOUR COMPUTER AND KEEPING IT IN THE THE 'adata' VARIABLE'''\n",
    "\n",
    "directory = 'F:/scanpy_mouse_FINAL_DATA.h5ad'\n",
    "adata = sc.read_h5ad(directory)"
   ]
  },
  {
   "cell_type": "code",
   "execution_count": 3,
   "id": "ea8ebe24",
   "metadata": {},
   "outputs": [],
   "source": [
    "'''THIS CELL ALLOWS YOU TO EASILY CHANGE THE DATA YOU ARE ANALYZING'''\n",
    "\n",
    "# Set 'data' equal to the data set you want to process throughout the rest of the code (MUST BE ANNDATA OBJECT!)\n",
    "data = adata "
   ]
  },
  {
   "cell_type": "code",
   "execution_count": 4,
   "id": "54fdbbf7",
   "metadata": {},
   "outputs": [],
   "source": [
    "'''ADDING MISSING IDENTIFYING FIELDS TO THE ANNDATA OBJECT'''\n",
    "\n",
    "# Adds missing field to 'data.uns' that is necessary for running the ranked_sum_genes function\n",
    "data.uns['log1p'] = {'base': None}\n",
    "\n",
    "# Corrects name of sample '8_AC24L' which was missing the batch number \n",
    "data.obs['sample'] = ['8_AC24L' if sampleName == '8_AC24' else sampleName for sampleName in data.obs['sample']]"
   ]
  },
  {
   "cell_type": "code",
   "execution_count": 14,
   "id": "77b37359",
   "metadata": {},
   "outputs": [],
   "source": [
    "'''IMPORTING FUNCTIONS FROM FUNCTIONS FILE'''\n",
    "\n",
    "%run GeneralFunctions.ipynb\n",
    "%run DataObjectCreation_Functions.ipynb"
   ]
  },
  {
   "cell_type": "markdown",
   "id": "16631dd5",
   "metadata": {},
   "source": [
    "# Individual Samples"
   ]
  },
  {
   "cell_type": "code",
   "execution_count": 8,
   "id": "725947af",
   "metadata": {
    "scrolled": true
   },
   "outputs": [
    {
     "name": "stderr",
     "output_type": "stream",
     "text": [
      "C:\\Users\\Hlab\\AppData\\Local\\Temp\\ipykernel_17344\\296690203.py:13: ImplicitModificationWarning: Trying to modify attribute `.obs` of view, initializing view as actual.\n",
      "  sampleObj.obs['sex'] = sex\n",
      "C:\\Users\\Hlab\\AppData\\Local\\Programs\\Python\\Python310\\lib\\contextlib.py:142: FutureWarning: X.dtype being converted to np.float32 from float64. In the next version of anndata (0.9) conversion will not be automatic. Pass dtype explicitly to avoid this warning. Pass `AnnData(X, dtype=X.dtype, ...)` to get the future behavour.\n",
      "  next(self.gen)\n",
      "C:\\Users\\Hlab\\AppData\\Local\\Temp\\ipykernel_17344\\296690203.py:13: ImplicitModificationWarning: Trying to modify attribute `.obs` of view, initializing view as actual.\n",
      "  sampleObj.obs['sex'] = sex\n",
      "C:\\Users\\Hlab\\AppData\\Local\\Programs\\Python\\Python310\\lib\\contextlib.py:142: FutureWarning: X.dtype being converted to np.float32 from float64. In the next version of anndata (0.9) conversion will not be automatic. Pass dtype explicitly to avoid this warning. Pass `AnnData(X, dtype=X.dtype, ...)` to get the future behavour.\n",
      "  next(self.gen)\n",
      "C:\\Users\\Hlab\\AppData\\Local\\Temp\\ipykernel_17344\\296690203.py:13: ImplicitModificationWarning: Trying to modify attribute `.obs` of view, initializing view as actual.\n",
      "  sampleObj.obs['sex'] = sex\n",
      "C:\\Users\\Hlab\\AppData\\Local\\Programs\\Python\\Python310\\lib\\contextlib.py:142: FutureWarning: X.dtype being converted to np.float32 from float64. In the next version of anndata (0.9) conversion will not be automatic. Pass dtype explicitly to avoid this warning. Pass `AnnData(X, dtype=X.dtype, ...)` to get the future behavour.\n",
      "  next(self.gen)\n",
      "C:\\Users\\Hlab\\AppData\\Local\\Temp\\ipykernel_17344\\296690203.py:13: ImplicitModificationWarning: Trying to modify attribute `.obs` of view, initializing view as actual.\n",
      "  sampleObj.obs['sex'] = sex\n",
      "C:\\Users\\Hlab\\AppData\\Local\\Programs\\Python\\Python310\\lib\\contextlib.py:142: FutureWarning: X.dtype being converted to np.float32 from float64. In the next version of anndata (0.9) conversion will not be automatic. Pass dtype explicitly to avoid this warning. Pass `AnnData(X, dtype=X.dtype, ...)` to get the future behavour.\n",
      "  next(self.gen)\n",
      "C:\\Users\\Hlab\\AppData\\Local\\Temp\\ipykernel_17344\\296690203.py:13: ImplicitModificationWarning: Trying to modify attribute `.obs` of view, initializing view as actual.\n",
      "  sampleObj.obs['sex'] = sex\n",
      "C:\\Users\\Hlab\\AppData\\Local\\Programs\\Python\\Python310\\lib\\contextlib.py:142: FutureWarning: X.dtype being converted to np.float32 from float64. In the next version of anndata (0.9) conversion will not be automatic. Pass dtype explicitly to avoid this warning. Pass `AnnData(X, dtype=X.dtype, ...)` to get the future behavour.\n",
      "  next(self.gen)\n",
      "C:\\Users\\Hlab\\AppData\\Local\\Temp\\ipykernel_17344\\296690203.py:13: ImplicitModificationWarning: Trying to modify attribute `.obs` of view, initializing view as actual.\n",
      "  sampleObj.obs['sex'] = sex\n",
      "C:\\Users\\Hlab\\AppData\\Local\\Programs\\Python\\Python310\\lib\\contextlib.py:142: FutureWarning: X.dtype being converted to np.float32 from float64. In the next version of anndata (0.9) conversion will not be automatic. Pass dtype explicitly to avoid this warning. Pass `AnnData(X, dtype=X.dtype, ...)` to get the future behavour.\n",
      "  next(self.gen)\n",
      "C:\\Users\\Hlab\\AppData\\Local\\Temp\\ipykernel_17344\\296690203.py:13: ImplicitModificationWarning: Trying to modify attribute `.obs` of view, initializing view as actual.\n",
      "  sampleObj.obs['sex'] = sex\n",
      "C:\\Users\\Hlab\\AppData\\Local\\Programs\\Python\\Python310\\lib\\contextlib.py:142: FutureWarning: X.dtype being converted to np.float32 from float64. In the next version of anndata (0.9) conversion will not be automatic. Pass dtype explicitly to avoid this warning. Pass `AnnData(X, dtype=X.dtype, ...)` to get the future behavour.\n",
      "  next(self.gen)\n",
      "C:\\Users\\Hlab\\AppData\\Local\\Temp\\ipykernel_17344\\296690203.py:13: ImplicitModificationWarning: Trying to modify attribute `.obs` of view, initializing view as actual.\n",
      "  sampleObj.obs['sex'] = sex\n",
      "C:\\Users\\Hlab\\AppData\\Local\\Programs\\Python\\Python310\\lib\\contextlib.py:142: FutureWarning: X.dtype being converted to np.float32 from float64. In the next version of anndata (0.9) conversion will not be automatic. Pass dtype explicitly to avoid this warning. Pass `AnnData(X, dtype=X.dtype, ...)` to get the future behavour.\n",
      "  next(self.gen)\n",
      "C:\\Users\\Hlab\\AppData\\Local\\Temp\\ipykernel_17344\\296690203.py:13: ImplicitModificationWarning: Trying to modify attribute `.obs` of view, initializing view as actual.\n",
      "  sampleObj.obs['sex'] = sex\n",
      "C:\\Users\\Hlab\\AppData\\Local\\Programs\\Python\\Python310\\lib\\contextlib.py:142: FutureWarning: X.dtype being converted to np.float32 from float64. In the next version of anndata (0.9) conversion will not be automatic. Pass dtype explicitly to avoid this warning. Pass `AnnData(X, dtype=X.dtype, ...)` to get the future behavour.\n",
      "  next(self.gen)\n",
      "C:\\Users\\Hlab\\AppData\\Local\\Temp\\ipykernel_17344\\296690203.py:13: ImplicitModificationWarning: Trying to modify attribute `.obs` of view, initializing view as actual.\n",
      "  sampleObj.obs['sex'] = sex\n",
      "C:\\Users\\Hlab\\AppData\\Local\\Programs\\Python\\Python310\\lib\\contextlib.py:142: FutureWarning: X.dtype being converted to np.float32 from float64. In the next version of anndata (0.9) conversion will not be automatic. Pass dtype explicitly to avoid this warning. Pass `AnnData(X, dtype=X.dtype, ...)` to get the future behavour.\n",
      "  next(self.gen)\n",
      "C:\\Users\\Hlab\\AppData\\Local\\Temp\\ipykernel_17344\\296690203.py:13: ImplicitModificationWarning: Trying to modify attribute `.obs` of view, initializing view as actual.\n",
      "  sampleObj.obs['sex'] = sex\n",
      "C:\\Users\\Hlab\\AppData\\Local\\Programs\\Python\\Python310\\lib\\contextlib.py:142: FutureWarning: X.dtype being converted to np.float32 from float64. In the next version of anndata (0.9) conversion will not be automatic. Pass dtype explicitly to avoid this warning. Pass `AnnData(X, dtype=X.dtype, ...)` to get the future behavour.\n",
      "  next(self.gen)\n",
      "C:\\Users\\Hlab\\AppData\\Local\\Temp\\ipykernel_17344\\296690203.py:13: ImplicitModificationWarning: Trying to modify attribute `.obs` of view, initializing view as actual.\n",
      "  sampleObj.obs['sex'] = sex\n",
      "C:\\Users\\Hlab\\AppData\\Local\\Programs\\Python\\Python310\\lib\\contextlib.py:142: FutureWarning: X.dtype being converted to np.float32 from float64. In the next version of anndata (0.9) conversion will not be automatic. Pass dtype explicitly to avoid this warning. Pass `AnnData(X, dtype=X.dtype, ...)` to get the future behavour.\n",
      "  next(self.gen)\n",
      "C:\\Users\\Hlab\\AppData\\Local\\Temp\\ipykernel_17344\\296690203.py:13: ImplicitModificationWarning: Trying to modify attribute `.obs` of view, initializing view as actual.\n",
      "  sampleObj.obs['sex'] = sex\n",
      "C:\\Users\\Hlab\\AppData\\Local\\Programs\\Python\\Python310\\lib\\contextlib.py:142: FutureWarning: X.dtype being converted to np.float32 from float64. In the next version of anndata (0.9) conversion will not be automatic. Pass dtype explicitly to avoid this warning. Pass `AnnData(X, dtype=X.dtype, ...)` to get the future behavour.\n",
      "  next(self.gen)\n",
      "C:\\Users\\Hlab\\AppData\\Local\\Temp\\ipykernel_17344\\296690203.py:13: ImplicitModificationWarning: Trying to modify attribute `.obs` of view, initializing view as actual.\n",
      "  sampleObj.obs['sex'] = sex\n",
      "C:\\Users\\Hlab\\AppData\\Local\\Programs\\Python\\Python310\\lib\\contextlib.py:142: FutureWarning: X.dtype being converted to np.float32 from float64. In the next version of anndata (0.9) conversion will not be automatic. Pass dtype explicitly to avoid this warning. Pass `AnnData(X, dtype=X.dtype, ...)` to get the future behavour.\n",
      "  next(self.gen)\n",
      "C:\\Users\\Hlab\\AppData\\Local\\Temp\\ipykernel_17344\\296690203.py:13: ImplicitModificationWarning: Trying to modify attribute `.obs` of view, initializing view as actual.\n",
      "  sampleObj.obs['sex'] = sex\n",
      "C:\\Users\\Hlab\\AppData\\Local\\Programs\\Python\\Python310\\lib\\contextlib.py:142: FutureWarning: X.dtype being converted to np.float32 from float64. In the next version of anndata (0.9) conversion will not be automatic. Pass dtype explicitly to avoid this warning. Pass `AnnData(X, dtype=X.dtype, ...)` to get the future behavour.\n",
      "  next(self.gen)\n",
      "C:\\Users\\Hlab\\AppData\\Local\\Temp\\ipykernel_17344\\296690203.py:13: ImplicitModificationWarning: Trying to modify attribute `.obs` of view, initializing view as actual.\n",
      "  sampleObj.obs['sex'] = sex\n"
     ]
    },
    {
     "name": "stderr",
     "output_type": "stream",
     "text": [
      "C:\\Users\\Hlab\\AppData\\Local\\Programs\\Python\\Python310\\lib\\contextlib.py:142: FutureWarning: X.dtype being converted to np.float32 from float64. In the next version of anndata (0.9) conversion will not be automatic. Pass dtype explicitly to avoid this warning. Pass `AnnData(X, dtype=X.dtype, ...)` to get the future behavour.\n",
      "  next(self.gen)\n"
     ]
    }
   ],
   "source": [
    "'''CREATING INDIVIDUAL SAMPLE FILES'''\n",
    "\n",
    "for sampleName in sampleNameLst:\n",
    "    \n",
    "    # Getting Sample Specific Condition and Sex Information\n",
    "    condition = mouseCondition(sampleName)\n",
    "    sex = mouseSex(sampleName)\n",
    "    \n",
    "    # Create Sample AnnData Object \n",
    "    sampleObj = data[data.obs['sample'].isin([sampleName]),:]\n",
    "    \n",
    "    # Adding Sex and Condition Information to AnnData Object \n",
    "    sampleObj.obs['sex'] = sex\n",
    "    sampleObj.obs['condition'] = condition\n",
    "    \n",
    "    # Re-Clustering \n",
    "    # PCA\n",
    "    sc.tl.pca(sampleObj, svd_solver='arpack')\n",
    "\n",
    "    # Neighbors and UMAP Computations\n",
    "    sc.pp.neighbors(sampleObj, n_neighbors=50, n_pcs =50, use_rep = \"Scanorama\")\n",
    "    sc.tl.umap(sampleObj) \n",
    "\n",
    "    # Re-calculating cluster numbers \n",
    "    sc.tl.leiden(sampleObj, resolution = 0.3, key_added = \"leiden_0.3\")\n",
    " \n",
    "    # Calculates nuclei and gene information specific to the sample object \n",
    "    sc.pp.calculate_qc_metrics(sampleObj, percent_top=None, log1p=False, inplace=True)\n",
    "    \n",
    "    # Saving Sample AnnData Object\n",
    "    sampleObj.write_h5ad(f'F:/SampleData/IndividualSamples/{sampleName}.h5ad')"
   ]
  },
  {
   "cell_type": "markdown",
   "id": "abb6027a",
   "metadata": {},
   "source": [
    "# Sample Halves"
   ]
  },
  {
   "cell_type": "code",
   "execution_count": 9,
   "id": "f9f7b528",
   "metadata": {},
   "outputs": [],
   "source": [
    "'''DIVIDING THE EACH SAMPLE IN THE DATA INTO HALVES - SPECIFIED RANDOMIZATION SEEDS (REPLICATION OF GRAPHS)''' \n",
    "\n",
    "for sampleLst in sampleSeedList:\n",
    "    # Getting sample information \n",
    "    sampleName = sampleLst[0]\n",
    "    specifiedSeed = sampleLst[1]\n",
    "\n",
    "    # Reading the AnnData object file for the sample \n",
    "    sampleObj = anndata.read_h5ad(f'F:/SampleData/IndividualSamples/{sampleName}.h5ad')\n",
    "    \n",
    "    # Randomly halves the sample data \n",
    "    sampleHalf1, sampleHalf2, seedUsed = halvingData(sampleObj, specifiedSeed)\n",
    "\n",
    "    # Re-Clustering Sample 1\n",
    "    # PCA\n",
    "    sc.tl.pca(sampleHalf1, svd_solver='arpack')\n",
    "\n",
    "    # Neighbors and UMAP Computations\n",
    "    sc.pp.neighbors(sampleHalf1, n_neighbors=50, n_pcs =50, use_rep = \"Scanorama\")\n",
    "    sc.tl.umap(sampleHalf1) \n",
    "\n",
    "    # Re-calculating cluster numbers \n",
    "    sc.tl.leiden(sampleHalf1, resolution = 0.3, key_added = \"leiden_0.3\")\n",
    "    \n",
    "    # Calculates nuclei and gene information specific to the sample object \n",
    "    sc.pp.calculate_qc_metrics(sampleHalf1, percent_top=None, log1p=False, inplace=True)\n",
    "    \n",
    "    # Re-Clustering Sample 2 \n",
    "    # PCA\n",
    "    sc.tl.pca(sampleHalf2, svd_solver='arpack')\n",
    "\n",
    "    # Neighbors and UMAP Computations\n",
    "    sc.pp.neighbors(sampleHalf2, n_neighbors=50, n_pcs =50, use_rep = \"Scanorama\")\n",
    "    sc.tl.umap(sampleHalf2) \n",
    "\n",
    "    # Re-calculating cluster numbers \n",
    "    sc.tl.leiden(sampleHalf2, resolution = 0.3, key_added = \"leiden_0.3\")\n",
    "    \n",
    "    # Calculates nuclei and gene information specific to the sample object \n",
    "    sc.pp.calculate_qc_metrics(sampleHalf2, percent_top=None, log1p=False, inplace=True)\n",
    "    \n",
    "    # Saving each sample half as an individual AnnData Object \n",
    "    sampleHalf1.write_h5ad(f'F:/SampleData/SampleHalves/{sampleName}_Half1_Seed{seedUsed}.h5ad')\n",
    "    sampleHalf2.write_h5ad(f'F:/SampleData/SampleHalves/{sampleName}_Half2_Seed{seedUsed}.h5ad')"
   ]
  },
  {
   "cell_type": "markdown",
   "id": "459a7ef3",
   "metadata": {},
   "source": [
    "# Conatenated Samples"
   ]
  },
  {
   "cell_type": "code",
   "execution_count": 10,
   "id": "cf67911f",
   "metadata": {
    "scrolled": true
   },
   "outputs": [],
   "source": [
    "'''CREATING ANNDATA OBJECT FILES FOR CONCATENATED BIOLOGICAL REPLICATE SAMPLES'''\n",
    "\n",
    "creatingConcatSampleFiles(bioRepComparisonLst, 'BiologicalReplicaSamples')"
   ]
  },
  {
   "cell_type": "code",
   "execution_count": 15,
   "id": "e08eef01",
   "metadata": {
    "scrolled": true
   },
   "outputs": [],
   "source": [
    "'''CREATING ANNDATA OBJECT FILES FOR CONCATENATED PLASTICITY COMPARISONS'''\n",
    "\n",
    "creatingConcatSampleFiles(plastComparLst, 'PlasticityComparisons')"
   ]
  },
  {
   "cell_type": "code",
   "execution_count": 12,
   "id": "b2e03afa",
   "metadata": {},
   "outputs": [],
   "source": [
    "'''CREATING ANNDATA OBJECT FILES FOR CONCATENATED HEMISPHERIC COMPARISONS'''\n",
    "\n",
    "creatingConcatSampleFiles(hemComparLst, 'HemisphericComparisons')"
   ]
  },
  {
   "cell_type": "code",
   "execution_count": null,
   "id": "44c60ebc",
   "metadata": {},
   "outputs": [],
   "source": []
  }
 ],
 "metadata": {
  "kernelspec": {
   "display_name": "Python 3 (ipykernel)",
   "language": "python",
   "name": "python3"
  },
  "language_info": {
   "codemirror_mode": {
    "name": "ipython",
    "version": 3
   },
   "file_extension": ".py",
   "mimetype": "text/x-python",
   "name": "python",
   "nbconvert_exporter": "python",
   "pygments_lexer": "ipython3",
   "version": "3.10.8"
  }
 },
 "nbformat": 4,
 "nbformat_minor": 5
}
