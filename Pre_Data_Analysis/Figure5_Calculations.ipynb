{
 "cells": [
  {
   "cell_type": "code",
   "execution_count": 1,
   "id": "82ae2862",
   "metadata": {},
   "outputs": [],
   "source": [
    "import anndata, pickle, os, fnmatch, math, random\n",
    "import scipy.stats as stats\n",
    "import scanpy as sc\n",
    "import numpy as np\n",
    "import pandas as pd"
   ]
  },
  {
   "cell_type": "code",
   "execution_count": 2,
   "id": "00fd8aff",
   "metadata": {},
   "outputs": [],
   "source": [
    "'''IMPORTING NECESSARY FUNCTIONS FROM GENERAL FUNCTION FILE'''\n",
    "\n",
    "%run GeneralFunctions.ipynb\n",
    "%run Figure5_Functions.ipynb"
   ]
  },
  {
   "cell_type": "code",
   "execution_count": null,
   "id": "1d38ee36",
   "metadata": {
    "scrolled": true
   },
   "outputs": [],
   "source": [
    "'''CALCULATING FIGURE 5 INFORMATION FOR BIOLOGICAL REPLICA SAMPLES'''\n",
    "\n",
    "# Information used in the functions below \n",
    "comparLst = bioRepComparisonLst # what list we are getting the sample comparisons from\n",
    "folderName = 'BiologicalReplicaSamples' # where the AnnData objects for the samples are \n",
    "foldChange_savePath = 'F:/FigureCalculations/Figure5/foldChangeDict_BioRep' # where to save the fold change dict.\n",
    "deCount_male_savePath = 'F:/FigureCalculations/Figure5/DECount_male_BioRep' # where to save the male de count dict.\n",
    "deCount_female_savePath = 'F:/FigureCalculations/Figure5/DECount_female_BioRep' # where to save the female de count dict.\n",
    "\n",
    "# Calculating the DE Score for Male vs. Female Samples in the comparison list (whole sample)\n",
    "addingDEToAllSamples(comparLst, folderName)\n",
    "\n",
    "# Calculating the Fold Change for Gene Expression in Male vs. Female samples in the comparison list \n",
    "calculatingFoldChange(comparLst, folderName, foldChange_savePath)\n",
    "\n",
    "# Calculating the number of genes in Male vs. Female samples with a DE Score > 20 for samples in the comparison list \n",
    "numberOfDEGenes(comparLst, folderName, deCount_male_savePath, deCount_female_savePath)"
   ]
  },
  {
   "cell_type": "code",
   "execution_count": null,
   "id": "376ae07d",
   "metadata": {
    "scrolled": true
   },
   "outputs": [],
   "source": [
    "'''CALCULATING FIGURE 5 INFORMATION FOR PLASTICITY COMPARISON SAMPLES'''\n",
    "\n",
    "# Information used in the functions below\n",
    "comparLst = plastComparLst # what list we are getting the sample comparisons from\n",
    "folderName = 'PlasticityComparisons' # where the AnnData objects for the samples are \n",
    "foldChange_savePath = 'F:/FigureCalculations/Figure5/foldChangeDict_PlasticityCompar' # where to save the fold change dict.\n",
    "deCount_male_savePath = 'F:/FigureCalculations/Figure5/DECount_male_PlasticityCompar' # where to save the male de count dict.\n",
    "deCount_female_savePath = 'F:/FigureCalculations/Figure5/DECount_female_PlasticityCompar' # where to save the female de count dict.\n",
    "\n",
    "# Calculating the DE Score for Male vs. Female Samples in the comparison list (whole sample)\n",
    "addingDEToAllSamples(comparLst, folderName)\n",
    "\n",
    "# Calculating the Fold Change for Gene Expression in Male vs. Female samples in the comparison list \n",
    "calculatingFoldChange(comparLst, folderName, foldChange_savePath)\n",
    "\n",
    "# Calculating the number of genes in Male vs. Female samples with a DE Score > 20 for samples in the comparison list \n",
    "numberOfDEGenes(comparLst, folderName, deCount_male_savePath, deCount_female_savePath)"
   ]
  },
  {
   "cell_type": "code",
   "execution_count": null,
   "id": "fab10625",
   "metadata": {},
   "outputs": [],
   "source": []
  }
 ],
 "metadata": {
  "kernelspec": {
   "display_name": "Python 3 (ipykernel)",
   "language": "python",
   "name": "python3"
  },
  "language_info": {
   "codemirror_mode": {
    "name": "ipython",
    "version": 3
   },
   "file_extension": ".py",
   "mimetype": "text/x-python",
   "name": "python",
   "nbconvert_exporter": "python",
   "pygments_lexer": "ipython3",
   "version": "3.10.8"
  }
 },
 "nbformat": 4,
 "nbformat_minor": 5
}
