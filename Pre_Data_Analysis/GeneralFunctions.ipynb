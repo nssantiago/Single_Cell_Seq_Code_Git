{
 "cells": [
  {
   "cell_type": "code",
   "execution_count": 1,
   "id": "0629692a",
   "metadata": {},
   "outputs": [],
   "source": [
    "import anndata, pickle, os, fnmatch, math, random\n",
    "import scanpy as sc\n",
    "import numpy as np\n",
    "import pandas as pd"
   ]
  },
  {
   "cell_type": "markdown",
   "id": "c34d13ae",
   "metadata": {},
   "source": [
    "# Lists Used in All Files "
   ]
  },
  {
   "cell_type": "code",
   "execution_count": 1,
   "id": "75493084",
   "metadata": {},
   "outputs": [],
   "source": [
    "# The sex of each mouse\n",
    "mouseSexLst = [['19', 'male'], ['20', 'male'], ['22', 'male'], ['23', 'female'], ['24', 'male'], ['25', 'female']]"
   ]
  },
  {
   "cell_type": "code",
   "execution_count": 2,
   "id": "88f7ccaa",
   "metadata": {},
   "outputs": [],
   "source": [
    "# All sample names \n",
    "sampleNameLst = ['1_VC20L', '2_AC20L', '3_VC20R', '4_AC20R', '5_VC22L', '6_AC22L', '7_VC24L', '8_AC24L', '9_VC23L', \n",
    "               '10_VC25L', '13_AC25L', '14_AC23L', '16_VC19L', '17_VC19R', '19_AC19L', '20_AC19R']"
   ]
  },
  {
   "cell_type": "code",
   "execution_count": 3,
   "id": "3d2157ca",
   "metadata": {},
   "outputs": [],
   "source": [
    "# The Condition of each Sample\n",
    "sampleNameConditionLst = [['MD Contra. Hem. (L)', '1_VC20L'], ['MD Contra. Hem. (L)', '2_AC20L'],\n",
    "                          ['MD Ipsi. Hem. (R)', '3_VC20R'], ['MD Ipsi. Hem. (R)', '4_AC20R'], ['Deafened', '5_VC22L'], \n",
    "                          ['Deafened', '6_AC22L'], ['Control', '7_VC24L'], ['Control', '8_AC24L'], ['Control', '9_VC23L'], \n",
    "                          ['Deafened', '10_VC25L'], ['Deafened', '13_AC25L'], ['Control', '14_AC23L'], \n",
    "                          ['MD Contra. Hem. (L)', '16_VC19L'], ['MD Ipsi. Hem. (R)', '17_VC19R'], \n",
    "                          ['MD Contra. Hem. (L)', '19_AC19L'], ['MD Ipsi. Hem. (R)', '20_AC19R']]"
   ]
  },
  {
   "cell_type": "code",
   "execution_count": 4,
   "id": "0561c2a2",
   "metadata": {},
   "outputs": [],
   "source": [
    "# Biological Replicate Samples to Compare \n",
    "bioRepComparisonLst = [['Control', '7_VC24L', '9_VC23L'], ['Control', '8_AC24L', '14_AC23L'], \n",
    "                       ['Deafened', '5_VC22L', '10_VC25L'], ['Deafened', '6_AC22L', '13_AC25L'], \n",
    "                       ['MD Contra. Hem. (L)', '16_VC19L', '1_VC20L'], ['MD Contra. Hem. (L)', '19_AC19L', '2_AC20L'], \n",
    "                       ['MD Ipsi. Hem. (R)', '17_VC19R', '3_VC20R'], ['MD Ipsi. Hem. (R)', '20_AC19R', '4_AC20R']]"
   ]
  },
  {
   "cell_type": "code",
   "execution_count": 5,
   "id": "e3b8228e",
   "metadata": {},
   "outputs": [],
   "source": [
    "# Plasticity Samples to Compare \n",
    "plastComparLst = [['VC Deaf vs. Control', '5_VC22L', '7_VC24L'], ['VC Deaf vs. Control', '5_VC22L', '9_VC23L'], \n",
    "                  ['VC Deaf vs. Control', '10_VC25L', '7_VC24L'], ['VC Deaf vs. Control', '10_VC25L', '9_VC23L'],\n",
    "                  ['AC Deaf vs. Control', '6_AC22L', '8_AC24L'], ['AC Deaf vs. Control', '6_AC22L', '14_AC23L'],\n",
    "                  ['AC Deaf vs. Control', '13_AC25L', '8_AC24L'], ['AC Deaf vs. Control', '13_AC25L', '14_AC23L'],\n",
    "                  ['VC MD vs. Control', '16_VC19L', '7_VC24L'], ['VC MD vs. Control', '16_VC19L', '9_VC23L'],\n",
    "                  ['VC MD vs. Control', '1_VC20L', '7_VC24L'], ['VC MD vs. Control', '1_VC20L', '9_VC23L'],\n",
    "                  ['AC MD vs. Control', '19_AC19L', '8_AC24L'], ['AC MD vs. Control', '19_AC19L', '14_AC23L'],\n",
    "                  ['AC MD vs. Control', '2_AC20L', '8_AC24L'], ['AC MD vs. Control', '2_AC20L', '14_AC23L']]"
   ]
  },
  {
   "cell_type": "code",
   "execution_count": 6,
   "id": "ec76f2b7",
   "metadata": {},
   "outputs": [],
   "source": [
    "# Hemispheric Samples to Compare \n",
    "hemComparLst = [['VC Contra (L) vs. Ipsi Hem (R)', '16_VC19L', '17_VC19R'], \n",
    "                ['AC Contra (L) vs. Ipsi Hem (R)', '19_AC19L', '20_AC19R'], \n",
    "                ['VC Contra (L) vs. Ipsi Hem (R)', '1_VC20L', '3_VC20R'], \n",
    "                ['AC Contra (L) vs. Ipsi Hem (R)', '2_AC20L','4_AC20R']]"
   ]
  },
  {
   "cell_type": "markdown",
   "id": "d55a5f48",
   "metadata": {},
   "source": [
    "# General Calculation Functions"
   ]
  },
  {
   "cell_type": "code",
   "execution_count": 2,
   "id": "d0bf8d84",
   "metadata": {},
   "outputs": [],
   "source": [
    "# Reads dictionaries that have been saved in .pkl files \n",
    "def readDict(filePath):\n",
    "    with open(filePath, 'rb') as file:\n",
    "        dictionary = pickle.load(file)\n",
    "    return(dictionary)"
   ]
  },
  {
   "cell_type": "code",
   "execution_count": null,
   "id": "3ba43bd5",
   "metadata": {},
   "outputs": [],
   "source": [
    "# Sorts the list of cluster numbers in increasing order\n",
    "def sortClust(clusterStrLst):\n",
    "    # Turns list of cluster number strings into intigers \n",
    "    clusterNumLst = [int(string) for string in clusterStrLst]\n",
    "    #sorts numbers \n",
    "    clusterNumLst.sort()\n",
    "    # Turns numbers into strings again \n",
    "    sortedClusterStrLst = [str(num) for num in clusterNumLst]\n",
    "    \n",
    "    return(sortedClusterStrLst)"
   ]
  },
  {
   "cell_type": "code",
   "execution_count": null,
   "id": "61dd72ef",
   "metadata": {},
   "outputs": [],
   "source": [
    "# This function finds the path to the files using a keyword (Chat GBT)\n",
    "def search_files(folder_path, keyword):\n",
    "    matches = []\n",
    "    for root, dirnames, filenames in os.walk(folder_path):\n",
    "        for filename in filenames:\n",
    "            if fnmatch.fnmatch(filename, f'*{keyword}*'):\n",
    "                matches.append(os.path.join(root, filename))\n",
    "    return matches"
   ]
  },
  {
   "cell_type": "code",
   "execution_count": null,
   "id": "3d0d0e07",
   "metadata": {},
   "outputs": [],
   "source": [
    "def mouseSex(sampleName):\n",
    "    for mouseInfo in mouseSexLst:\n",
    "        mouseNum = mouseInfo[0]\n",
    "        mouseSex = mouseInfo[1]\n",
    "        \n",
    "        if mouseNum in sampleName: return mouseSex"
   ]
  },
  {
   "cell_type": "code",
   "execution_count": 1,
   "id": "31c55b5c",
   "metadata": {},
   "outputs": [],
   "source": [
    "def comparingSex(sample1_name, sample2_name):\n",
    "    \n",
    "    sample1_sex = mouseSex(sample1_name)\n",
    "    sample2_sex = mouseSex(sample2_name)\n",
    "    \n",
    "    if sample1_sex[0] == sample2_sex[0]: return(True)\n",
    "    else: return(False)"
   ]
  },
  {
   "cell_type": "code",
   "execution_count": null,
   "id": "f2bc4222",
   "metadata": {},
   "outputs": [],
   "source": [
    "# This function checks whether a file exists in a given path \n",
    "def check_file_exists(folder_path, file_name):\n",
    "    file_path = os.path.join(folder_path, file_name)\n",
    "    if os.path.exists(file_path):\n",
    "        return True\n",
    "    else:\n",
    "        return False"
   ]
  },
  {
   "cell_type": "code",
   "execution_count": null,
   "id": "05cb698a",
   "metadata": {},
   "outputs": [],
   "source": [
    "# Saves a list onto a .TXT file (Chat GBT)\n",
    "def save_list_to_file(lst, file_path):\n",
    "    with open(file_path, 'w') as file:\n",
    "        for item in lst:\n",
    "            file.write(str(item) + '\\n')"
   ]
  },
  {
   "cell_type": "code",
   "execution_count": null,
   "id": "4f063613",
   "metadata": {},
   "outputs": [],
   "source": [
    "# Loads a list from a .TXT file (Chat GBT)\n",
    "def load_list_from_file(file_path):\n",
    "    with open(file_path, 'r') as file:\n",
    "        lst = [line.strip() for line in file]\n",
    "    return lst"
   ]
  },
  {
   "cell_type": "code",
   "execution_count": null,
   "id": "95e7d3a8",
   "metadata": {},
   "outputs": [],
   "source": [
    "# Adding the specified DE Score to the given AnnData File\n",
    "    # sampleObj = AnnData object you want to add the DE score to\n",
    "    # divideby = string of the category in data.obs you want to divide the sample by \n",
    "    # cat1 = string of one of the two categories in the divide by data.vars column\n",
    "    # cat2 = string of the other of the two categories in the divide by data.vars column \n",
    "def addingDEscore(sampleObj, divideby, cat1, cat2):\n",
    "    \n",
    "    # Adds missing field to 'data.uns' that is necessary for running the ranked_sum_genes function\n",
    "    sampleObj.uns['log1p'] = {'base': None}\n",
    "\n",
    "    # Calculating DE Scores \n",
    "    sc.tl.rank_genes_groups(sampleObj, divideby, method='wilcoxon')\n",
    "\n",
    "    # Getting DE Info \n",
    "    score_df = pd.DataFrame(sampleObj.uns['rank_genes_groups']['scores'])\n",
    "    geneName_df = pd.DataFrame(sampleObj.uns['rank_genes_groups']['names'])\n",
    "\n",
    "    # Renaming the columns of each Data Frame \n",
    "    geneName_df = geneName_df.rename(columns={cat1: f'{cat1} GeneName'})\n",
    "    geneName_df = geneName_df.rename(columns={cat2: f'{cat2} GeneName'})\n",
    "    score_df = score_df.rename(columns={cat1: f'{cat1} Score'})\n",
    "    score_df = score_df.rename(columns={cat2: f'{cat2} Score'})\n",
    "\n",
    "    # Concatenating the two Data Frames\n",
    "    cat1_df = pd.concat([geneName_df[f'{cat1} GeneName'], score_df[f'{cat1} Score']], axis=1)\n",
    "    cat2_df = pd.concat([geneName_df[f'{cat2} GeneName'], score_df[f'{cat2} Score']], axis=1)\n",
    "\n",
    "    # Adding an Index Column to the Data Frames\n",
    "    cat1_df.index = cat1_df[f'{cat1} GeneName']\n",
    "    cat2_df.index = cat2_df[f'{cat2} GeneName']\n",
    "\n",
    "    # Reordering the Data Frames According to the Gene Names in the AnnData Object \n",
    "    refGeneLst = list(sampleObj.var_names)\n",
    "    reordered_cat1_df = cat1_df.reindex(refGeneLst)\n",
    "    reordered_cat2_df = cat2_df.reindex(refGeneLst)\n",
    "\n",
    "    sampleObj.var[f'{cat1}_DE_Score'] = reordered_cat1_df[f'{cat1} Score']\n",
    "    sampleObj.var[f'{cat2}_DE_Score'] = reordered_cat2_df[f'{cat2} Score']\n",
    "\n",
    "    return sampleObj"
   ]
  },
  {
   "cell_type": "code",
   "execution_count": null,
   "id": "f24b726d",
   "metadata": {},
   "outputs": [],
   "source": [
    "# Halves the sample data \n",
    "    # data = the sample AnnData object you want to halve randomly \n",
    "    # seed = number use to randomly permutate the rows of data.obs, they are used to produce reproducible randomizations\n",
    "        # put 'None' if you do not have seeds you've previously used\n",
    "        # else, put the numer of the seed you previously used \n",
    "def halvingData(data, seed):\n",
    "    #Set a random number for the seed, unless you input a seed you want to use to reproduce reuslts \n",
    "    if seed == None: seedUsed = np.random.randint(1, 100)\n",
    "    else: seedUsed = seed \n",
    "    \n",
    "    # Set a random seed for reproducibility \n",
    "    np.random.seed(seedUsed)\n",
    "\n",
    "    # Get the number of cells in the dataset\n",
    "    n_cells = data.n_obs\n",
    "\n",
    "    # Create a random permutation of the cell indices\n",
    "    permuted_indices = np.random.permutation(n_cells)\n",
    "\n",
    "    # Split the indices in half\n",
    "    halfway_point = int(n_cells / 2)\n",
    "    indices_half1 = permuted_indices[:halfway_point]\n",
    "    indices_half2 = permuted_indices[halfway_point:]\n",
    "\n",
    "    # Create two new AnnData objects using the split indices\n",
    "    data_half1 = data[indices_half1]\n",
    "    data_half2 = data[indices_half2]\n",
    "    \n",
    "    return (data_half1, data_half2, str(seedUsed))"
   ]
  },
  {
   "cell_type": "markdown",
   "id": "23fa0958",
   "metadata": {},
   "source": [
    "# General Plotting Functions"
   ]
  },
  {
   "cell_type": "code",
   "execution_count": null,
   "id": "97e5632f",
   "metadata": {},
   "outputs": [],
   "source": [
    "# Create Ranked Gene Plot\n",
    "    # sampleObj = AnnData object you want to create the DE graph for\n",
    "    # condition1 = string of the category to want to make the DE graph for\n",
    "    # condition2 = string of the \n",
    "def deGraph(sampleObj, condition1, condition2, plotTitle_fontSize, ax):\n",
    "\n",
    "    # Extract the gene names and scores for plotting\n",
    "    gene_names = sampleObj.uns['rank_genes_groups']['names'][condition1][:20]\n",
    "    scores = sampleObj.uns['rank_genes_groups']['scores'][condition1][:20]\n",
    "\n",
    "    # Plot the bar chart on the subplot\n",
    "    x = np.arange(len(gene_names))\n",
    "    ax.scatter(x, scores, c='white')\n",
    "    ax.set_ylim(top = (max(scores)+20))\n",
    "    \n",
    "    # Add gene names as labels to the data points\n",
    "    for i, gene in enumerate(gene_names):\n",
    "        ax.text(i, scores[i], gene, ha='center', va='bottom', rotation=90)\n",
    "    \n",
    "    # Font Size Params\n",
    "#     plotTitle_fontSize = 25\n",
    "    axisLabel_fontSize = 17\n",
    "    tickLabel_fontSize = 15\n",
    "    \n",
    "    # Customizing the Axis\n",
    "    ax.set_xticks(x)\n",
    "    ax.set_xlabel('Genes')\n",
    "#     ax.tick_params(axis='x', labelsize=tickLabel_fontSize)\n",
    "    \n",
    "    ax.set_ylabel('Score')\n",
    "#     ax.tick_params(axis='y', labelsize=tickLabel_fontSize)\n",
    "    \n",
    "    # Adding Plot Title Accordingly\n",
    "    ax.set_title(f'Rank Genes Groups: {condition1} vs. {condition2}', fontsize=plotTitle_fontSize)\n",
    "     "
   ]
  },
  {
   "cell_type": "code",
   "execution_count": null,
   "id": "d4addf45",
   "metadata": {},
   "outputs": [],
   "source": [
    "def labeledClusteredUmap(sampleObj, color, label, plotTitle_fontSize, ax): \n",
    "    # Clustered UMAP Seperated by Sex \n",
    "    if label != 'on margin':\n",
    "        sc.pl.umap(sampleObj, color = color, show = False, ax=ax)\n",
    "    else:\n",
    "        sc.pl.umap(sampleObj, color = color, legend_loc = 'right margin',  show = False, ax=ax)\n",
    "    \n",
    "    # Adding the cluster numbers to the graph (when the color is not set to 'leiden_0.3' the cluster nums are not disp.)\n",
    "    for i, cluster in enumerate(sampleObj.obs['leiden_0.3'].cat.categories):\n",
    "        x = st.median(sampleObj.obsm['X_umap'][sampleObj.obs['leiden_0.3'] == cluster, 0])\n",
    "        y = st.median(sampleObj.obsm['X_umap'][sampleObj.obs['leiden_0.3'] == cluster, 1])\n",
    "        ax.text(x, y, cluster, fontsize=10, ha='center', va='center', fontweight='heavy')\n",
    "    ax.set_title(f'Clustered UMAP Divided by {color}', fontsize=plotTitle_fontSize)\n",
    "    \n",
    "    # Adding legend to the plot\n",
    "    if label == 'sex':\n",
    "        patchA = mpatches.Patch(color='tab:blue', label='Male Samples')\n",
    "        patchB = mpatches.Patch(color='tab:orange', label='Female Samples')\n",
    "        ax.legend(handles=[patchA, patchB], loc='upper left')\n",
    "    \n",
    "    axisLabel_fontSize = 15\n",
    "    \n",
    "    ax.set_xlabel('UMAP1', fontsize=axisLabel_fontSize)\n",
    "    ax.set_ylabel('UMAP2', fontsize=axisLabel_fontSize)"
   ]
  }
 ],
 "metadata": {
  "kernelspec": {
   "display_name": "Python 3 (ipykernel)",
   "language": "python",
   "name": "python3"
  },
  "language_info": {
   "codemirror_mode": {
    "name": "ipython",
    "version": 3
   },
   "file_extension": ".py",
   "mimetype": "text/x-python",
   "name": "python",
   "nbconvert_exporter": "python",
   "pygments_lexer": "ipython3",
   "version": "3.10.8"
  }
 },
 "nbformat": 4,
 "nbformat_minor": 5
}
