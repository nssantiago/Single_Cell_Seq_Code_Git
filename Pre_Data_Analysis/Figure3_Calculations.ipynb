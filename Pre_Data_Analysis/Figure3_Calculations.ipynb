{
 "cells": [
  {
   "cell_type": "code",
   "execution_count": null,
   "id": "81d1238b",
   "metadata": {},
   "outputs": [],
   "source": [
    "import anndata, pickle, os, fnmatch, math\n",
    "import scanpy as sc\n",
    "import numpy as np\n",
    "import pandas as pd "
   ]
  },
  {
   "cell_type": "code",
   "execution_count": null,
   "id": "7871b16c",
   "metadata": {},
   "outputs": [],
   "source": [
    "'''IMPORTING NECESSARY FUNCTIONS FROM GENERAL FUNCTION FILE'''\n",
    "\n",
    "%run GeneralFunctions.ipynb\n",
    "%run Figure3_Functions.ipynb"
   ]
  },
  {
   "cell_type": "code",
   "execution_count": null,
   "id": "bdedd6f8",
   "metadata": {},
   "outputs": [],
   "source": [
    "sampleComparLst = sampleNameConditionLst\n",
    "folderPath = 'F:/SampleData/IndividualSamples/'\n",
    "savePath = 'F:/FigureCalculations/Figure3/WithinSample/'\n",
    "\n",
    "savingDiffScatter(sampleComparLst, folderPath, savePath)"
   ]
  },
  {
   "cell_type": "code",
   "execution_count": null,
   "id": "c2fedab6",
   "metadata": {},
   "outputs": [],
   "source": [
    "sampleComparLst = bioRepComparisonLst\n",
    "folderPath = 'F:/SampleData/BiologicalReplicaSamples/'\n",
    "savePath = 'F:/FigureCalculations/Figure3/BiologicalReplicas/'\n",
    "\n",
    "savingDiffScatter(sampleComparLst, folderPath, savePath)"
   ]
  },
  {
   "cell_type": "code",
   "execution_count": null,
   "id": "07f451fd",
   "metadata": {},
   "outputs": [],
   "source": [
    "sampleComparLst = plastComparLst\n",
    "folderPath = 'F:/SampleData/PlasticityComparisons/'\n",
    "savePath = 'F:/FigureCalculations/Figure3/PlasticityComparisons/'\n",
    "\n",
    "savingDiffScatter(sampleComparLst, folderPath, savePath)"
   ]
  },
  {
   "cell_type": "code",
   "execution_count": null,
   "id": "d7c9e867",
   "metadata": {},
   "outputs": [],
   "source": []
  }
 ],
 "metadata": {
  "kernelspec": {
   "display_name": "Python 3 (ipykernel)",
   "language": "python",
   "name": "python3"
  },
  "language_info": {
   "codemirror_mode": {
    "name": "ipython",
    "version": 3
   },
   "file_extension": ".py",
   "mimetype": "text/x-python",
   "name": "python",
   "nbconvert_exporter": "python",
   "pygments_lexer": "ipython3",
   "version": "3.10.8"
  }
 },
 "nbformat": 4,
 "nbformat_minor": 5
}
