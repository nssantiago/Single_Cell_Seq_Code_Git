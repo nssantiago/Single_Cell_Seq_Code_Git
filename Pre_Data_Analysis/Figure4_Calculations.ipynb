{
 "cells": [
  {
   "cell_type": "code",
   "execution_count": 5,
   "id": "02f05d6d",
   "metadata": {},
   "outputs": [],
   "source": [
    "import anndata, pickle, os, fnmatch, math \n",
    "import scanpy as sc\n",
    "import numpy as np\n",
    "import pandas as pd \n",
    "import cProfile\n",
    "import seaborn as sns\n",
    "import matplotlib.pyplot as plt"
   ]
  },
  {
   "cell_type": "code",
   "execution_count": 6,
   "id": "a0646074",
   "metadata": {},
   "outputs": [],
   "source": [
    "'''IMPORTING FUNCTIONS FROM GENERAL FUNCTION FILE'''\n",
    "\n",
    "%run GeneralFunctions.ipynb"
   ]
  },
  {
   "cell_type": "code",
   "execution_count": 7,
   "id": "768778a2",
   "metadata": {},
   "outputs": [],
   "source": [
    "# Adding QC Metrics and DE Score to each Individual AnnData File\n",
    "    # sampleComparLst = list with lists of comparisons to make \n",
    "        # example format: [['condition of 1 and 2', 'sample1', 'sample2']['condition of 3 and 4', 'sample3', 'sample4']...]\n",
    "    # folderName = string of the folder name where the AnnData object you want to use are located in \n",
    "    # saveFolderName = string of the folder name where you want to store your new AnnData objects \n",
    "def addingQCandDEscore(sampleComparLst, folderName, saveFolderName):\n",
    "    for sampleLst in sampleComparLst:\n",
    "        if len(sampleLst) == 2:\n",
    "            sampleName = sampleLst[1]\n",
    "            sample1_name = f'{sampleName} Half 1'\n",
    "            sample2_name = f'{sampleName} Half 2'\n",
    "            \n",
    "            fileName = sampleName\n",
    "            divideby = 'Half'\n",
    "            \n",
    "        else:\n",
    "            condition = sampleLst[0]\n",
    "            sample1_name = sampleLst[1]\n",
    "            sample2_name = sampleLst[2]\n",
    "            \n",
    "            fileName = f'{condition}_{sample1_name}_{sample2_name}'\n",
    "            divideby = 'sample'\n",
    "        \n",
    "        obj = sc.read(f'F:/SampleData/{folderName}/{fileName}.h5ad')\n",
    "        clustLst = list(np.unique(obj.obs['leiden_0.3']))\n",
    "        sortedClustLst = sortClust(clustLst)\n",
    "        \n",
    "        for clust in sortedClustLst: \n",
    "            clustObj = obj[obj.obs['leiden_0.3'].isin([clust]),:]\n",
    "            \n",
    "            sample1_nucAmount = list(clustObj.obs[divideby]).count(sample1_name)\n",
    "            sample2_nucAmount = list(clustObj.obs[divideby]).count(sample2_name)\n",
    "            print(clust, sample1_nucAmount, sample2_nucAmount)\n",
    "            \n",
    "            if (sample1_nucAmount > 1) and (sample2_nucAmount > 1):\n",
    "                # Adds missing field to 'data.uns' that is necessary for running the ranked_sum_genes function\n",
    "                clustObj.uns['log1p'] = {'base': None}\n",
    "\n",
    "                print(clust, clustObj.n_obs, clustObj.n_vars)\n",
    "\n",
    "                sc.pp.calculate_qc_metrics(clustObj, percent_top=None, log1p=False, inplace=True)\n",
    "                sc.tl.rank_genes_groups(clustObj, divideby, method='wilcoxon')\n",
    "\n",
    "                score_df = pd.DataFrame(clustObj.uns['rank_genes_groups']['scores'])\n",
    "                geneName_df = pd.DataFrame(clustObj.uns['rank_genes_groups']['names'])\n",
    "\n",
    "                geneName_df = geneName_df.rename(columns={sample1_name: f'{sample1_name} GeneName'})\n",
    "                geneName_df = geneName_df.rename(columns={sample2_name: f'{sample2_name} GeneName'})\n",
    "                score_df = score_df.rename(columns={sample1_name: f'{sample1_name} Score'})\n",
    "                score_df = score_df.rename(columns={sample2_name: f'{sample2_name} Score'})\n",
    "\n",
    "                half1_df = pd.concat([geneName_df[f'{sample1_name} GeneName'], score_df[f'{sample1_name} Score']], axis=1)\n",
    "                half2_df = pd.concat([geneName_df[f'{sample2_name} GeneName'], score_df[f'{sample2_name} Score']], axis=1)\n",
    "\n",
    "                half1_df.index = half1_df[f'{sample1_name} GeneName']\n",
    "                half2_df.index = half2_df[f'{sample2_name} GeneName']\n",
    "\n",
    "                refGeneLst = list(obj.var_names)\n",
    "                reordered_half1_df = half1_df.reindex(refGeneLst)\n",
    "                reordered_half2_df = half2_df.reindex(refGeneLst)\n",
    "\n",
    "                clustObj.var[f'{sample1_name}_DE_Score'] = reordered_half1_df[f'{sample1_name} Score']\n",
    "                clustObj.var[f'{sample2_name}_DE_Score'] = reordered_half2_df[f'{sample2_name} Score']\n",
    "\n",
    "                clustObj.write(f'F:/SampleData/{saveFolderName}/{fileName}_{clust}.h5ad')\n",
    "\n",
    "# Calculates how many genes per cluster in each sample comparison are DE according to DE Score and gene exp fold change\n",
    "def thresholdDEGenes(sampleComparLst, folderName, savePath):\n",
    "    diffExpGenesDict = {}\n",
    "    \n",
    "    for sampleLst in sampleComparLst:\n",
    "        if len(sampleLst) == 2:\n",
    "            sampleName = sampleLst[1]\n",
    "            sample1_name = f'{sampleName} Half 1'\n",
    "            sample2_name = f'{sampleName} Half 2'\n",
    "            \n",
    "            sampleFileName = sampleName\n",
    "            dictName = sampleName\n",
    "            divideby = 'Half'\n",
    "            \n",
    "        else:\n",
    "            condition = sampleLst[0]\n",
    "            sample1_name = sampleLst[1]\n",
    "            sample2_name = sampleLst[2]\n",
    "            \n",
    "            sampleFileName = f'{condition}_{sample1_name}_{sample2_name}'\n",
    "            dictName = f'{sample1_name}_{sample2_name}'\n",
    "            divideby = 'sample'\n",
    "        \n",
    "        obj = sc.read(f'F:/SampleData/{folderName}/{sampleFileName}.h5ad')\n",
    "        clustLst = list(np.unique(obj.obs['leiden_0.3']))\n",
    "        sortedClustLst = sortClust(clustLst)\n",
    "        \n",
    "        for clust in sortedClustLst:\n",
    "            \n",
    "            folderPath = f'F:/SampleData/{folderName}_Clusters/'\n",
    "            fileName = f'{sampleFileName}_{clust}.h5ad'\n",
    "            if check_file_exists(folderPath, fileName):\n",
    "            \n",
    "                clustObj = sc.read(f'F:/SampleData/{folderName}_Clusters/{sampleFileName}_{clust}.h5ad')\n",
    "\n",
    "                lessThan = (clustObj.var[f'{sample1_name}_DE_Score'] < -10) # DE SCORE 20 original\n",
    "                greaterThan = (clustObj.var[fr'{sample1_name}_DE_Score'] > 10) # DE SCORE -20 original\n",
    "\n",
    "                if (True in list(np.unique(lessThan))) or (True in list(np.unique(greaterThan))):\n",
    "                    nucCount = 0\n",
    "\n",
    "                    sample1_obj = clustObj[clustObj.obs[divideby].isin([sample1_name]),:]\n",
    "                    sample2_obj = clustObj[clustObj.obs[divideby].isin([sample2_name]),:]\n",
    "\n",
    "                    sample1_geneExpression = sample1_obj.X.toarray()\n",
    "                    sample1_meanGeneExpression = list(np.mean(sample1_geneExpression, axis=0))\n",
    "\n",
    "                    sample2_geneExpression = sample2_obj.X.toarray()\n",
    "                    sample2_meanGeneExpression = list(np.mean(sample2_geneExpression, axis=0))\n",
    "\n",
    "                    lessThanIdx = [index for index, value in enumerate(lessThan) if value == True]\n",
    "                    greaterThanIdx = [index for index, value in enumerate(greaterThan) if value == True]\n",
    "                    idxLst = list(np.unique(lessThanIdx + greaterThanIdx))\n",
    "\n",
    "                    for idx in idxLst:\n",
    "                        sample1_exp = sample1_meanGeneExpression[idx]\n",
    "                        sample2_exp = sample2_meanGeneExpression[idx]\n",
    "\n",
    "                        if sample1_exp == 0 or sample2_exp == 0: \n",
    "                            nucCount += 1\n",
    "\n",
    "                        elif sample1_exp != 0 and sample2_exp != 0:\n",
    "                            div = sample1_exp / sample2_exp\n",
    "                            if div > 2 or div < 0.5: \n",
    "                                nucCount += 1\n",
    "\n",
    "                    if dictName not in (diffExpGenesDict.keys()):\n",
    "                        diffExpGenesDict[dictName] = [nucCount]\n",
    "                    else:\n",
    "                        diffExpGenesDict[dictName].append(nucCount)\n",
    "                else:\n",
    "                    if dictName not in (diffExpGenesDict.keys()):\n",
    "                        diffExpGenesDict[dictName] = [0]\n",
    "                    else:\n",
    "                        diffExpGenesDict[dictName].append(0)\n",
    "            else:\n",
    "                if dictName not in (diffExpGenesDict.keys()):\n",
    "                    diffExpGenesDict[dictName] = [-5]\n",
    "                else:\n",
    "                    diffExpGenesDict[dictName].append(-5)\n",
    "    print(diffExpGenesDict)\n",
    "    with open(savePath, 'wb') as file:\n",
    "        pickle.dump(diffExpGenesDict, file)\n",
    "\n",
    "def calculatingFoldChange(sampleComparLst, folderName, savePath):\n",
    "    foldChangeDict = {}\n",
    "    \n",
    "    for sampleLst in sampleComparLst:\n",
    "        if len(sampleLst) == 2:\n",
    "            sampleName = sampleLst[1]\n",
    "            sample1_name = f'{sampleName} Half 1'\n",
    "            sample2_name = f'{sampleName} Half 2'\n",
    "            \n",
    "            dictName = sampleName\n",
    "            divideby = 'Half'\n",
    "            \n",
    "        else:\n",
    "            condition = sampleLst[0]\n",
    "            sample1_name = sampleLst[1]\n",
    "            sample2_name = sampleLst[2]\n",
    "            \n",
    "            dictName = f'{condition}_{sample1_name}_{sample2_name}'\n",
    "            divideby = 'sample'\n",
    "        \n",
    "        obj = sc.read(f'F:/SampleData/{folderName}/{dictName}.h5ad')\n",
    "        clustLst = list(np.unique(obj.obs['leiden_0.3']))\n",
    "        sortedClustLst = sortClust(clustLst)\n",
    "\n",
    "        for clust in sortedClustLst: \n",
    "            clustObj = obj[obj.obs['leiden_0.3'].isin([clust]),:]\n",
    "\n",
    "            sample1_obj = clustObj[clustObj.obs[divideby].isin([sample1_name]),:]\n",
    "            sample2_obj = clustObj[clustObj.obs[divideby].isin([sample2_name]),:]\n",
    "        \n",
    "        sample1_geneExpression = sample1_obj.X.toarray()\n",
    "        sample1_meanGeneExpression = list(np.mean(sample1_geneExpression, axis=0))\n",
    "\n",
    "        sample2_geneExpression = sample2_obj.X.toarray()\n",
    "        sample2_meanGeneExpression = list(np.mean(sample2_geneExpression, axis=0))\n",
    "        \n",
    "        for i in range(len(sample2_meanGeneExpression)):\n",
    "            sample1_exp = sample1_meanGeneExpression[i]\n",
    "            sample2_exp = sample2_meanGeneExpression[i]\n",
    "            \n",
    "            if sample1_exp == 0 and sample2_exp == 0:\n",
    "                div = 1\n",
    "            elif sample1_exp == 0 and sample2_exp != 0:\n",
    "                div = 0.1 / sample2_exp\n",
    "            elif sample1_exp != 0 and sample2_exp == 0:\n",
    "                div = sample1_exp / 0.1\n",
    "            else:\n",
    "                div = sample1_exp / sample2_exp\n",
    "        \n",
    "            if dictName not in (foldChangeDict.keys()):\n",
    "                foldChangeDict[dictName] = [div]\n",
    "            else:\n",
    "                foldChangeDict[dictName].append(div)\n",
    "    \n",
    "    with open(savePath, 'wb') as file:\n",
    "        pickle.dump(foldChangeDict, file)\n",
    "        \n",
    "def addingSexInfo(sexLst, sampleComparLst, folderName):\n",
    "    for sampleLst in sampleComparLst:\n",
    "        if len(sampleLst) == 2:\n",
    "            sampleName = sampleLst[1]\n",
    "            sampleSex = ''\n",
    "            \n",
    "            for lst in sexLst:\n",
    "                mouseNum = lst[0]\n",
    "                mouseSex = lst[1]\n",
    "                if mouseNum in sampleName: sampleSex = mouseSex\n",
    "            \n",
    "            obj = sc.read(f'F:/SampleData/{folderName}/{sampleName}.h5ad')\n",
    "            obj.obs['sex'] = sampleSex\n",
    "            obj.write(f'F:/SampleData/{folderName}/{sampleName}.h5ad')\n",
    "    \n",
    "        else:\n",
    "            condition = sampleLst[0]\n",
    "            sample1_name = sampleLst[1]\n",
    "            sample2_name = sampleLst[2]\n",
    "            sample1_sex = ''\n",
    "            sample2_sex = ''\n",
    "            \n",
    "            for lst in sexLst:\n",
    "                mouseNum = lst[0]\n",
    "                mouseSex = lst[1]\n",
    "                if mouseNum in sample1_name: sample1_sex = mouseSex\n",
    "                elif mouseNum in sample2_name: sample2_sex = mouseSex\n",
    "                    \n",
    "            fileName = f'{condition}_{sample1_name}_{sample2_name}'\n",
    "            obj = sc.read(f'F:/SampleData/{folderName}/{fileName}.h5ad')\n",
    "            \n",
    "            obj.obs['sex'] = [sample1_sex if sampleName == sample1_name else sample2_sex for sampleName in obj.obs['sample']]\n",
    "            obj.write(f'F:/SampleData/{folderName}/{fileName}.h5ad')"
   ]
  },
  {
   "cell_type": "code",
   "execution_count": 8,
   "id": "b510f184",
   "metadata": {},
   "outputs": [],
   "source": [
    "'''SAMPLE COMPARISON LISTS'''\n",
    "\n",
    "mouseSexLst = [['19', 'male'], ['20', 'male'], ['22', 'male'], ['23', 'female'], ['24', 'male'], ['25', 'female']]\n",
    "\n",
    "sampleNameLst = [['MD Contra. Hem. (L)', '1_VC20L'], ['MD Contra. Hem. (L)', '2_AC20L'], ['MD Ipsi. Hem. (R)', '3_VC20R'], \n",
    "                 ['MD Ipsi. Hem. (R)', '4_AC20R'], ['Deafened', '5_VC22L'], ['Deafened', '6_AC22L'], ['Control', '7_VC24L'],\n",
    "                 ['Control', '8_AC24L'], ['Control', '9_VC23L'], ['Deafened', '10_VC25L'], ['Deafened', '13_AC25L'], \n",
    "                 ['Control', '14_AC23L'], ['MD Contra. Hem. (L)', '16_VC19L'], ['MD Ipsi. Hem. (R)', '17_VC19R'], \n",
    "                 ['MD Contra. Hem. (L)', '19_AC19L'], ['MD Ipsi. Hem. (R)', '20_AC19R']]\n",
    "\n",
    "bioRepComparisonLst = [['Control', '7_VC24L', '9_VC23L'], ['Control', '8_AC24L', '14_AC23L'], \n",
    "                       ['Deafened', '5_VC22L', '10_VC25L'], ['Deafened', '6_AC22L', '13_AC25L'], \n",
    "                       ['MD Contra. Hem. (L)', '16_VC19L', '1_VC20L'], ['MD Contra. Hem. (L)', '19_AC19L', '2_AC20L'], \n",
    "                       ['MD Ipsi. Hem. (R)', '17_VC19R', '3_VC20R'], ['MD Ipsi. Hem. (R)', '20_AC19R', '4_AC20R']]\n",
    "\n",
    "plastComparLst = [['Deaf VC vs. Control VC', '5_VC22L', '7_VC24L'], ['Deaf VC vs. Control VC', '5_VC22L', '9_VC23L'], \n",
    "                  ['Deaf VC vs. Control VC', '10_VC25L', '7_VC24L'], ['Deaf VC vs. Control VC', '10_VC25L', '9_VC23L'],\n",
    "                  ['Deaf AC vs. Control AC', '6_AC22L', '8_AC24L'], ['Deaf AC vs. Control AC', '6_AC22L', '14_AC23L'],\n",
    "                  ['Deaf AC vs. Control AC', '13_AC25L', '8_AC24L'], ['Deaf AC vs. Control AC', '13_AC25L', '14_AC23L'],\n",
    "                  ['MD VC vs. Control VC', '16_VC19L', '7_VC24L'], ['MD VC vs. Control VC', '16_VC19L', '9_VC23L'],\n",
    "                  ['MD VC vs. Control VC', '1_VC20L', '7_VC24L'], ['MD VC vs. Control VC', '1_VC20L', '9_VC23L'],\n",
    "                  ['MD AC vs. Control AC', '19_AC19L', '8_AC24L'], ['MD AC vs. Control AC', '19_AC19L', '14_AC23L'],\n",
    "                  ['MD AC vs. Control AC', '2_AC20L', '8_AC24L'], ['MD AC vs. Control AC', '2_AC20L', '14_AC23L']]\n",
    "\n",
    "hemComparLst = [['VC Contra (L) vs. Ipsi Hem (R)', '16_VC19L', '17_VC19R'], \n",
    "                ['AC Contra (L) vs. Ipsi Hem (R)', '19_AC19L', '20_AC19R'], \n",
    "                ['VC Contra (L) vs. Ipsi Hem (R)', '1_VC20L', '3_VC20R'], \n",
    "                ['AC Contra (L) vs. Ipsi Hem (R)', '2_AC20L','4_AC20R']]"
   ]
  },
  {
   "cell_type": "markdown",
   "id": "080b8bb0",
   "metadata": {},
   "source": [
    "# Adding Sample Sex, QC, and DE Info "
   ]
  },
  {
   "cell_type": "code",
   "execution_count": 15,
   "id": "7fb2aa67",
   "metadata": {},
   "outputs": [
    {
     "name": "stderr",
     "output_type": "stream",
     "text": [
      "C:\\Users\\Hlab\\AppData\\Local\\Programs\\Python\\Python310\\lib\\site-packages\\anndata\\compat\\_overloaded_dict.py:106: ImplicitModificationWarning: Trying to modify attribute `._uns` of view, initializing view as actual.\n",
      "  self.data[key] = value\n",
      "C:\\Users\\Hlab\\AppData\\Local\\Programs\\Python\\Python310\\lib\\site-packages\\anndata\\compat\\_overloaded_dict.py:106: ImplicitModificationWarning: Trying to modify attribute `._uns` of view, initializing view as actual.\n",
      "  self.data[key] = value\n",
      "C:\\Users\\Hlab\\AppData\\Local\\Programs\\Python\\Python310\\lib\\site-packages\\anndata\\compat\\_overloaded_dict.py:106: ImplicitModificationWarning: Trying to modify attribute `._uns` of view, initializing view as actual.\n",
      "  self.data[key] = value\n",
      "C:\\Users\\Hlab\\AppData\\Local\\Programs\\Python\\Python310\\lib\\site-packages\\anndata\\compat\\_overloaded_dict.py:106: ImplicitModificationWarning: Trying to modify attribute `._uns` of view, initializing view as actual.\n",
      "  self.data[key] = value\n",
      "C:\\Users\\Hlab\\AppData\\Local\\Programs\\Python\\Python310\\lib\\site-packages\\anndata\\compat\\_overloaded_dict.py:106: ImplicitModificationWarning: Trying to modify attribute `._uns` of view, initializing view as actual.\n",
      "  self.data[key] = value\n",
      "C:\\Users\\Hlab\\AppData\\Local\\Programs\\Python\\Python310\\lib\\site-packages\\anndata\\compat\\_overloaded_dict.py:106: ImplicitModificationWarning: Trying to modify attribute `._uns` of view, initializing view as actual.\n",
      "  self.data[key] = value\n",
      "C:\\Users\\Hlab\\AppData\\Local\\Programs\\Python\\Python310\\lib\\site-packages\\anndata\\compat\\_overloaded_dict.py:106: ImplicitModificationWarning: Trying to modify attribute `._uns` of view, initializing view as actual.\n",
      "  self.data[key] = value\n",
      "C:\\Users\\Hlab\\AppData\\Local\\Programs\\Python\\Python310\\lib\\site-packages\\anndata\\compat\\_overloaded_dict.py:106: ImplicitModificationWarning: Trying to modify attribute `._uns` of view, initializing view as actual.\n",
      "  self.data[key] = value\n",
      "C:\\Users\\Hlab\\AppData\\Local\\Programs\\Python\\Python310\\lib\\site-packages\\anndata\\compat\\_overloaded_dict.py:106: ImplicitModificationWarning: Trying to modify attribute `._uns` of view, initializing view as actual.\n",
      "  self.data[key] = value\n",
      "C:\\Users\\Hlab\\AppData\\Local\\Programs\\Python\\Python310\\lib\\site-packages\\anndata\\compat\\_overloaded_dict.py:106: ImplicitModificationWarning: Trying to modify attribute `._uns` of view, initializing view as actual.\n",
      "  self.data[key] = value\n",
      "C:\\Users\\Hlab\\AppData\\Local\\Programs\\Python\\Python310\\lib\\site-packages\\anndata\\compat\\_overloaded_dict.py:106: ImplicitModificationWarning: Trying to modify attribute `._uns` of view, initializing view as actual.\n",
      "  self.data[key] = value\n",
      "C:\\Users\\Hlab\\AppData\\Local\\Programs\\Python\\Python310\\lib\\site-packages\\anndata\\compat\\_overloaded_dict.py:106: ImplicitModificationWarning: Trying to modify attribute `._uns` of view, initializing view as actual.\n",
      "  self.data[key] = value\n",
      "C:\\Users\\Hlab\\AppData\\Local\\Programs\\Python\\Python310\\lib\\site-packages\\anndata\\compat\\_overloaded_dict.py:106: ImplicitModificationWarning: Trying to modify attribute `._uns` of view, initializing view as actual.\n",
      "  self.data[key] = value\n",
      "C:\\Users\\Hlab\\AppData\\Local\\Programs\\Python\\Python310\\lib\\site-packages\\anndata\\compat\\_overloaded_dict.py:106: ImplicitModificationWarning: Trying to modify attribute `._uns` of view, initializing view as actual.\n",
      "  self.data[key] = value\n",
      "C:\\Users\\Hlab\\AppData\\Local\\Programs\\Python\\Python310\\lib\\site-packages\\anndata\\compat\\_overloaded_dict.py:106: ImplicitModificationWarning: Trying to modify attribute `._uns` of view, initializing view as actual.\n",
      "  self.data[key] = value\n",
      "C:\\Users\\Hlab\\AppData\\Local\\Programs\\Python\\Python310\\lib\\site-packages\\anndata\\compat\\_overloaded_dict.py:106: ImplicitModificationWarning: Trying to modify attribute `._uns` of view, initializing view as actual.\n",
      "  self.data[key] = value\n",
      "C:\\Users\\Hlab\\AppData\\Local\\Programs\\Python\\Python310\\lib\\site-packages\\anndata\\compat\\_overloaded_dict.py:106: ImplicitModificationWarning: Trying to modify attribute `._uns` of view, initializing view as actual.\n",
      "  self.data[key] = value\n",
      "C:\\Users\\Hlab\\AppData\\Local\\Programs\\Python\\Python310\\lib\\site-packages\\anndata\\compat\\_overloaded_dict.py:106: ImplicitModificationWarning: Trying to modify attribute `._uns` of view, initializing view as actual.\n",
      "  self.data[key] = value\n",
      "C:\\Users\\Hlab\\AppData\\Local\\Programs\\Python\\Python310\\lib\\site-packages\\anndata\\compat\\_overloaded_dict.py:106: ImplicitModificationWarning: Trying to modify attribute `._uns` of view, initializing view as actual.\n",
      "  self.data[key] = value\n",
      "C:\\Users\\Hlab\\AppData\\Local\\Programs\\Python\\Python310\\lib\\site-packages\\anndata\\compat\\_overloaded_dict.py:106: ImplicitModificationWarning: Trying to modify attribute `._uns` of view, initializing view as actual.\n",
      "  self.data[key] = value\n",
      "C:\\Users\\Hlab\\AppData\\Local\\Programs\\Python\\Python310\\lib\\site-packages\\anndata\\compat\\_overloaded_dict.py:106: ImplicitModificationWarning: Trying to modify attribute `._uns` of view, initializing view as actual.\n",
      "  self.data[key] = value\n",
      "C:\\Users\\Hlab\\AppData\\Local\\Programs\\Python\\Python310\\lib\\site-packages\\anndata\\compat\\_overloaded_dict.py:106: ImplicitModificationWarning: Trying to modify attribute `._uns` of view, initializing view as actual.\n",
      "  self.data[key] = value\n",
      "C:\\Users\\Hlab\\AppData\\Local\\Programs\\Python\\Python310\\lib\\site-packages\\anndata\\compat\\_overloaded_dict.py:106: ImplicitModificationWarning: Trying to modify attribute `._uns` of view, initializing view as actual.\n",
      "  self.data[key] = value\n",
      "C:\\Users\\Hlab\\AppData\\Local\\Programs\\Python\\Python310\\lib\\site-packages\\anndata\\compat\\_overloaded_dict.py:106: ImplicitModificationWarning: Trying to modify attribute `._uns` of view, initializing view as actual.\n",
      "  self.data[key] = value\n",
      "C:\\Users\\Hlab\\AppData\\Local\\Programs\\Python\\Python310\\lib\\site-packages\\anndata\\compat\\_overloaded_dict.py:106: ImplicitModificationWarning: Trying to modify attribute `._uns` of view, initializing view as actual.\n",
      "  self.data[key] = value\n",
      "C:\\Users\\Hlab\\AppData\\Local\\Programs\\Python\\Python310\\lib\\site-packages\\anndata\\compat\\_overloaded_dict.py:106: ImplicitModificationWarning: Trying to modify attribute `._uns` of view, initializing view as actual.\n",
      "  self.data[key] = value\n",
      "C:\\Users\\Hlab\\AppData\\Local\\Programs\\Python\\Python310\\lib\\site-packages\\anndata\\compat\\_overloaded_dict.py:106: ImplicitModificationWarning: Trying to modify attribute `._uns` of view, initializing view as actual.\n",
      "  self.data[key] = value\n",
      "C:\\Users\\Hlab\\AppData\\Local\\Programs\\Python\\Python310\\lib\\site-packages\\anndata\\compat\\_overloaded_dict.py:106: ImplicitModificationWarning: Trying to modify attribute `._uns` of view, initializing view as actual.\n",
      "  self.data[key] = value\n",
      "C:\\Users\\Hlab\\AppData\\Local\\Programs\\Python\\Python310\\lib\\site-packages\\anndata\\compat\\_overloaded_dict.py:106: ImplicitModificationWarning: Trying to modify attribute `._uns` of view, initializing view as actual.\n",
      "  self.data[key] = value\n",
      "C:\\Users\\Hlab\\AppData\\Local\\Programs\\Python\\Python310\\lib\\site-packages\\anndata\\compat\\_overloaded_dict.py:106: ImplicitModificationWarning: Trying to modify attribute `._uns` of view, initializing view as actual.\n",
      "  self.data[key] = value\n",
      "C:\\Users\\Hlab\\AppData\\Local\\Programs\\Python\\Python310\\lib\\site-packages\\anndata\\compat\\_overloaded_dict.py:106: ImplicitModificationWarning: Trying to modify attribute `._uns` of view, initializing view as actual.\n",
      "  self.data[key] = value\n",
      "C:\\Users\\Hlab\\AppData\\Local\\Programs\\Python\\Python310\\lib\\site-packages\\anndata\\compat\\_overloaded_dict.py:106: ImplicitModificationWarning: Trying to modify attribute `._uns` of view, initializing view as actual.\n",
      "  self.data[key] = value\n",
      "C:\\Users\\Hlab\\AppData\\Local\\Programs\\Python\\Python310\\lib\\site-packages\\anndata\\compat\\_overloaded_dict.py:106: ImplicitModificationWarning: Trying to modify attribute `._uns` of view, initializing view as actual.\n",
      "  self.data[key] = value\n",
      "C:\\Users\\Hlab\\AppData\\Local\\Programs\\Python\\Python310\\lib\\site-packages\\anndata\\compat\\_overloaded_dict.py:106: ImplicitModificationWarning: Trying to modify attribute `._uns` of view, initializing view as actual.\n",
      "  self.data[key] = value\n",
      "C:\\Users\\Hlab\\AppData\\Local\\Programs\\Python\\Python310\\lib\\site-packages\\anndata\\compat\\_overloaded_dict.py:106: ImplicitModificationWarning: Trying to modify attribute `._uns` of view, initializing view as actual.\n",
      "  self.data[key] = value\n"
     ]
    },
    {
     "name": "stderr",
     "output_type": "stream",
     "text": [
      "C:\\Users\\Hlab\\AppData\\Local\\Programs\\Python\\Python310\\lib\\site-packages\\anndata\\compat\\_overloaded_dict.py:106: ImplicitModificationWarning: Trying to modify attribute `._uns` of view, initializing view as actual.\n",
      "  self.data[key] = value\n",
      "C:\\Users\\Hlab\\AppData\\Local\\Programs\\Python\\Python310\\lib\\site-packages\\anndata\\compat\\_overloaded_dict.py:106: ImplicitModificationWarning: Trying to modify attribute `._uns` of view, initializing view as actual.\n",
      "  self.data[key] = value\n",
      "C:\\Users\\Hlab\\AppData\\Local\\Programs\\Python\\Python310\\lib\\site-packages\\anndata\\compat\\_overloaded_dict.py:106: ImplicitModificationWarning: Trying to modify attribute `._uns` of view, initializing view as actual.\n",
      "  self.data[key] = value\n",
      "C:\\Users\\Hlab\\AppData\\Local\\Programs\\Python\\Python310\\lib\\site-packages\\anndata\\compat\\_overloaded_dict.py:106: ImplicitModificationWarning: Trying to modify attribute `._uns` of view, initializing view as actual.\n",
      "  self.data[key] = value\n",
      "C:\\Users\\Hlab\\AppData\\Local\\Programs\\Python\\Python310\\lib\\site-packages\\anndata\\compat\\_overloaded_dict.py:106: ImplicitModificationWarning: Trying to modify attribute `._uns` of view, initializing view as actual.\n",
      "  self.data[key] = value\n",
      "C:\\Users\\Hlab\\AppData\\Local\\Programs\\Python\\Python310\\lib\\site-packages\\anndata\\compat\\_overloaded_dict.py:106: ImplicitModificationWarning: Trying to modify attribute `._uns` of view, initializing view as actual.\n",
      "  self.data[key] = value\n",
      "C:\\Users\\Hlab\\AppData\\Local\\Programs\\Python\\Python310\\lib\\site-packages\\anndata\\compat\\_overloaded_dict.py:106: ImplicitModificationWarning: Trying to modify attribute `._uns` of view, initializing view as actual.\n",
      "  self.data[key] = value\n",
      "C:\\Users\\Hlab\\AppData\\Local\\Programs\\Python\\Python310\\lib\\site-packages\\anndata\\compat\\_overloaded_dict.py:106: ImplicitModificationWarning: Trying to modify attribute `._uns` of view, initializing view as actual.\n",
      "  self.data[key] = value\n",
      "C:\\Users\\Hlab\\AppData\\Local\\Programs\\Python\\Python310\\lib\\site-packages\\anndata\\compat\\_overloaded_dict.py:106: ImplicitModificationWarning: Trying to modify attribute `._uns` of view, initializing view as actual.\n",
      "  self.data[key] = value\n",
      "C:\\Users\\Hlab\\AppData\\Local\\Programs\\Python\\Python310\\lib\\site-packages\\anndata\\compat\\_overloaded_dict.py:106: ImplicitModificationWarning: Trying to modify attribute `._uns` of view, initializing view as actual.\n",
      "  self.data[key] = value\n",
      "C:\\Users\\Hlab\\AppData\\Local\\Programs\\Python\\Python310\\lib\\site-packages\\anndata\\compat\\_overloaded_dict.py:106: ImplicitModificationWarning: Trying to modify attribute `._uns` of view, initializing view as actual.\n",
      "  self.data[key] = value\n",
      "C:\\Users\\Hlab\\AppData\\Local\\Programs\\Python\\Python310\\lib\\site-packages\\anndata\\compat\\_overloaded_dict.py:106: ImplicitModificationWarning: Trying to modify attribute `._uns` of view, initializing view as actual.\n",
      "  self.data[key] = value\n",
      "C:\\Users\\Hlab\\AppData\\Local\\Programs\\Python\\Python310\\lib\\site-packages\\anndata\\compat\\_overloaded_dict.py:106: ImplicitModificationWarning: Trying to modify attribute `._uns` of view, initializing view as actual.\n",
      "  self.data[key] = value\n",
      "C:\\Users\\Hlab\\AppData\\Local\\Programs\\Python\\Python310\\lib\\site-packages\\anndata\\compat\\_overloaded_dict.py:106: ImplicitModificationWarning: Trying to modify attribute `._uns` of view, initializing view as actual.\n",
      "  self.data[key] = value\n",
      "C:\\Users\\Hlab\\AppData\\Local\\Programs\\Python\\Python310\\lib\\site-packages\\anndata\\compat\\_overloaded_dict.py:106: ImplicitModificationWarning: Trying to modify attribute `._uns` of view, initializing view as actual.\n",
      "  self.data[key] = value\n",
      "C:\\Users\\Hlab\\AppData\\Local\\Programs\\Python\\Python310\\lib\\site-packages\\anndata\\compat\\_overloaded_dict.py:106: ImplicitModificationWarning: Trying to modify attribute `._uns` of view, initializing view as actual.\n",
      "  self.data[key] = value\n",
      "C:\\Users\\Hlab\\AppData\\Local\\Programs\\Python\\Python310\\lib\\site-packages\\anndata\\compat\\_overloaded_dict.py:106: ImplicitModificationWarning: Trying to modify attribute `._uns` of view, initializing view as actual.\n",
      "  self.data[key] = value\n",
      "C:\\Users\\Hlab\\AppData\\Local\\Programs\\Python\\Python310\\lib\\site-packages\\anndata\\compat\\_overloaded_dict.py:106: ImplicitModificationWarning: Trying to modify attribute `._uns` of view, initializing view as actual.\n",
      "  self.data[key] = value\n",
      "C:\\Users\\Hlab\\AppData\\Local\\Programs\\Python\\Python310\\lib\\site-packages\\anndata\\compat\\_overloaded_dict.py:106: ImplicitModificationWarning: Trying to modify attribute `._uns` of view, initializing view as actual.\n",
      "  self.data[key] = value\n",
      "C:\\Users\\Hlab\\AppData\\Local\\Programs\\Python\\Python310\\lib\\site-packages\\anndata\\compat\\_overloaded_dict.py:106: ImplicitModificationWarning: Trying to modify attribute `._uns` of view, initializing view as actual.\n",
      "  self.data[key] = value\n",
      "C:\\Users\\Hlab\\AppData\\Local\\Programs\\Python\\Python310\\lib\\site-packages\\anndata\\compat\\_overloaded_dict.py:106: ImplicitModificationWarning: Trying to modify attribute `._uns` of view, initializing view as actual.\n",
      "  self.data[key] = value\n",
      "C:\\Users\\Hlab\\AppData\\Local\\Programs\\Python\\Python310\\lib\\site-packages\\anndata\\compat\\_overloaded_dict.py:106: ImplicitModificationWarning: Trying to modify attribute `._uns` of view, initializing view as actual.\n",
      "  self.data[key] = value\n",
      "C:\\Users\\Hlab\\AppData\\Local\\Programs\\Python\\Python310\\lib\\site-packages\\anndata\\compat\\_overloaded_dict.py:106: ImplicitModificationWarning: Trying to modify attribute `._uns` of view, initializing view as actual.\n",
      "  self.data[key] = value\n",
      "C:\\Users\\Hlab\\AppData\\Local\\Programs\\Python\\Python310\\lib\\site-packages\\anndata\\compat\\_overloaded_dict.py:106: ImplicitModificationWarning: Trying to modify attribute `._uns` of view, initializing view as actual.\n",
      "  self.data[key] = value\n",
      "C:\\Users\\Hlab\\AppData\\Local\\Programs\\Python\\Python310\\lib\\site-packages\\anndata\\compat\\_overloaded_dict.py:106: ImplicitModificationWarning: Trying to modify attribute `._uns` of view, initializing view as actual.\n",
      "  self.data[key] = value\n",
      "C:\\Users\\Hlab\\AppData\\Local\\Programs\\Python\\Python310\\lib\\site-packages\\anndata\\compat\\_overloaded_dict.py:106: ImplicitModificationWarning: Trying to modify attribute `._uns` of view, initializing view as actual.\n",
      "  self.data[key] = value\n",
      "C:\\Users\\Hlab\\AppData\\Local\\Programs\\Python\\Python310\\lib\\site-packages\\anndata\\compat\\_overloaded_dict.py:106: ImplicitModificationWarning: Trying to modify attribute `._uns` of view, initializing view as actual.\n",
      "  self.data[key] = value\n",
      "C:\\Users\\Hlab\\AppData\\Local\\Programs\\Python\\Python310\\lib\\site-packages\\anndata\\compat\\_overloaded_dict.py:106: ImplicitModificationWarning: Trying to modify attribute `._uns` of view, initializing view as actual.\n",
      "  self.data[key] = value\n",
      "C:\\Users\\Hlab\\AppData\\Local\\Programs\\Python\\Python310\\lib\\site-packages\\anndata\\compat\\_overloaded_dict.py:106: ImplicitModificationWarning: Trying to modify attribute `._uns` of view, initializing view as actual.\n",
      "  self.data[key] = value\n",
      "C:\\Users\\Hlab\\AppData\\Local\\Programs\\Python\\Python310\\lib\\site-packages\\anndata\\compat\\_overloaded_dict.py:106: ImplicitModificationWarning: Trying to modify attribute `._uns` of view, initializing view as actual.\n",
      "  self.data[key] = value\n",
      "C:\\Users\\Hlab\\AppData\\Local\\Programs\\Python\\Python310\\lib\\site-packages\\anndata\\compat\\_overloaded_dict.py:106: ImplicitModificationWarning: Trying to modify attribute `._uns` of view, initializing view as actual.\n",
      "  self.data[key] = value\n",
      "C:\\Users\\Hlab\\AppData\\Local\\Programs\\Python\\Python310\\lib\\site-packages\\anndata\\compat\\_overloaded_dict.py:106: ImplicitModificationWarning: Trying to modify attribute `._uns` of view, initializing view as actual.\n",
      "  self.data[key] = value\n",
      "C:\\Users\\Hlab\\AppData\\Local\\Programs\\Python\\Python310\\lib\\site-packages\\anndata\\compat\\_overloaded_dict.py:106: ImplicitModificationWarning: Trying to modify attribute `._uns` of view, initializing view as actual.\n",
      "  self.data[key] = value\n",
      "C:\\Users\\Hlab\\AppData\\Local\\Programs\\Python\\Python310\\lib\\site-packages\\anndata\\compat\\_overloaded_dict.py:106: ImplicitModificationWarning: Trying to modify attribute `._uns` of view, initializing view as actual.\n",
      "  self.data[key] = value\n",
      "C:\\Users\\Hlab\\AppData\\Local\\Programs\\Python\\Python310\\lib\\site-packages\\anndata\\compat\\_overloaded_dict.py:106: ImplicitModificationWarning: Trying to modify attribute `._uns` of view, initializing view as actual.\n",
      "  self.data[key] = value\n"
     ]
    },
    {
     "name": "stderr",
     "output_type": "stream",
     "text": [
      "C:\\Users\\Hlab\\AppData\\Local\\Programs\\Python\\Python310\\lib\\site-packages\\anndata\\compat\\_overloaded_dict.py:106: ImplicitModificationWarning: Trying to modify attribute `._uns` of view, initializing view as actual.\n",
      "  self.data[key] = value\n",
      "C:\\Users\\Hlab\\AppData\\Local\\Programs\\Python\\Python310\\lib\\site-packages\\anndata\\compat\\_overloaded_dict.py:106: ImplicitModificationWarning: Trying to modify attribute `._uns` of view, initializing view as actual.\n",
      "  self.data[key] = value\n",
      "C:\\Users\\Hlab\\AppData\\Local\\Programs\\Python\\Python310\\lib\\site-packages\\anndata\\compat\\_overloaded_dict.py:106: ImplicitModificationWarning: Trying to modify attribute `._uns` of view, initializing view as actual.\n",
      "  self.data[key] = value\n",
      "C:\\Users\\Hlab\\AppData\\Local\\Programs\\Python\\Python310\\lib\\site-packages\\anndata\\compat\\_overloaded_dict.py:106: ImplicitModificationWarning: Trying to modify attribute `._uns` of view, initializing view as actual.\n",
      "  self.data[key] = value\n",
      "C:\\Users\\Hlab\\AppData\\Local\\Programs\\Python\\Python310\\lib\\site-packages\\anndata\\compat\\_overloaded_dict.py:106: ImplicitModificationWarning: Trying to modify attribute `._uns` of view, initializing view as actual.\n",
      "  self.data[key] = value\n",
      "C:\\Users\\Hlab\\AppData\\Local\\Programs\\Python\\Python310\\lib\\site-packages\\anndata\\compat\\_overloaded_dict.py:106: ImplicitModificationWarning: Trying to modify attribute `._uns` of view, initializing view as actual.\n",
      "  self.data[key] = value\n",
      "C:\\Users\\Hlab\\AppData\\Local\\Programs\\Python\\Python310\\lib\\site-packages\\anndata\\compat\\_overloaded_dict.py:106: ImplicitModificationWarning: Trying to modify attribute `._uns` of view, initializing view as actual.\n",
      "  self.data[key] = value\n",
      "C:\\Users\\Hlab\\AppData\\Local\\Programs\\Python\\Python310\\lib\\site-packages\\anndata\\compat\\_overloaded_dict.py:106: ImplicitModificationWarning: Trying to modify attribute `._uns` of view, initializing view as actual.\n",
      "  self.data[key] = value\n",
      "C:\\Users\\Hlab\\AppData\\Local\\Programs\\Python\\Python310\\lib\\site-packages\\anndata\\compat\\_overloaded_dict.py:106: ImplicitModificationWarning: Trying to modify attribute `._uns` of view, initializing view as actual.\n",
      "  self.data[key] = value\n",
      "C:\\Users\\Hlab\\AppData\\Local\\Programs\\Python\\Python310\\lib\\site-packages\\anndata\\compat\\_overloaded_dict.py:106: ImplicitModificationWarning: Trying to modify attribute `._uns` of view, initializing view as actual.\n",
      "  self.data[key] = value\n",
      "C:\\Users\\Hlab\\AppData\\Local\\Programs\\Python\\Python310\\lib\\site-packages\\anndata\\compat\\_overloaded_dict.py:106: ImplicitModificationWarning: Trying to modify attribute `._uns` of view, initializing view as actual.\n",
      "  self.data[key] = value\n",
      "C:\\Users\\Hlab\\AppData\\Local\\Programs\\Python\\Python310\\lib\\site-packages\\anndata\\compat\\_overloaded_dict.py:106: ImplicitModificationWarning: Trying to modify attribute `._uns` of view, initializing view as actual.\n",
      "  self.data[key] = value\n",
      "C:\\Users\\Hlab\\AppData\\Local\\Programs\\Python\\Python310\\lib\\site-packages\\anndata\\compat\\_overloaded_dict.py:106: ImplicitModificationWarning: Trying to modify attribute `._uns` of view, initializing view as actual.\n",
      "  self.data[key] = value\n",
      "C:\\Users\\Hlab\\AppData\\Local\\Programs\\Python\\Python310\\lib\\site-packages\\anndata\\compat\\_overloaded_dict.py:106: ImplicitModificationWarning: Trying to modify attribute `._uns` of view, initializing view as actual.\n",
      "  self.data[key] = value\n",
      "C:\\Users\\Hlab\\AppData\\Local\\Programs\\Python\\Python310\\lib\\site-packages\\anndata\\compat\\_overloaded_dict.py:106: ImplicitModificationWarning: Trying to modify attribute `._uns` of view, initializing view as actual.\n",
      "  self.data[key] = value\n",
      "C:\\Users\\Hlab\\AppData\\Local\\Programs\\Python\\Python310\\lib\\site-packages\\anndata\\compat\\_overloaded_dict.py:106: ImplicitModificationWarning: Trying to modify attribute `._uns` of view, initializing view as actual.\n",
      "  self.data[key] = value\n",
      "C:\\Users\\Hlab\\AppData\\Local\\Programs\\Python\\Python310\\lib\\site-packages\\anndata\\compat\\_overloaded_dict.py:106: ImplicitModificationWarning: Trying to modify attribute `._uns` of view, initializing view as actual.\n",
      "  self.data[key] = value\n",
      "C:\\Users\\Hlab\\AppData\\Local\\Programs\\Python\\Python310\\lib\\site-packages\\anndata\\compat\\_overloaded_dict.py:106: ImplicitModificationWarning: Trying to modify attribute `._uns` of view, initializing view as actual.\n",
      "  self.data[key] = value\n",
      "C:\\Users\\Hlab\\AppData\\Local\\Programs\\Python\\Python310\\lib\\site-packages\\anndata\\compat\\_overloaded_dict.py:106: ImplicitModificationWarning: Trying to modify attribute `._uns` of view, initializing view as actual.\n",
      "  self.data[key] = value\n",
      "C:\\Users\\Hlab\\AppData\\Local\\Programs\\Python\\Python310\\lib\\site-packages\\anndata\\compat\\_overloaded_dict.py:106: ImplicitModificationWarning: Trying to modify attribute `._uns` of view, initializing view as actual.\n",
      "  self.data[key] = value\n",
      "C:\\Users\\Hlab\\AppData\\Local\\Programs\\Python\\Python310\\lib\\site-packages\\anndata\\compat\\_overloaded_dict.py:106: ImplicitModificationWarning: Trying to modify attribute `._uns` of view, initializing view as actual.\n",
      "  self.data[key] = value\n",
      "C:\\Users\\Hlab\\AppData\\Local\\Programs\\Python\\Python310\\lib\\site-packages\\anndata\\compat\\_overloaded_dict.py:106: ImplicitModificationWarning: Trying to modify attribute `._uns` of view, initializing view as actual.\n",
      "  self.data[key] = value\n",
      "C:\\Users\\Hlab\\AppData\\Local\\Programs\\Python\\Python310\\lib\\site-packages\\anndata\\compat\\_overloaded_dict.py:106: ImplicitModificationWarning: Trying to modify attribute `._uns` of view, initializing view as actual.\n",
      "  self.data[key] = value\n",
      "C:\\Users\\Hlab\\AppData\\Local\\Programs\\Python\\Python310\\lib\\site-packages\\anndata\\compat\\_overloaded_dict.py:106: ImplicitModificationWarning: Trying to modify attribute `._uns` of view, initializing view as actual.\n",
      "  self.data[key] = value\n",
      "C:\\Users\\Hlab\\AppData\\Local\\Programs\\Python\\Python310\\lib\\site-packages\\anndata\\compat\\_overloaded_dict.py:106: ImplicitModificationWarning: Trying to modify attribute `._uns` of view, initializing view as actual.\n",
      "  self.data[key] = value\n",
      "C:\\Users\\Hlab\\AppData\\Local\\Programs\\Python\\Python310\\lib\\site-packages\\anndata\\compat\\_overloaded_dict.py:106: ImplicitModificationWarning: Trying to modify attribute `._uns` of view, initializing view as actual.\n",
      "  self.data[key] = value\n",
      "C:\\Users\\Hlab\\AppData\\Local\\Programs\\Python\\Python310\\lib\\site-packages\\anndata\\compat\\_overloaded_dict.py:106: ImplicitModificationWarning: Trying to modify attribute `._uns` of view, initializing view as actual.\n",
      "  self.data[key] = value\n",
      "C:\\Users\\Hlab\\AppData\\Local\\Programs\\Python\\Python310\\lib\\site-packages\\anndata\\compat\\_overloaded_dict.py:106: ImplicitModificationWarning: Trying to modify attribute `._uns` of view, initializing view as actual.\n",
      "  self.data[key] = value\n",
      "C:\\Users\\Hlab\\AppData\\Local\\Programs\\Python\\Python310\\lib\\site-packages\\anndata\\compat\\_overloaded_dict.py:106: ImplicitModificationWarning: Trying to modify attribute `._uns` of view, initializing view as actual.\n",
      "  self.data[key] = value\n",
      "C:\\Users\\Hlab\\AppData\\Local\\Programs\\Python\\Python310\\lib\\site-packages\\anndata\\compat\\_overloaded_dict.py:106: ImplicitModificationWarning: Trying to modify attribute `._uns` of view, initializing view as actual.\n",
      "  self.data[key] = value\n",
      "C:\\Users\\Hlab\\AppData\\Local\\Programs\\Python\\Python310\\lib\\site-packages\\anndata\\compat\\_overloaded_dict.py:106: ImplicitModificationWarning: Trying to modify attribute `._uns` of view, initializing view as actual.\n",
      "  self.data[key] = value\n",
      "C:\\Users\\Hlab\\AppData\\Local\\Programs\\Python\\Python310\\lib\\site-packages\\anndata\\compat\\_overloaded_dict.py:106: ImplicitModificationWarning: Trying to modify attribute `._uns` of view, initializing view as actual.\n",
      "  self.data[key] = value\n",
      "C:\\Users\\Hlab\\AppData\\Local\\Programs\\Python\\Python310\\lib\\site-packages\\anndata\\compat\\_overloaded_dict.py:106: ImplicitModificationWarning: Trying to modify attribute `._uns` of view, initializing view as actual.\n",
      "  self.data[key] = value\n",
      "C:\\Users\\Hlab\\AppData\\Local\\Programs\\Python\\Python310\\lib\\site-packages\\anndata\\compat\\_overloaded_dict.py:106: ImplicitModificationWarning: Trying to modify attribute `._uns` of view, initializing view as actual.\n",
      "  self.data[key] = value\n",
      "C:\\Users\\Hlab\\AppData\\Local\\Programs\\Python\\Python310\\lib\\site-packages\\anndata\\compat\\_overloaded_dict.py:106: ImplicitModificationWarning: Trying to modify attribute `._uns` of view, initializing view as actual.\n",
      "  self.data[key] = value\n"
     ]
    },
    {
     "name": "stderr",
     "output_type": "stream",
     "text": [
      "C:\\Users\\Hlab\\AppData\\Local\\Programs\\Python\\Python310\\lib\\site-packages\\anndata\\compat\\_overloaded_dict.py:106: ImplicitModificationWarning: Trying to modify attribute `._uns` of view, initializing view as actual.\n",
      "  self.data[key] = value\n",
      "C:\\Users\\Hlab\\AppData\\Local\\Programs\\Python\\Python310\\lib\\site-packages\\anndata\\compat\\_overloaded_dict.py:106: ImplicitModificationWarning: Trying to modify attribute `._uns` of view, initializing view as actual.\n",
      "  self.data[key] = value\n",
      "C:\\Users\\Hlab\\AppData\\Local\\Programs\\Python\\Python310\\lib\\site-packages\\anndata\\compat\\_overloaded_dict.py:106: ImplicitModificationWarning: Trying to modify attribute `._uns` of view, initializing view as actual.\n",
      "  self.data[key] = value\n",
      "C:\\Users\\Hlab\\AppData\\Local\\Programs\\Python\\Python310\\lib\\site-packages\\anndata\\compat\\_overloaded_dict.py:106: ImplicitModificationWarning: Trying to modify attribute `._uns` of view, initializing view as actual.\n",
      "  self.data[key] = value\n",
      "C:\\Users\\Hlab\\AppData\\Local\\Programs\\Python\\Python310\\lib\\site-packages\\anndata\\compat\\_overloaded_dict.py:106: ImplicitModificationWarning: Trying to modify attribute `._uns` of view, initializing view as actual.\n",
      "  self.data[key] = value\n",
      "C:\\Users\\Hlab\\AppData\\Local\\Programs\\Python\\Python310\\lib\\site-packages\\anndata\\compat\\_overloaded_dict.py:106: ImplicitModificationWarning: Trying to modify attribute `._uns` of view, initializing view as actual.\n",
      "  self.data[key] = value\n",
      "C:\\Users\\Hlab\\AppData\\Local\\Programs\\Python\\Python310\\lib\\site-packages\\anndata\\compat\\_overloaded_dict.py:106: ImplicitModificationWarning: Trying to modify attribute `._uns` of view, initializing view as actual.\n",
      "  self.data[key] = value\n",
      "C:\\Users\\Hlab\\AppData\\Local\\Programs\\Python\\Python310\\lib\\site-packages\\anndata\\compat\\_overloaded_dict.py:106: ImplicitModificationWarning: Trying to modify attribute `._uns` of view, initializing view as actual.\n",
      "  self.data[key] = value\n",
      "C:\\Users\\Hlab\\AppData\\Local\\Programs\\Python\\Python310\\lib\\site-packages\\anndata\\compat\\_overloaded_dict.py:106: ImplicitModificationWarning: Trying to modify attribute `._uns` of view, initializing view as actual.\n",
      "  self.data[key] = value\n",
      "C:\\Users\\Hlab\\AppData\\Local\\Programs\\Python\\Python310\\lib\\site-packages\\anndata\\compat\\_overloaded_dict.py:106: ImplicitModificationWarning: Trying to modify attribute `._uns` of view, initializing view as actual.\n",
      "  self.data[key] = value\n",
      "C:\\Users\\Hlab\\AppData\\Local\\Programs\\Python\\Python310\\lib\\site-packages\\anndata\\compat\\_overloaded_dict.py:106: ImplicitModificationWarning: Trying to modify attribute `._uns` of view, initializing view as actual.\n",
      "  self.data[key] = value\n",
      "C:\\Users\\Hlab\\AppData\\Local\\Programs\\Python\\Python310\\lib\\site-packages\\anndata\\compat\\_overloaded_dict.py:106: ImplicitModificationWarning: Trying to modify attribute `._uns` of view, initializing view as actual.\n",
      "  self.data[key] = value\n",
      "C:\\Users\\Hlab\\AppData\\Local\\Programs\\Python\\Python310\\lib\\site-packages\\anndata\\compat\\_overloaded_dict.py:106: ImplicitModificationWarning: Trying to modify attribute `._uns` of view, initializing view as actual.\n",
      "  self.data[key] = value\n",
      "C:\\Users\\Hlab\\AppData\\Local\\Programs\\Python\\Python310\\lib\\site-packages\\anndata\\compat\\_overloaded_dict.py:106: ImplicitModificationWarning: Trying to modify attribute `._uns` of view, initializing view as actual.\n",
      "  self.data[key] = value\n",
      "C:\\Users\\Hlab\\AppData\\Local\\Programs\\Python\\Python310\\lib\\site-packages\\anndata\\compat\\_overloaded_dict.py:106: ImplicitModificationWarning: Trying to modify attribute `._uns` of view, initializing view as actual.\n",
      "  self.data[key] = value\n",
      "C:\\Users\\Hlab\\AppData\\Local\\Programs\\Python\\Python310\\lib\\site-packages\\anndata\\compat\\_overloaded_dict.py:106: ImplicitModificationWarning: Trying to modify attribute `._uns` of view, initializing view as actual.\n",
      "  self.data[key] = value\n",
      "C:\\Users\\Hlab\\AppData\\Local\\Programs\\Python\\Python310\\lib\\site-packages\\anndata\\compat\\_overloaded_dict.py:106: ImplicitModificationWarning: Trying to modify attribute `._uns` of view, initializing view as actual.\n",
      "  self.data[key] = value\n",
      "C:\\Users\\Hlab\\AppData\\Local\\Programs\\Python\\Python310\\lib\\site-packages\\anndata\\compat\\_overloaded_dict.py:106: ImplicitModificationWarning: Trying to modify attribute `._uns` of view, initializing view as actual.\n",
      "  self.data[key] = value\n",
      "C:\\Users\\Hlab\\AppData\\Local\\Programs\\Python\\Python310\\lib\\site-packages\\anndata\\compat\\_overloaded_dict.py:106: ImplicitModificationWarning: Trying to modify attribute `._uns` of view, initializing view as actual.\n",
      "  self.data[key] = value\n",
      "C:\\Users\\Hlab\\AppData\\Local\\Programs\\Python\\Python310\\lib\\site-packages\\anndata\\compat\\_overloaded_dict.py:106: ImplicitModificationWarning: Trying to modify attribute `._uns` of view, initializing view as actual.\n",
      "  self.data[key] = value\n",
      "C:\\Users\\Hlab\\AppData\\Local\\Programs\\Python\\Python310\\lib\\site-packages\\anndata\\compat\\_overloaded_dict.py:106: ImplicitModificationWarning: Trying to modify attribute `._uns` of view, initializing view as actual.\n",
      "  self.data[key] = value\n",
      "C:\\Users\\Hlab\\AppData\\Local\\Programs\\Python\\Python310\\lib\\site-packages\\anndata\\compat\\_overloaded_dict.py:106: ImplicitModificationWarning: Trying to modify attribute `._uns` of view, initializing view as actual.\n",
      "  self.data[key] = value\n",
      "C:\\Users\\Hlab\\AppData\\Local\\Programs\\Python\\Python310\\lib\\site-packages\\anndata\\compat\\_overloaded_dict.py:106: ImplicitModificationWarning: Trying to modify attribute `._uns` of view, initializing view as actual.\n",
      "  self.data[key] = value\n",
      "C:\\Users\\Hlab\\AppData\\Local\\Programs\\Python\\Python310\\lib\\site-packages\\anndata\\compat\\_overloaded_dict.py:106: ImplicitModificationWarning: Trying to modify attribute `._uns` of view, initializing view as actual.\n",
      "  self.data[key] = value\n",
      "C:\\Users\\Hlab\\AppData\\Local\\Programs\\Python\\Python310\\lib\\site-packages\\anndata\\compat\\_overloaded_dict.py:106: ImplicitModificationWarning: Trying to modify attribute `._uns` of view, initializing view as actual.\n",
      "  self.data[key] = value\n",
      "C:\\Users\\Hlab\\AppData\\Local\\Programs\\Python\\Python310\\lib\\site-packages\\anndata\\compat\\_overloaded_dict.py:106: ImplicitModificationWarning: Trying to modify attribute `._uns` of view, initializing view as actual.\n",
      "  self.data[key] = value\n",
      "C:\\Users\\Hlab\\AppData\\Local\\Programs\\Python\\Python310\\lib\\site-packages\\anndata\\compat\\_overloaded_dict.py:106: ImplicitModificationWarning: Trying to modify attribute `._uns` of view, initializing view as actual.\n",
      "  self.data[key] = value\n",
      "C:\\Users\\Hlab\\AppData\\Local\\Programs\\Python\\Python310\\lib\\site-packages\\anndata\\compat\\_overloaded_dict.py:106: ImplicitModificationWarning: Trying to modify attribute `._uns` of view, initializing view as actual.\n",
      "  self.data[key] = value\n",
      "C:\\Users\\Hlab\\AppData\\Local\\Programs\\Python\\Python310\\lib\\site-packages\\anndata\\compat\\_overloaded_dict.py:106: ImplicitModificationWarning: Trying to modify attribute `._uns` of view, initializing view as actual.\n",
      "  self.data[key] = value\n",
      "C:\\Users\\Hlab\\AppData\\Local\\Programs\\Python\\Python310\\lib\\site-packages\\anndata\\compat\\_overloaded_dict.py:106: ImplicitModificationWarning: Trying to modify attribute `._uns` of view, initializing view as actual.\n",
      "  self.data[key] = value\n",
      "C:\\Users\\Hlab\\AppData\\Local\\Programs\\Python\\Python310\\lib\\site-packages\\anndata\\compat\\_overloaded_dict.py:106: ImplicitModificationWarning: Trying to modify attribute `._uns` of view, initializing view as actual.\n",
      "  self.data[key] = value\n",
      "C:\\Users\\Hlab\\AppData\\Local\\Programs\\Python\\Python310\\lib\\site-packages\\anndata\\compat\\_overloaded_dict.py:106: ImplicitModificationWarning: Trying to modify attribute `._uns` of view, initializing view as actual.\n",
      "  self.data[key] = value\n",
      "C:\\Users\\Hlab\\AppData\\Local\\Programs\\Python\\Python310\\lib\\site-packages\\anndata\\compat\\_overloaded_dict.py:106: ImplicitModificationWarning: Trying to modify attribute `._uns` of view, initializing view as actual.\n",
      "  self.data[key] = value\n",
      "C:\\Users\\Hlab\\AppData\\Local\\Programs\\Python\\Python310\\lib\\site-packages\\anndata\\compat\\_overloaded_dict.py:106: ImplicitModificationWarning: Trying to modify attribute `._uns` of view, initializing view as actual.\n",
      "  self.data[key] = value\n",
      "C:\\Users\\Hlab\\AppData\\Local\\Programs\\Python\\Python310\\lib\\site-packages\\anndata\\compat\\_overloaded_dict.py:106: ImplicitModificationWarning: Trying to modify attribute `._uns` of view, initializing view as actual.\n",
      "  self.data[key] = value\n"
     ]
    },
    {
     "name": "stderr",
     "output_type": "stream",
     "text": [
      "C:\\Users\\Hlab\\AppData\\Local\\Programs\\Python\\Python310\\lib\\site-packages\\anndata\\compat\\_overloaded_dict.py:106: ImplicitModificationWarning: Trying to modify attribute `._uns` of view, initializing view as actual.\n",
      "  self.data[key] = value\n",
      "C:\\Users\\Hlab\\AppData\\Local\\Programs\\Python\\Python310\\lib\\site-packages\\anndata\\compat\\_overloaded_dict.py:106: ImplicitModificationWarning: Trying to modify attribute `._uns` of view, initializing view as actual.\n",
      "  self.data[key] = value\n",
      "C:\\Users\\Hlab\\AppData\\Local\\Programs\\Python\\Python310\\lib\\site-packages\\anndata\\compat\\_overloaded_dict.py:106: ImplicitModificationWarning: Trying to modify attribute `._uns` of view, initializing view as actual.\n",
      "  self.data[key] = value\n",
      "C:\\Users\\Hlab\\AppData\\Local\\Programs\\Python\\Python310\\lib\\site-packages\\anndata\\compat\\_overloaded_dict.py:106: ImplicitModificationWarning: Trying to modify attribute `._uns` of view, initializing view as actual.\n",
      "  self.data[key] = value\n",
      "C:\\Users\\Hlab\\AppData\\Local\\Programs\\Python\\Python310\\lib\\site-packages\\anndata\\compat\\_overloaded_dict.py:106: ImplicitModificationWarning: Trying to modify attribute `._uns` of view, initializing view as actual.\n",
      "  self.data[key] = value\n",
      "C:\\Users\\Hlab\\AppData\\Local\\Programs\\Python\\Python310\\lib\\site-packages\\anndata\\compat\\_overloaded_dict.py:106: ImplicitModificationWarning: Trying to modify attribute `._uns` of view, initializing view as actual.\n",
      "  self.data[key] = value\n",
      "C:\\Users\\Hlab\\AppData\\Local\\Programs\\Python\\Python310\\lib\\site-packages\\anndata\\compat\\_overloaded_dict.py:106: ImplicitModificationWarning: Trying to modify attribute `._uns` of view, initializing view as actual.\n",
      "  self.data[key] = value\n",
      "C:\\Users\\Hlab\\AppData\\Local\\Programs\\Python\\Python310\\lib\\site-packages\\anndata\\compat\\_overloaded_dict.py:106: ImplicitModificationWarning: Trying to modify attribute `._uns` of view, initializing view as actual.\n",
      "  self.data[key] = value\n",
      "C:\\Users\\Hlab\\AppData\\Local\\Programs\\Python\\Python310\\lib\\site-packages\\anndata\\compat\\_overloaded_dict.py:106: ImplicitModificationWarning: Trying to modify attribute `._uns` of view, initializing view as actual.\n",
      "  self.data[key] = value\n",
      "C:\\Users\\Hlab\\AppData\\Local\\Programs\\Python\\Python310\\lib\\site-packages\\anndata\\compat\\_overloaded_dict.py:106: ImplicitModificationWarning: Trying to modify attribute `._uns` of view, initializing view as actual.\n",
      "  self.data[key] = value\n",
      "C:\\Users\\Hlab\\AppData\\Local\\Programs\\Python\\Python310\\lib\\site-packages\\anndata\\compat\\_overloaded_dict.py:106: ImplicitModificationWarning: Trying to modify attribute `._uns` of view, initializing view as actual.\n",
      "  self.data[key] = value\n",
      "C:\\Users\\Hlab\\AppData\\Local\\Programs\\Python\\Python310\\lib\\site-packages\\anndata\\compat\\_overloaded_dict.py:106: ImplicitModificationWarning: Trying to modify attribute `._uns` of view, initializing view as actual.\n",
      "  self.data[key] = value\n",
      "C:\\Users\\Hlab\\AppData\\Local\\Programs\\Python\\Python310\\lib\\site-packages\\anndata\\compat\\_overloaded_dict.py:106: ImplicitModificationWarning: Trying to modify attribute `._uns` of view, initializing view as actual.\n",
      "  self.data[key] = value\n",
      "C:\\Users\\Hlab\\AppData\\Local\\Programs\\Python\\Python310\\lib\\site-packages\\anndata\\compat\\_overloaded_dict.py:106: ImplicitModificationWarning: Trying to modify attribute `._uns` of view, initializing view as actual.\n",
      "  self.data[key] = value\n",
      "C:\\Users\\Hlab\\AppData\\Local\\Programs\\Python\\Python310\\lib\\site-packages\\anndata\\compat\\_overloaded_dict.py:106: ImplicitModificationWarning: Trying to modify attribute `._uns` of view, initializing view as actual.\n",
      "  self.data[key] = value\n",
      "C:\\Users\\Hlab\\AppData\\Local\\Programs\\Python\\Python310\\lib\\site-packages\\anndata\\compat\\_overloaded_dict.py:106: ImplicitModificationWarning: Trying to modify attribute `._uns` of view, initializing view as actual.\n",
      "  self.data[key] = value\n",
      "C:\\Users\\Hlab\\AppData\\Local\\Programs\\Python\\Python310\\lib\\site-packages\\anndata\\compat\\_overloaded_dict.py:106: ImplicitModificationWarning: Trying to modify attribute `._uns` of view, initializing view as actual.\n",
      "  self.data[key] = value\n",
      "C:\\Users\\Hlab\\AppData\\Local\\Programs\\Python\\Python310\\lib\\site-packages\\anndata\\compat\\_overloaded_dict.py:106: ImplicitModificationWarning: Trying to modify attribute `._uns` of view, initializing view as actual.\n",
      "  self.data[key] = value\n",
      "C:\\Users\\Hlab\\AppData\\Local\\Programs\\Python\\Python310\\lib\\site-packages\\anndata\\compat\\_overloaded_dict.py:106: ImplicitModificationWarning: Trying to modify attribute `._uns` of view, initializing view as actual.\n",
      "  self.data[key] = value\n",
      "C:\\Users\\Hlab\\AppData\\Local\\Programs\\Python\\Python310\\lib\\site-packages\\anndata\\compat\\_overloaded_dict.py:106: ImplicitModificationWarning: Trying to modify attribute `._uns` of view, initializing view as actual.\n",
      "  self.data[key] = value\n",
      "C:\\Users\\Hlab\\AppData\\Local\\Programs\\Python\\Python310\\lib\\site-packages\\anndata\\compat\\_overloaded_dict.py:106: ImplicitModificationWarning: Trying to modify attribute `._uns` of view, initializing view as actual.\n",
      "  self.data[key] = value\n",
      "C:\\Users\\Hlab\\AppData\\Local\\Programs\\Python\\Python310\\lib\\site-packages\\anndata\\compat\\_overloaded_dict.py:106: ImplicitModificationWarning: Trying to modify attribute `._uns` of view, initializing view as actual.\n",
      "  self.data[key] = value\n",
      "C:\\Users\\Hlab\\AppData\\Local\\Programs\\Python\\Python310\\lib\\site-packages\\anndata\\compat\\_overloaded_dict.py:106: ImplicitModificationWarning: Trying to modify attribute `._uns` of view, initializing view as actual.\n",
      "  self.data[key] = value\n",
      "C:\\Users\\Hlab\\AppData\\Local\\Programs\\Python\\Python310\\lib\\site-packages\\anndata\\compat\\_overloaded_dict.py:106: ImplicitModificationWarning: Trying to modify attribute `._uns` of view, initializing view as actual.\n",
      "  self.data[key] = value\n",
      "C:\\Users\\Hlab\\AppData\\Local\\Programs\\Python\\Python310\\lib\\site-packages\\anndata\\compat\\_overloaded_dict.py:106: ImplicitModificationWarning: Trying to modify attribute `._uns` of view, initializing view as actual.\n",
      "  self.data[key] = value\n",
      "C:\\Users\\Hlab\\AppData\\Local\\Programs\\Python\\Python310\\lib\\site-packages\\anndata\\compat\\_overloaded_dict.py:106: ImplicitModificationWarning: Trying to modify attribute `._uns` of view, initializing view as actual.\n",
      "  self.data[key] = value\n",
      "C:\\Users\\Hlab\\AppData\\Local\\Programs\\Python\\Python310\\lib\\site-packages\\anndata\\compat\\_overloaded_dict.py:106: ImplicitModificationWarning: Trying to modify attribute `._uns` of view, initializing view as actual.\n",
      "  self.data[key] = value\n",
      "C:\\Users\\Hlab\\AppData\\Local\\Programs\\Python\\Python310\\lib\\site-packages\\anndata\\compat\\_overloaded_dict.py:106: ImplicitModificationWarning: Trying to modify attribute `._uns` of view, initializing view as actual.\n",
      "  self.data[key] = value\n",
      "C:\\Users\\Hlab\\AppData\\Local\\Programs\\Python\\Python310\\lib\\site-packages\\anndata\\compat\\_overloaded_dict.py:106: ImplicitModificationWarning: Trying to modify attribute `._uns` of view, initializing view as actual.\n",
      "  self.data[key] = value\n",
      "C:\\Users\\Hlab\\AppData\\Local\\Programs\\Python\\Python310\\lib\\site-packages\\anndata\\compat\\_overloaded_dict.py:106: ImplicitModificationWarning: Trying to modify attribute `._uns` of view, initializing view as actual.\n",
      "  self.data[key] = value\n",
      "C:\\Users\\Hlab\\AppData\\Local\\Programs\\Python\\Python310\\lib\\site-packages\\anndata\\compat\\_overloaded_dict.py:106: ImplicitModificationWarning: Trying to modify attribute `._uns` of view, initializing view as actual.\n",
      "  self.data[key] = value\n",
      "C:\\Users\\Hlab\\AppData\\Local\\Programs\\Python\\Python310\\lib\\site-packages\\anndata\\compat\\_overloaded_dict.py:106: ImplicitModificationWarning: Trying to modify attribute `._uns` of view, initializing view as actual.\n",
      "  self.data[key] = value\n",
      "C:\\Users\\Hlab\\AppData\\Local\\Programs\\Python\\Python310\\lib\\site-packages\\anndata\\compat\\_overloaded_dict.py:106: ImplicitModificationWarning: Trying to modify attribute `._uns` of view, initializing view as actual.\n",
      "  self.data[key] = value\n",
      "C:\\Users\\Hlab\\AppData\\Local\\Programs\\Python\\Python310\\lib\\site-packages\\anndata\\compat\\_overloaded_dict.py:106: ImplicitModificationWarning: Trying to modify attribute `._uns` of view, initializing view as actual.\n",
      "  self.data[key] = value\n",
      "C:\\Users\\Hlab\\AppData\\Local\\Programs\\Python\\Python310\\lib\\site-packages\\anndata\\compat\\_overloaded_dict.py:106: ImplicitModificationWarning: Trying to modify attribute `._uns` of view, initializing view as actual.\n",
      "  self.data[key] = value\n"
     ]
    },
    {
     "name": "stderr",
     "output_type": "stream",
     "text": [
      "C:\\Users\\Hlab\\AppData\\Local\\Programs\\Python\\Python310\\lib\\site-packages\\anndata\\compat\\_overloaded_dict.py:106: ImplicitModificationWarning: Trying to modify attribute `._uns` of view, initializing view as actual.\n",
      "  self.data[key] = value\n",
      "C:\\Users\\Hlab\\AppData\\Local\\Programs\\Python\\Python310\\lib\\site-packages\\anndata\\compat\\_overloaded_dict.py:106: ImplicitModificationWarning: Trying to modify attribute `._uns` of view, initializing view as actual.\n",
      "  self.data[key] = value\n",
      "C:\\Users\\Hlab\\AppData\\Local\\Programs\\Python\\Python310\\lib\\site-packages\\anndata\\compat\\_overloaded_dict.py:106: ImplicitModificationWarning: Trying to modify attribute `._uns` of view, initializing view as actual.\n",
      "  self.data[key] = value\n",
      "C:\\Users\\Hlab\\AppData\\Local\\Programs\\Python\\Python310\\lib\\site-packages\\anndata\\compat\\_overloaded_dict.py:106: ImplicitModificationWarning: Trying to modify attribute `._uns` of view, initializing view as actual.\n",
      "  self.data[key] = value\n",
      "C:\\Users\\Hlab\\AppData\\Local\\Programs\\Python\\Python310\\lib\\site-packages\\anndata\\compat\\_overloaded_dict.py:106: ImplicitModificationWarning: Trying to modify attribute `._uns` of view, initializing view as actual.\n",
      "  self.data[key] = value\n",
      "C:\\Users\\Hlab\\AppData\\Local\\Programs\\Python\\Python310\\lib\\site-packages\\anndata\\compat\\_overloaded_dict.py:106: ImplicitModificationWarning: Trying to modify attribute `._uns` of view, initializing view as actual.\n",
      "  self.data[key] = value\n",
      "C:\\Users\\Hlab\\AppData\\Local\\Programs\\Python\\Python310\\lib\\site-packages\\anndata\\compat\\_overloaded_dict.py:106: ImplicitModificationWarning: Trying to modify attribute `._uns` of view, initializing view as actual.\n",
      "  self.data[key] = value\n",
      "C:\\Users\\Hlab\\AppData\\Local\\Programs\\Python\\Python310\\lib\\site-packages\\anndata\\compat\\_overloaded_dict.py:106: ImplicitModificationWarning: Trying to modify attribute `._uns` of view, initializing view as actual.\n",
      "  self.data[key] = value\n",
      "C:\\Users\\Hlab\\AppData\\Local\\Programs\\Python\\Python310\\lib\\site-packages\\anndata\\compat\\_overloaded_dict.py:106: ImplicitModificationWarning: Trying to modify attribute `._uns` of view, initializing view as actual.\n",
      "  self.data[key] = value\n",
      "C:\\Users\\Hlab\\AppData\\Local\\Programs\\Python\\Python310\\lib\\site-packages\\anndata\\compat\\_overloaded_dict.py:106: ImplicitModificationWarning: Trying to modify attribute `._uns` of view, initializing view as actual.\n",
      "  self.data[key] = value\n",
      "C:\\Users\\Hlab\\AppData\\Local\\Programs\\Python\\Python310\\lib\\site-packages\\anndata\\compat\\_overloaded_dict.py:106: ImplicitModificationWarning: Trying to modify attribute `._uns` of view, initializing view as actual.\n",
      "  self.data[key] = value\n",
      "C:\\Users\\Hlab\\AppData\\Local\\Programs\\Python\\Python310\\lib\\site-packages\\anndata\\compat\\_overloaded_dict.py:106: ImplicitModificationWarning: Trying to modify attribute `._uns` of view, initializing view as actual.\n",
      "  self.data[key] = value\n",
      "C:\\Users\\Hlab\\AppData\\Local\\Programs\\Python\\Python310\\lib\\site-packages\\anndata\\compat\\_overloaded_dict.py:106: ImplicitModificationWarning: Trying to modify attribute `._uns` of view, initializing view as actual.\n",
      "  self.data[key] = value\n",
      "C:\\Users\\Hlab\\AppData\\Local\\Programs\\Python\\Python310\\lib\\site-packages\\anndata\\compat\\_overloaded_dict.py:106: ImplicitModificationWarning: Trying to modify attribute `._uns` of view, initializing view as actual.\n",
      "  self.data[key] = value\n",
      "C:\\Users\\Hlab\\AppData\\Local\\Programs\\Python\\Python310\\lib\\site-packages\\anndata\\compat\\_overloaded_dict.py:106: ImplicitModificationWarning: Trying to modify attribute `._uns` of view, initializing view as actual.\n",
      "  self.data[key] = value\n",
      "C:\\Users\\Hlab\\AppData\\Local\\Programs\\Python\\Python310\\lib\\site-packages\\anndata\\compat\\_overloaded_dict.py:106: ImplicitModificationWarning: Trying to modify attribute `._uns` of view, initializing view as actual.\n",
      "  self.data[key] = value\n",
      "C:\\Users\\Hlab\\AppData\\Local\\Programs\\Python\\Python310\\lib\\site-packages\\anndata\\compat\\_overloaded_dict.py:106: ImplicitModificationWarning: Trying to modify attribute `._uns` of view, initializing view as actual.\n",
      "  self.data[key] = value\n",
      "C:\\Users\\Hlab\\AppData\\Local\\Programs\\Python\\Python310\\lib\\site-packages\\anndata\\compat\\_overloaded_dict.py:106: ImplicitModificationWarning: Trying to modify attribute `._uns` of view, initializing view as actual.\n",
      "  self.data[key] = value\n",
      "C:\\Users\\Hlab\\AppData\\Local\\Programs\\Python\\Python310\\lib\\site-packages\\anndata\\compat\\_overloaded_dict.py:106: ImplicitModificationWarning: Trying to modify attribute `._uns` of view, initializing view as actual.\n",
      "  self.data[key] = value\n",
      "C:\\Users\\Hlab\\AppData\\Local\\Programs\\Python\\Python310\\lib\\site-packages\\anndata\\compat\\_overloaded_dict.py:106: ImplicitModificationWarning: Trying to modify attribute `._uns` of view, initializing view as actual.\n",
      "  self.data[key] = value\n",
      "C:\\Users\\Hlab\\AppData\\Local\\Programs\\Python\\Python310\\lib\\site-packages\\anndata\\compat\\_overloaded_dict.py:106: ImplicitModificationWarning: Trying to modify attribute `._uns` of view, initializing view as actual.\n",
      "  self.data[key] = value\n",
      "C:\\Users\\Hlab\\AppData\\Local\\Programs\\Python\\Python310\\lib\\site-packages\\anndata\\compat\\_overloaded_dict.py:106: ImplicitModificationWarning: Trying to modify attribute `._uns` of view, initializing view as actual.\n",
      "  self.data[key] = value\n",
      "C:\\Users\\Hlab\\AppData\\Local\\Programs\\Python\\Python310\\lib\\site-packages\\anndata\\compat\\_overloaded_dict.py:106: ImplicitModificationWarning: Trying to modify attribute `._uns` of view, initializing view as actual.\n",
      "  self.data[key] = value\n",
      "C:\\Users\\Hlab\\AppData\\Local\\Programs\\Python\\Python310\\lib\\site-packages\\anndata\\compat\\_overloaded_dict.py:106: ImplicitModificationWarning: Trying to modify attribute `._uns` of view, initializing view as actual.\n",
      "  self.data[key] = value\n",
      "C:\\Users\\Hlab\\AppData\\Local\\Programs\\Python\\Python310\\lib\\site-packages\\anndata\\compat\\_overloaded_dict.py:106: ImplicitModificationWarning: Trying to modify attribute `._uns` of view, initializing view as actual.\n",
      "  self.data[key] = value\n",
      "C:\\Users\\Hlab\\AppData\\Local\\Programs\\Python\\Python310\\lib\\site-packages\\anndata\\compat\\_overloaded_dict.py:106: ImplicitModificationWarning: Trying to modify attribute `._uns` of view, initializing view as actual.\n",
      "  self.data[key] = value\n",
      "C:\\Users\\Hlab\\AppData\\Local\\Programs\\Python\\Python310\\lib\\site-packages\\anndata\\compat\\_overloaded_dict.py:106: ImplicitModificationWarning: Trying to modify attribute `._uns` of view, initializing view as actual.\n",
      "  self.data[key] = value\n",
      "C:\\Users\\Hlab\\AppData\\Local\\Programs\\Python\\Python310\\lib\\site-packages\\anndata\\compat\\_overloaded_dict.py:106: ImplicitModificationWarning: Trying to modify attribute `._uns` of view, initializing view as actual.\n",
      "  self.data[key] = value\n",
      "C:\\Users\\Hlab\\AppData\\Local\\Programs\\Python\\Python310\\lib\\site-packages\\anndata\\compat\\_overloaded_dict.py:106: ImplicitModificationWarning: Trying to modify attribute `._uns` of view, initializing view as actual.\n",
      "  self.data[key] = value\n",
      "C:\\Users\\Hlab\\AppData\\Local\\Programs\\Python\\Python310\\lib\\site-packages\\anndata\\compat\\_overloaded_dict.py:106: ImplicitModificationWarning: Trying to modify attribute `._uns` of view, initializing view as actual.\n",
      "  self.data[key] = value\n",
      "C:\\Users\\Hlab\\AppData\\Local\\Programs\\Python\\Python310\\lib\\site-packages\\anndata\\compat\\_overloaded_dict.py:106: ImplicitModificationWarning: Trying to modify attribute `._uns` of view, initializing view as actual.\n",
      "  self.data[key] = value\n",
      "C:\\Users\\Hlab\\AppData\\Local\\Programs\\Python\\Python310\\lib\\site-packages\\anndata\\compat\\_overloaded_dict.py:106: ImplicitModificationWarning: Trying to modify attribute `._uns` of view, initializing view as actual.\n",
      "  self.data[key] = value\n",
      "C:\\Users\\Hlab\\AppData\\Local\\Programs\\Python\\Python310\\lib\\site-packages\\anndata\\compat\\_overloaded_dict.py:106: ImplicitModificationWarning: Trying to modify attribute `._uns` of view, initializing view as actual.\n",
      "  self.data[key] = value\n",
      "C:\\Users\\Hlab\\AppData\\Local\\Programs\\Python\\Python310\\lib\\site-packages\\anndata\\compat\\_overloaded_dict.py:106: ImplicitModificationWarning: Trying to modify attribute `._uns` of view, initializing view as actual.\n",
      "  self.data[key] = value\n",
      "C:\\Users\\Hlab\\AppData\\Local\\Programs\\Python\\Python310\\lib\\site-packages\\anndata\\compat\\_overloaded_dict.py:106: ImplicitModificationWarning: Trying to modify attribute `._uns` of view, initializing view as actual.\n",
      "  self.data[key] = value\n"
     ]
    },
    {
     "name": "stderr",
     "output_type": "stream",
     "text": [
      "C:\\Users\\Hlab\\AppData\\Local\\Programs\\Python\\Python310\\lib\\site-packages\\anndata\\compat\\_overloaded_dict.py:106: ImplicitModificationWarning: Trying to modify attribute `._uns` of view, initializing view as actual.\n",
      "  self.data[key] = value\n",
      "C:\\Users\\Hlab\\AppData\\Local\\Programs\\Python\\Python310\\lib\\site-packages\\anndata\\compat\\_overloaded_dict.py:106: ImplicitModificationWarning: Trying to modify attribute `._uns` of view, initializing view as actual.\n",
      "  self.data[key] = value\n",
      "C:\\Users\\Hlab\\AppData\\Local\\Programs\\Python\\Python310\\lib\\site-packages\\anndata\\compat\\_overloaded_dict.py:106: ImplicitModificationWarning: Trying to modify attribute `._uns` of view, initializing view as actual.\n",
      "  self.data[key] = value\n",
      "C:\\Users\\Hlab\\AppData\\Local\\Programs\\Python\\Python310\\lib\\site-packages\\anndata\\compat\\_overloaded_dict.py:106: ImplicitModificationWarning: Trying to modify attribute `._uns` of view, initializing view as actual.\n",
      "  self.data[key] = value\n",
      "C:\\Users\\Hlab\\AppData\\Local\\Programs\\Python\\Python310\\lib\\site-packages\\anndata\\compat\\_overloaded_dict.py:106: ImplicitModificationWarning: Trying to modify attribute `._uns` of view, initializing view as actual.\n",
      "  self.data[key] = value\n",
      "C:\\Users\\Hlab\\AppData\\Local\\Programs\\Python\\Python310\\lib\\site-packages\\anndata\\compat\\_overloaded_dict.py:106: ImplicitModificationWarning: Trying to modify attribute `._uns` of view, initializing view as actual.\n",
      "  self.data[key] = value\n",
      "C:\\Users\\Hlab\\AppData\\Local\\Programs\\Python\\Python310\\lib\\site-packages\\anndata\\compat\\_overloaded_dict.py:106: ImplicitModificationWarning: Trying to modify attribute `._uns` of view, initializing view as actual.\n",
      "  self.data[key] = value\n",
      "C:\\Users\\Hlab\\AppData\\Local\\Programs\\Python\\Python310\\lib\\site-packages\\anndata\\compat\\_overloaded_dict.py:106: ImplicitModificationWarning: Trying to modify attribute `._uns` of view, initializing view as actual.\n",
      "  self.data[key] = value\n",
      "C:\\Users\\Hlab\\AppData\\Local\\Programs\\Python\\Python310\\lib\\site-packages\\anndata\\compat\\_overloaded_dict.py:106: ImplicitModificationWarning: Trying to modify attribute `._uns` of view, initializing view as actual.\n",
      "  self.data[key] = value\n",
      "C:\\Users\\Hlab\\AppData\\Local\\Programs\\Python\\Python310\\lib\\site-packages\\anndata\\compat\\_overloaded_dict.py:106: ImplicitModificationWarning: Trying to modify attribute `._uns` of view, initializing view as actual.\n",
      "  self.data[key] = value\n",
      "C:\\Users\\Hlab\\AppData\\Local\\Programs\\Python\\Python310\\lib\\site-packages\\anndata\\compat\\_overloaded_dict.py:106: ImplicitModificationWarning: Trying to modify attribute `._uns` of view, initializing view as actual.\n",
      "  self.data[key] = value\n",
      "C:\\Users\\Hlab\\AppData\\Local\\Programs\\Python\\Python310\\lib\\site-packages\\anndata\\compat\\_overloaded_dict.py:106: ImplicitModificationWarning: Trying to modify attribute `._uns` of view, initializing view as actual.\n",
      "  self.data[key] = value\n",
      "C:\\Users\\Hlab\\AppData\\Local\\Programs\\Python\\Python310\\lib\\site-packages\\anndata\\compat\\_overloaded_dict.py:106: ImplicitModificationWarning: Trying to modify attribute `._uns` of view, initializing view as actual.\n",
      "  self.data[key] = value\n",
      "C:\\Users\\Hlab\\AppData\\Local\\Programs\\Python\\Python310\\lib\\site-packages\\anndata\\compat\\_overloaded_dict.py:106: ImplicitModificationWarning: Trying to modify attribute `._uns` of view, initializing view as actual.\n",
      "  self.data[key] = value\n",
      "C:\\Users\\Hlab\\AppData\\Local\\Programs\\Python\\Python310\\lib\\site-packages\\anndata\\compat\\_overloaded_dict.py:106: ImplicitModificationWarning: Trying to modify attribute `._uns` of view, initializing view as actual.\n",
      "  self.data[key] = value\n",
      "C:\\Users\\Hlab\\AppData\\Local\\Programs\\Python\\Python310\\lib\\site-packages\\anndata\\compat\\_overloaded_dict.py:106: ImplicitModificationWarning: Trying to modify attribute `._uns` of view, initializing view as actual.\n",
      "  self.data[key] = value\n",
      "C:\\Users\\Hlab\\AppData\\Local\\Programs\\Python\\Python310\\lib\\site-packages\\anndata\\compat\\_overloaded_dict.py:106: ImplicitModificationWarning: Trying to modify attribute `._uns` of view, initializing view as actual.\n",
      "  self.data[key] = value\n",
      "C:\\Users\\Hlab\\AppData\\Local\\Programs\\Python\\Python310\\lib\\site-packages\\anndata\\compat\\_overloaded_dict.py:106: ImplicitModificationWarning: Trying to modify attribute `._uns` of view, initializing view as actual.\n",
      "  self.data[key] = value\n",
      "C:\\Users\\Hlab\\AppData\\Local\\Programs\\Python\\Python310\\lib\\site-packages\\anndata\\compat\\_overloaded_dict.py:106: ImplicitModificationWarning: Trying to modify attribute `._uns` of view, initializing view as actual.\n",
      "  self.data[key] = value\n",
      "C:\\Users\\Hlab\\AppData\\Local\\Programs\\Python\\Python310\\lib\\site-packages\\anndata\\compat\\_overloaded_dict.py:106: ImplicitModificationWarning: Trying to modify attribute `._uns` of view, initializing view as actual.\n",
      "  self.data[key] = value\n",
      "C:\\Users\\Hlab\\AppData\\Local\\Programs\\Python\\Python310\\lib\\site-packages\\anndata\\compat\\_overloaded_dict.py:106: ImplicitModificationWarning: Trying to modify attribute `._uns` of view, initializing view as actual.\n",
      "  self.data[key] = value\n",
      "C:\\Users\\Hlab\\AppData\\Local\\Programs\\Python\\Python310\\lib\\site-packages\\anndata\\compat\\_overloaded_dict.py:106: ImplicitModificationWarning: Trying to modify attribute `._uns` of view, initializing view as actual.\n",
      "  self.data[key] = value\n",
      "C:\\Users\\Hlab\\AppData\\Local\\Programs\\Python\\Python310\\lib\\site-packages\\anndata\\compat\\_overloaded_dict.py:106: ImplicitModificationWarning: Trying to modify attribute `._uns` of view, initializing view as actual.\n",
      "  self.data[key] = value\n",
      "C:\\Users\\Hlab\\AppData\\Local\\Programs\\Python\\Python310\\lib\\site-packages\\anndata\\compat\\_overloaded_dict.py:106: ImplicitModificationWarning: Trying to modify attribute `._uns` of view, initializing view as actual.\n",
      "  self.data[key] = value\n",
      "C:\\Users\\Hlab\\AppData\\Local\\Programs\\Python\\Python310\\lib\\site-packages\\anndata\\compat\\_overloaded_dict.py:106: ImplicitModificationWarning: Trying to modify attribute `._uns` of view, initializing view as actual.\n",
      "  self.data[key] = value\n",
      "C:\\Users\\Hlab\\AppData\\Local\\Programs\\Python\\Python310\\lib\\site-packages\\anndata\\compat\\_overloaded_dict.py:106: ImplicitModificationWarning: Trying to modify attribute `._uns` of view, initializing view as actual.\n",
      "  self.data[key] = value\n",
      "C:\\Users\\Hlab\\AppData\\Local\\Programs\\Python\\Python310\\lib\\site-packages\\anndata\\compat\\_overloaded_dict.py:106: ImplicitModificationWarning: Trying to modify attribute `._uns` of view, initializing view as actual.\n",
      "  self.data[key] = value\n",
      "C:\\Users\\Hlab\\AppData\\Local\\Programs\\Python\\Python310\\lib\\site-packages\\anndata\\compat\\_overloaded_dict.py:106: ImplicitModificationWarning: Trying to modify attribute `._uns` of view, initializing view as actual.\n",
      "  self.data[key] = value\n",
      "C:\\Users\\Hlab\\AppData\\Local\\Programs\\Python\\Python310\\lib\\site-packages\\anndata\\compat\\_overloaded_dict.py:106: ImplicitModificationWarning: Trying to modify attribute `._uns` of view, initializing view as actual.\n",
      "  self.data[key] = value\n",
      "C:\\Users\\Hlab\\AppData\\Local\\Programs\\Python\\Python310\\lib\\site-packages\\anndata\\compat\\_overloaded_dict.py:106: ImplicitModificationWarning: Trying to modify attribute `._uns` of view, initializing view as actual.\n",
      "  self.data[key] = value\n",
      "C:\\Users\\Hlab\\AppData\\Local\\Programs\\Python\\Python310\\lib\\site-packages\\anndata\\compat\\_overloaded_dict.py:106: ImplicitModificationWarning: Trying to modify attribute `._uns` of view, initializing view as actual.\n",
      "  self.data[key] = value\n",
      "C:\\Users\\Hlab\\AppData\\Local\\Programs\\Python\\Python310\\lib\\site-packages\\anndata\\compat\\_overloaded_dict.py:106: ImplicitModificationWarning: Trying to modify attribute `._uns` of view, initializing view as actual.\n",
      "  self.data[key] = value\n",
      "C:\\Users\\Hlab\\AppData\\Local\\Programs\\Python\\Python310\\lib\\site-packages\\anndata\\compat\\_overloaded_dict.py:106: ImplicitModificationWarning: Trying to modify attribute `._uns` of view, initializing view as actual.\n",
      "  self.data[key] = value\n",
      "C:\\Users\\Hlab\\AppData\\Local\\Programs\\Python\\Python310\\lib\\site-packages\\anndata\\compat\\_overloaded_dict.py:106: ImplicitModificationWarning: Trying to modify attribute `._uns` of view, initializing view as actual.\n",
      "  self.data[key] = value\n",
      "C:\\Users\\Hlab\\AppData\\Local\\Programs\\Python\\Python310\\lib\\site-packages\\anndata\\compat\\_overloaded_dict.py:106: ImplicitModificationWarning: Trying to modify attribute `._uns` of view, initializing view as actual.\n",
      "  self.data[key] = value\n"
     ]
    },
    {
     "name": "stderr",
     "output_type": "stream",
     "text": [
      "C:\\Users\\Hlab\\AppData\\Local\\Programs\\Python\\Python310\\lib\\site-packages\\anndata\\compat\\_overloaded_dict.py:106: ImplicitModificationWarning: Trying to modify attribute `._uns` of view, initializing view as actual.\n",
      "  self.data[key] = value\n",
      "C:\\Users\\Hlab\\AppData\\Local\\Programs\\Python\\Python310\\lib\\site-packages\\anndata\\compat\\_overloaded_dict.py:106: ImplicitModificationWarning: Trying to modify attribute `._uns` of view, initializing view as actual.\n",
      "  self.data[key] = value\n",
      "C:\\Users\\Hlab\\AppData\\Local\\Programs\\Python\\Python310\\lib\\site-packages\\anndata\\compat\\_overloaded_dict.py:106: ImplicitModificationWarning: Trying to modify attribute `._uns` of view, initializing view as actual.\n",
      "  self.data[key] = value\n",
      "C:\\Users\\Hlab\\AppData\\Local\\Programs\\Python\\Python310\\lib\\site-packages\\anndata\\compat\\_overloaded_dict.py:106: ImplicitModificationWarning: Trying to modify attribute `._uns` of view, initializing view as actual.\n",
      "  self.data[key] = value\n",
      "C:\\Users\\Hlab\\AppData\\Local\\Programs\\Python\\Python310\\lib\\site-packages\\anndata\\compat\\_overloaded_dict.py:106: ImplicitModificationWarning: Trying to modify attribute `._uns` of view, initializing view as actual.\n",
      "  self.data[key] = value\n",
      "C:\\Users\\Hlab\\AppData\\Local\\Programs\\Python\\Python310\\lib\\site-packages\\anndata\\compat\\_overloaded_dict.py:106: ImplicitModificationWarning: Trying to modify attribute `._uns` of view, initializing view as actual.\n",
      "  self.data[key] = value\n",
      "C:\\Users\\Hlab\\AppData\\Local\\Programs\\Python\\Python310\\lib\\site-packages\\anndata\\compat\\_overloaded_dict.py:106: ImplicitModificationWarning: Trying to modify attribute `._uns` of view, initializing view as actual.\n",
      "  self.data[key] = value\n",
      "C:\\Users\\Hlab\\AppData\\Local\\Programs\\Python\\Python310\\lib\\site-packages\\anndata\\compat\\_overloaded_dict.py:106: ImplicitModificationWarning: Trying to modify attribute `._uns` of view, initializing view as actual.\n",
      "  self.data[key] = value\n",
      "C:\\Users\\Hlab\\AppData\\Local\\Programs\\Python\\Python310\\lib\\site-packages\\anndata\\compat\\_overloaded_dict.py:106: ImplicitModificationWarning: Trying to modify attribute `._uns` of view, initializing view as actual.\n",
      "  self.data[key] = value\n",
      "C:\\Users\\Hlab\\AppData\\Local\\Programs\\Python\\Python310\\lib\\site-packages\\anndata\\compat\\_overloaded_dict.py:106: ImplicitModificationWarning: Trying to modify attribute `._uns` of view, initializing view as actual.\n",
      "  self.data[key] = value\n",
      "C:\\Users\\Hlab\\AppData\\Local\\Programs\\Python\\Python310\\lib\\site-packages\\anndata\\compat\\_overloaded_dict.py:106: ImplicitModificationWarning: Trying to modify attribute `._uns` of view, initializing view as actual.\n",
      "  self.data[key] = value\n",
      "C:\\Users\\Hlab\\AppData\\Local\\Programs\\Python\\Python310\\lib\\site-packages\\anndata\\compat\\_overloaded_dict.py:106: ImplicitModificationWarning: Trying to modify attribute `._uns` of view, initializing view as actual.\n",
      "  self.data[key] = value\n",
      "C:\\Users\\Hlab\\AppData\\Local\\Programs\\Python\\Python310\\lib\\site-packages\\anndata\\compat\\_overloaded_dict.py:106: ImplicitModificationWarning: Trying to modify attribute `._uns` of view, initializing view as actual.\n",
      "  self.data[key] = value\n",
      "C:\\Users\\Hlab\\AppData\\Local\\Programs\\Python\\Python310\\lib\\site-packages\\anndata\\compat\\_overloaded_dict.py:106: ImplicitModificationWarning: Trying to modify attribute `._uns` of view, initializing view as actual.\n",
      "  self.data[key] = value\n",
      "C:\\Users\\Hlab\\AppData\\Local\\Programs\\Python\\Python310\\lib\\site-packages\\anndata\\compat\\_overloaded_dict.py:106: ImplicitModificationWarning: Trying to modify attribute `._uns` of view, initializing view as actual.\n",
      "  self.data[key] = value\n",
      "C:\\Users\\Hlab\\AppData\\Local\\Programs\\Python\\Python310\\lib\\site-packages\\anndata\\compat\\_overloaded_dict.py:106: ImplicitModificationWarning: Trying to modify attribute `._uns` of view, initializing view as actual.\n",
      "  self.data[key] = value\n",
      "C:\\Users\\Hlab\\AppData\\Local\\Programs\\Python\\Python310\\lib\\site-packages\\anndata\\compat\\_overloaded_dict.py:106: ImplicitModificationWarning: Trying to modify attribute `._uns` of view, initializing view as actual.\n",
      "  self.data[key] = value\n",
      "C:\\Users\\Hlab\\AppData\\Local\\Programs\\Python\\Python310\\lib\\site-packages\\anndata\\compat\\_overloaded_dict.py:106: ImplicitModificationWarning: Trying to modify attribute `._uns` of view, initializing view as actual.\n",
      "  self.data[key] = value\n",
      "C:\\Users\\Hlab\\AppData\\Local\\Programs\\Python\\Python310\\lib\\site-packages\\anndata\\compat\\_overloaded_dict.py:106: ImplicitModificationWarning: Trying to modify attribute `._uns` of view, initializing view as actual.\n",
      "  self.data[key] = value\n",
      "C:\\Users\\Hlab\\AppData\\Local\\Programs\\Python\\Python310\\lib\\site-packages\\anndata\\compat\\_overloaded_dict.py:106: ImplicitModificationWarning: Trying to modify attribute `._uns` of view, initializing view as actual.\n",
      "  self.data[key] = value\n",
      "C:\\Users\\Hlab\\AppData\\Local\\Programs\\Python\\Python310\\lib\\site-packages\\anndata\\compat\\_overloaded_dict.py:106: ImplicitModificationWarning: Trying to modify attribute `._uns` of view, initializing view as actual.\n",
      "  self.data[key] = value\n"
     ]
    }
   ],
   "source": [
    "folderName = 'IndividualSamples'\n",
    "saveFolderName = 'IndividualSamples_Clusters'\n",
    "\n",
    "addingQCandDEscore(sampleNameLst, folderName, saveFolderName)\n",
    "# addingSexInfo(mouseSexLst, sampleNameLst, folderName)"
   ]
  },
  {
   "cell_type": "code",
   "execution_count": 16,
   "id": "93533a41",
   "metadata": {
    "scrolled": true
   },
   "outputs": [
    {
     "name": "stderr",
     "output_type": "stream",
     "text": [
      "C:\\Users\\Hlab\\AppData\\Local\\Programs\\Python\\Python310\\lib\\site-packages\\anndata\\compat\\_overloaded_dict.py:106: ImplicitModificationWarning: Trying to modify attribute `._uns` of view, initializing view as actual.\n",
      "  self.data[key] = value\n",
      "C:\\Users\\Hlab\\AppData\\Local\\Programs\\Python\\Python310\\lib\\site-packages\\anndata\\compat\\_overloaded_dict.py:106: ImplicitModificationWarning: Trying to modify attribute `._uns` of view, initializing view as actual.\n",
      "  self.data[key] = value\n",
      "C:\\Users\\Hlab\\AppData\\Local\\Programs\\Python\\Python310\\lib\\site-packages\\anndata\\compat\\_overloaded_dict.py:106: ImplicitModificationWarning: Trying to modify attribute `._uns` of view, initializing view as actual.\n",
      "  self.data[key] = value\n",
      "C:\\Users\\Hlab\\AppData\\Local\\Programs\\Python\\Python310\\lib\\site-packages\\anndata\\compat\\_overloaded_dict.py:106: ImplicitModificationWarning: Trying to modify attribute `._uns` of view, initializing view as actual.\n",
      "  self.data[key] = value\n",
      "C:\\Users\\Hlab\\AppData\\Local\\Programs\\Python\\Python310\\lib\\site-packages\\anndata\\compat\\_overloaded_dict.py:106: ImplicitModificationWarning: Trying to modify attribute `._uns` of view, initializing view as actual.\n",
      "  self.data[key] = value\n",
      "C:\\Users\\Hlab\\AppData\\Local\\Programs\\Python\\Python310\\lib\\site-packages\\anndata\\compat\\_overloaded_dict.py:106: ImplicitModificationWarning: Trying to modify attribute `._uns` of view, initializing view as actual.\n",
      "  self.data[key] = value\n",
      "C:\\Users\\Hlab\\AppData\\Local\\Programs\\Python\\Python310\\lib\\site-packages\\anndata\\compat\\_overloaded_dict.py:106: ImplicitModificationWarning: Trying to modify attribute `._uns` of view, initializing view as actual.\n",
      "  self.data[key] = value\n",
      "C:\\Users\\Hlab\\AppData\\Local\\Programs\\Python\\Python310\\lib\\site-packages\\anndata\\compat\\_overloaded_dict.py:106: ImplicitModificationWarning: Trying to modify attribute `._uns` of view, initializing view as actual.\n",
      "  self.data[key] = value\n",
      "C:\\Users\\Hlab\\AppData\\Local\\Programs\\Python\\Python310\\lib\\site-packages\\anndata\\compat\\_overloaded_dict.py:106: ImplicitModificationWarning: Trying to modify attribute `._uns` of view, initializing view as actual.\n",
      "  self.data[key] = value\n",
      "C:\\Users\\Hlab\\AppData\\Local\\Programs\\Python\\Python310\\lib\\site-packages\\anndata\\compat\\_overloaded_dict.py:106: ImplicitModificationWarning: Trying to modify attribute `._uns` of view, initializing view as actual.\n",
      "  self.data[key] = value\n",
      "C:\\Users\\Hlab\\AppData\\Local\\Programs\\Python\\Python310\\lib\\site-packages\\anndata\\compat\\_overloaded_dict.py:106: ImplicitModificationWarning: Trying to modify attribute `._uns` of view, initializing view as actual.\n",
      "  self.data[key] = value\n",
      "C:\\Users\\Hlab\\AppData\\Local\\Programs\\Python\\Python310\\lib\\site-packages\\anndata\\compat\\_overloaded_dict.py:106: ImplicitModificationWarning: Trying to modify attribute `._uns` of view, initializing view as actual.\n",
      "  self.data[key] = value\n",
      "C:\\Users\\Hlab\\AppData\\Local\\Programs\\Python\\Python310\\lib\\site-packages\\anndata\\compat\\_overloaded_dict.py:106: ImplicitModificationWarning: Trying to modify attribute `._uns` of view, initializing view as actual.\n",
      "  self.data[key] = value\n",
      "C:\\Users\\Hlab\\AppData\\Local\\Programs\\Python\\Python310\\lib\\site-packages\\anndata\\compat\\_overloaded_dict.py:106: ImplicitModificationWarning: Trying to modify attribute `._uns` of view, initializing view as actual.\n",
      "  self.data[key] = value\n",
      "C:\\Users\\Hlab\\AppData\\Local\\Programs\\Python\\Python310\\lib\\site-packages\\anndata\\compat\\_overloaded_dict.py:106: ImplicitModificationWarning: Trying to modify attribute `._uns` of view, initializing view as actual.\n",
      "  self.data[key] = value\n",
      "C:\\Users\\Hlab\\AppData\\Local\\Programs\\Python\\Python310\\lib\\site-packages\\anndata\\compat\\_overloaded_dict.py:106: ImplicitModificationWarning: Trying to modify attribute `._uns` of view, initializing view as actual.\n",
      "  self.data[key] = value\n",
      "C:\\Users\\Hlab\\AppData\\Local\\Programs\\Python\\Python310\\lib\\site-packages\\anndata\\compat\\_overloaded_dict.py:106: ImplicitModificationWarning: Trying to modify attribute `._uns` of view, initializing view as actual.\n",
      "  self.data[key] = value\n",
      "C:\\Users\\Hlab\\AppData\\Local\\Programs\\Python\\Python310\\lib\\site-packages\\anndata\\compat\\_overloaded_dict.py:106: ImplicitModificationWarning: Trying to modify attribute `._uns` of view, initializing view as actual.\n",
      "  self.data[key] = value\n",
      "C:\\Users\\Hlab\\AppData\\Local\\Programs\\Python\\Python310\\lib\\site-packages\\anndata\\compat\\_overloaded_dict.py:106: ImplicitModificationWarning: Trying to modify attribute `._uns` of view, initializing view as actual.\n",
      "  self.data[key] = value\n",
      "C:\\Users\\Hlab\\AppData\\Local\\Programs\\Python\\Python310\\lib\\site-packages\\anndata\\compat\\_overloaded_dict.py:106: ImplicitModificationWarning: Trying to modify attribute `._uns` of view, initializing view as actual.\n",
      "  self.data[key] = value\n",
      "C:\\Users\\Hlab\\AppData\\Local\\Programs\\Python\\Python310\\lib\\site-packages\\anndata\\compat\\_overloaded_dict.py:106: ImplicitModificationWarning: Trying to modify attribute `._uns` of view, initializing view as actual.\n",
      "  self.data[key] = value\n",
      "C:\\Users\\Hlab\\AppData\\Local\\Programs\\Python\\Python310\\lib\\site-packages\\anndata\\compat\\_overloaded_dict.py:106: ImplicitModificationWarning: Trying to modify attribute `._uns` of view, initializing view as actual.\n",
      "  self.data[key] = value\n",
      "C:\\Users\\Hlab\\AppData\\Local\\Programs\\Python\\Python310\\lib\\site-packages\\anndata\\compat\\_overloaded_dict.py:106: ImplicitModificationWarning: Trying to modify attribute `._uns` of view, initializing view as actual.\n",
      "  self.data[key] = value\n",
      "C:\\Users\\Hlab\\AppData\\Local\\Programs\\Python\\Python310\\lib\\site-packages\\anndata\\compat\\_overloaded_dict.py:106: ImplicitModificationWarning: Trying to modify attribute `._uns` of view, initializing view as actual.\n",
      "  self.data[key] = value\n",
      "C:\\Users\\Hlab\\AppData\\Local\\Programs\\Python\\Python310\\lib\\site-packages\\anndata\\compat\\_overloaded_dict.py:106: ImplicitModificationWarning: Trying to modify attribute `._uns` of view, initializing view as actual.\n",
      "  self.data[key] = value\n",
      "C:\\Users\\Hlab\\AppData\\Local\\Programs\\Python\\Python310\\lib\\site-packages\\anndata\\compat\\_overloaded_dict.py:106: ImplicitModificationWarning: Trying to modify attribute `._uns` of view, initializing view as actual.\n",
      "  self.data[key] = value\n",
      "C:\\Users\\Hlab\\AppData\\Local\\Programs\\Python\\Python310\\lib\\site-packages\\anndata\\compat\\_overloaded_dict.py:106: ImplicitModificationWarning: Trying to modify attribute `._uns` of view, initializing view as actual.\n",
      "  self.data[key] = value\n",
      "C:\\Users\\Hlab\\AppData\\Local\\Programs\\Python\\Python310\\lib\\site-packages\\anndata\\compat\\_overloaded_dict.py:106: ImplicitModificationWarning: Trying to modify attribute `._uns` of view, initializing view as actual.\n",
      "  self.data[key] = value\n",
      "C:\\Users\\Hlab\\AppData\\Local\\Programs\\Python\\Python310\\lib\\site-packages\\anndata\\compat\\_overloaded_dict.py:106: ImplicitModificationWarning: Trying to modify attribute `._uns` of view, initializing view as actual.\n",
      "  self.data[key] = value\n",
      "C:\\Users\\Hlab\\AppData\\Local\\Programs\\Python\\Python310\\lib\\site-packages\\anndata\\compat\\_overloaded_dict.py:106: ImplicitModificationWarning: Trying to modify attribute `._uns` of view, initializing view as actual.\n",
      "  self.data[key] = value\n",
      "C:\\Users\\Hlab\\AppData\\Local\\Programs\\Python\\Python310\\lib\\site-packages\\anndata\\compat\\_overloaded_dict.py:106: ImplicitModificationWarning: Trying to modify attribute `._uns` of view, initializing view as actual.\n",
      "  self.data[key] = value\n",
      "C:\\Users\\Hlab\\AppData\\Local\\Programs\\Python\\Python310\\lib\\site-packages\\anndata\\compat\\_overloaded_dict.py:106: ImplicitModificationWarning: Trying to modify attribute `._uns` of view, initializing view as actual.\n",
      "  self.data[key] = value\n",
      "C:\\Users\\Hlab\\AppData\\Local\\Programs\\Python\\Python310\\lib\\site-packages\\anndata\\compat\\_overloaded_dict.py:106: ImplicitModificationWarning: Trying to modify attribute `._uns` of view, initializing view as actual.\n",
      "  self.data[key] = value\n",
      "C:\\Users\\Hlab\\AppData\\Local\\Programs\\Python\\Python310\\lib\\site-packages\\anndata\\compat\\_overloaded_dict.py:106: ImplicitModificationWarning: Trying to modify attribute `._uns` of view, initializing view as actual.\n",
      "  self.data[key] = value\n",
      "C:\\Users\\Hlab\\AppData\\Local\\Programs\\Python\\Python310\\lib\\site-packages\\anndata\\compat\\_overloaded_dict.py:106: ImplicitModificationWarning: Trying to modify attribute `._uns` of view, initializing view as actual.\n",
      "  self.data[key] = value\n"
     ]
    },
    {
     "name": "stderr",
     "output_type": "stream",
     "text": [
      "C:\\Users\\Hlab\\AppData\\Local\\Programs\\Python\\Python310\\lib\\site-packages\\anndata\\compat\\_overloaded_dict.py:106: ImplicitModificationWarning: Trying to modify attribute `._uns` of view, initializing view as actual.\n",
      "  self.data[key] = value\n",
      "C:\\Users\\Hlab\\AppData\\Local\\Programs\\Python\\Python310\\lib\\site-packages\\anndata\\compat\\_overloaded_dict.py:106: ImplicitModificationWarning: Trying to modify attribute `._uns` of view, initializing view as actual.\n",
      "  self.data[key] = value\n",
      "C:\\Users\\Hlab\\AppData\\Local\\Programs\\Python\\Python310\\lib\\site-packages\\anndata\\compat\\_overloaded_dict.py:106: ImplicitModificationWarning: Trying to modify attribute `._uns` of view, initializing view as actual.\n",
      "  self.data[key] = value\n",
      "C:\\Users\\Hlab\\AppData\\Local\\Programs\\Python\\Python310\\lib\\site-packages\\anndata\\compat\\_overloaded_dict.py:106: ImplicitModificationWarning: Trying to modify attribute `._uns` of view, initializing view as actual.\n",
      "  self.data[key] = value\n",
      "C:\\Users\\Hlab\\AppData\\Local\\Programs\\Python\\Python310\\lib\\site-packages\\anndata\\compat\\_overloaded_dict.py:106: ImplicitModificationWarning: Trying to modify attribute `._uns` of view, initializing view as actual.\n",
      "  self.data[key] = value\n",
      "C:\\Users\\Hlab\\AppData\\Local\\Programs\\Python\\Python310\\lib\\site-packages\\anndata\\compat\\_overloaded_dict.py:106: ImplicitModificationWarning: Trying to modify attribute `._uns` of view, initializing view as actual.\n",
      "  self.data[key] = value\n",
      "C:\\Users\\Hlab\\AppData\\Local\\Programs\\Python\\Python310\\lib\\site-packages\\anndata\\compat\\_overloaded_dict.py:106: ImplicitModificationWarning: Trying to modify attribute `._uns` of view, initializing view as actual.\n",
      "  self.data[key] = value\n",
      "C:\\Users\\Hlab\\AppData\\Local\\Programs\\Python\\Python310\\lib\\site-packages\\anndata\\compat\\_overloaded_dict.py:106: ImplicitModificationWarning: Trying to modify attribute `._uns` of view, initializing view as actual.\n",
      "  self.data[key] = value\n",
      "C:\\Users\\Hlab\\AppData\\Local\\Programs\\Python\\Python310\\lib\\site-packages\\anndata\\compat\\_overloaded_dict.py:106: ImplicitModificationWarning: Trying to modify attribute `._uns` of view, initializing view as actual.\n",
      "  self.data[key] = value\n",
      "C:\\Users\\Hlab\\AppData\\Local\\Programs\\Python\\Python310\\lib\\site-packages\\anndata\\compat\\_overloaded_dict.py:106: ImplicitModificationWarning: Trying to modify attribute `._uns` of view, initializing view as actual.\n",
      "  self.data[key] = value\n",
      "C:\\Users\\Hlab\\AppData\\Local\\Programs\\Python\\Python310\\lib\\site-packages\\anndata\\compat\\_overloaded_dict.py:106: ImplicitModificationWarning: Trying to modify attribute `._uns` of view, initializing view as actual.\n",
      "  self.data[key] = value\n",
      "C:\\Users\\Hlab\\AppData\\Local\\Programs\\Python\\Python310\\lib\\site-packages\\anndata\\compat\\_overloaded_dict.py:106: ImplicitModificationWarning: Trying to modify attribute `._uns` of view, initializing view as actual.\n",
      "  self.data[key] = value\n",
      "C:\\Users\\Hlab\\AppData\\Local\\Programs\\Python\\Python310\\lib\\site-packages\\anndata\\compat\\_overloaded_dict.py:106: ImplicitModificationWarning: Trying to modify attribute `._uns` of view, initializing view as actual.\n",
      "  self.data[key] = value\n",
      "C:\\Users\\Hlab\\AppData\\Local\\Programs\\Python\\Python310\\lib\\site-packages\\anndata\\compat\\_overloaded_dict.py:106: ImplicitModificationWarning: Trying to modify attribute `._uns` of view, initializing view as actual.\n",
      "  self.data[key] = value\n",
      "C:\\Users\\Hlab\\AppData\\Local\\Programs\\Python\\Python310\\lib\\site-packages\\anndata\\compat\\_overloaded_dict.py:106: ImplicitModificationWarning: Trying to modify attribute `._uns` of view, initializing view as actual.\n",
      "  self.data[key] = value\n",
      "C:\\Users\\Hlab\\AppData\\Local\\Programs\\Python\\Python310\\lib\\site-packages\\anndata\\compat\\_overloaded_dict.py:106: ImplicitModificationWarning: Trying to modify attribute `._uns` of view, initializing view as actual.\n",
      "  self.data[key] = value\n",
      "C:\\Users\\Hlab\\AppData\\Local\\Programs\\Python\\Python310\\lib\\site-packages\\anndata\\compat\\_overloaded_dict.py:106: ImplicitModificationWarning: Trying to modify attribute `._uns` of view, initializing view as actual.\n",
      "  self.data[key] = value\n",
      "C:\\Users\\Hlab\\AppData\\Local\\Programs\\Python\\Python310\\lib\\site-packages\\anndata\\compat\\_overloaded_dict.py:106: ImplicitModificationWarning: Trying to modify attribute `._uns` of view, initializing view as actual.\n",
      "  self.data[key] = value\n",
      "C:\\Users\\Hlab\\AppData\\Local\\Programs\\Python\\Python310\\lib\\site-packages\\anndata\\compat\\_overloaded_dict.py:106: ImplicitModificationWarning: Trying to modify attribute `._uns` of view, initializing view as actual.\n",
      "  self.data[key] = value\n",
      "C:\\Users\\Hlab\\AppData\\Local\\Programs\\Python\\Python310\\lib\\site-packages\\anndata\\compat\\_overloaded_dict.py:106: ImplicitModificationWarning: Trying to modify attribute `._uns` of view, initializing view as actual.\n",
      "  self.data[key] = value\n",
      "C:\\Users\\Hlab\\AppData\\Local\\Programs\\Python\\Python310\\lib\\site-packages\\anndata\\compat\\_overloaded_dict.py:106: ImplicitModificationWarning: Trying to modify attribute `._uns` of view, initializing view as actual.\n",
      "  self.data[key] = value\n",
      "C:\\Users\\Hlab\\AppData\\Local\\Programs\\Python\\Python310\\lib\\site-packages\\anndata\\compat\\_overloaded_dict.py:106: ImplicitModificationWarning: Trying to modify attribute `._uns` of view, initializing view as actual.\n",
      "  self.data[key] = value\n",
      "C:\\Users\\Hlab\\AppData\\Local\\Programs\\Python\\Python310\\lib\\site-packages\\anndata\\compat\\_overloaded_dict.py:106: ImplicitModificationWarning: Trying to modify attribute `._uns` of view, initializing view as actual.\n",
      "  self.data[key] = value\n",
      "C:\\Users\\Hlab\\AppData\\Local\\Programs\\Python\\Python310\\lib\\site-packages\\anndata\\compat\\_overloaded_dict.py:106: ImplicitModificationWarning: Trying to modify attribute `._uns` of view, initializing view as actual.\n",
      "  self.data[key] = value\n",
      "C:\\Users\\Hlab\\AppData\\Local\\Programs\\Python\\Python310\\lib\\site-packages\\anndata\\compat\\_overloaded_dict.py:106: ImplicitModificationWarning: Trying to modify attribute `._uns` of view, initializing view as actual.\n",
      "  self.data[key] = value\n",
      "C:\\Users\\Hlab\\AppData\\Local\\Programs\\Python\\Python310\\lib\\site-packages\\anndata\\compat\\_overloaded_dict.py:106: ImplicitModificationWarning: Trying to modify attribute `._uns` of view, initializing view as actual.\n",
      "  self.data[key] = value\n",
      "C:\\Users\\Hlab\\AppData\\Local\\Programs\\Python\\Python310\\lib\\site-packages\\anndata\\compat\\_overloaded_dict.py:106: ImplicitModificationWarning: Trying to modify attribute `._uns` of view, initializing view as actual.\n",
      "  self.data[key] = value\n",
      "C:\\Users\\Hlab\\AppData\\Local\\Programs\\Python\\Python310\\lib\\site-packages\\anndata\\compat\\_overloaded_dict.py:106: ImplicitModificationWarning: Trying to modify attribute `._uns` of view, initializing view as actual.\n",
      "  self.data[key] = value\n",
      "C:\\Users\\Hlab\\AppData\\Local\\Programs\\Python\\Python310\\lib\\site-packages\\anndata\\compat\\_overloaded_dict.py:106: ImplicitModificationWarning: Trying to modify attribute `._uns` of view, initializing view as actual.\n",
      "  self.data[key] = value\n",
      "C:\\Users\\Hlab\\AppData\\Local\\Programs\\Python\\Python310\\lib\\site-packages\\anndata\\compat\\_overloaded_dict.py:106: ImplicitModificationWarning: Trying to modify attribute `._uns` of view, initializing view as actual.\n",
      "  self.data[key] = value\n",
      "C:\\Users\\Hlab\\AppData\\Local\\Programs\\Python\\Python310\\lib\\site-packages\\anndata\\compat\\_overloaded_dict.py:106: ImplicitModificationWarning: Trying to modify attribute `._uns` of view, initializing view as actual.\n",
      "  self.data[key] = value\n",
      "C:\\Users\\Hlab\\AppData\\Local\\Programs\\Python\\Python310\\lib\\site-packages\\anndata\\compat\\_overloaded_dict.py:106: ImplicitModificationWarning: Trying to modify attribute `._uns` of view, initializing view as actual.\n",
      "  self.data[key] = value\n",
      "C:\\Users\\Hlab\\AppData\\Local\\Programs\\Python\\Python310\\lib\\site-packages\\anndata\\compat\\_overloaded_dict.py:106: ImplicitModificationWarning: Trying to modify attribute `._uns` of view, initializing view as actual.\n",
      "  self.data[key] = value\n",
      "C:\\Users\\Hlab\\AppData\\Local\\Programs\\Python\\Python310\\lib\\site-packages\\anndata\\compat\\_overloaded_dict.py:106: ImplicitModificationWarning: Trying to modify attribute `._uns` of view, initializing view as actual.\n",
      "  self.data[key] = value\n",
      "C:\\Users\\Hlab\\AppData\\Local\\Programs\\Python\\Python310\\lib\\site-packages\\anndata\\compat\\_overloaded_dict.py:106: ImplicitModificationWarning: Trying to modify attribute `._uns` of view, initializing view as actual.\n",
      "  self.data[key] = value\n"
     ]
    },
    {
     "name": "stderr",
     "output_type": "stream",
     "text": [
      "C:\\Users\\Hlab\\AppData\\Local\\Programs\\Python\\Python310\\lib\\site-packages\\anndata\\compat\\_overloaded_dict.py:106: ImplicitModificationWarning: Trying to modify attribute `._uns` of view, initializing view as actual.\n",
      "  self.data[key] = value\n"
     ]
    },
    {
     "name": "stdout",
     "output_type": "stream",
     "text": [
      "WARNING: Your filename has more than two extensions: ['. Hem', '. (L)_16_VC19L_1_VC20L', '.h5ad'].\n",
      "Only considering the two last: ['. (L)_16_VC19L_1_VC20L', '.h5ad'].\n",
      "WARNING: Your filename has more than two extensions: ['. Hem', '. (L)_16_VC19L_1_VC20L', '.h5ad'].\n",
      "Only considering the two last: ['. (L)_16_VC19L_1_VC20L', '.h5ad'].\n"
     ]
    },
    {
     "name": "stderr",
     "output_type": "stream",
     "text": [
      "C:\\Users\\Hlab\\AppData\\Local\\Programs\\Python\\Python310\\lib\\site-packages\\anndata\\compat\\_overloaded_dict.py:106: ImplicitModificationWarning: Trying to modify attribute `._uns` of view, initializing view as actual.\n",
      "  self.data[key] = value\n",
      "C:\\Users\\Hlab\\AppData\\Local\\Programs\\Python\\Python310\\lib\\site-packages\\anndata\\compat\\_overloaded_dict.py:106: ImplicitModificationWarning: Trying to modify attribute `._uns` of view, initializing view as actual.\n",
      "  self.data[key] = value\n",
      "C:\\Users\\Hlab\\AppData\\Local\\Programs\\Python\\Python310\\lib\\site-packages\\anndata\\compat\\_overloaded_dict.py:106: ImplicitModificationWarning: Trying to modify attribute `._uns` of view, initializing view as actual.\n",
      "  self.data[key] = value\n",
      "C:\\Users\\Hlab\\AppData\\Local\\Programs\\Python\\Python310\\lib\\site-packages\\anndata\\compat\\_overloaded_dict.py:106: ImplicitModificationWarning: Trying to modify attribute `._uns` of view, initializing view as actual.\n",
      "  self.data[key] = value\n",
      "C:\\Users\\Hlab\\AppData\\Local\\Programs\\Python\\Python310\\lib\\site-packages\\anndata\\compat\\_overloaded_dict.py:106: ImplicitModificationWarning: Trying to modify attribute `._uns` of view, initializing view as actual.\n",
      "  self.data[key] = value\n",
      "C:\\Users\\Hlab\\AppData\\Local\\Programs\\Python\\Python310\\lib\\site-packages\\anndata\\compat\\_overloaded_dict.py:106: ImplicitModificationWarning: Trying to modify attribute `._uns` of view, initializing view as actual.\n",
      "  self.data[key] = value\n",
      "C:\\Users\\Hlab\\AppData\\Local\\Programs\\Python\\Python310\\lib\\site-packages\\anndata\\compat\\_overloaded_dict.py:106: ImplicitModificationWarning: Trying to modify attribute `._uns` of view, initializing view as actual.\n",
      "  self.data[key] = value\n",
      "C:\\Users\\Hlab\\AppData\\Local\\Programs\\Python\\Python310\\lib\\site-packages\\anndata\\compat\\_overloaded_dict.py:106: ImplicitModificationWarning: Trying to modify attribute `._uns` of view, initializing view as actual.\n",
      "  self.data[key] = value\n",
      "C:\\Users\\Hlab\\AppData\\Local\\Programs\\Python\\Python310\\lib\\site-packages\\anndata\\compat\\_overloaded_dict.py:106: ImplicitModificationWarning: Trying to modify attribute `._uns` of view, initializing view as actual.\n",
      "  self.data[key] = value\n",
      "C:\\Users\\Hlab\\AppData\\Local\\Programs\\Python\\Python310\\lib\\site-packages\\anndata\\compat\\_overloaded_dict.py:106: ImplicitModificationWarning: Trying to modify attribute `._uns` of view, initializing view as actual.\n",
      "  self.data[key] = value\n",
      "C:\\Users\\Hlab\\AppData\\Local\\Programs\\Python\\Python310\\lib\\site-packages\\anndata\\compat\\_overloaded_dict.py:106: ImplicitModificationWarning: Trying to modify attribute `._uns` of view, initializing view as actual.\n",
      "  self.data[key] = value\n",
      "C:\\Users\\Hlab\\AppData\\Local\\Programs\\Python\\Python310\\lib\\site-packages\\anndata\\compat\\_overloaded_dict.py:106: ImplicitModificationWarning: Trying to modify attribute `._uns` of view, initializing view as actual.\n",
      "  self.data[key] = value\n",
      "C:\\Users\\Hlab\\AppData\\Local\\Programs\\Python\\Python310\\lib\\site-packages\\anndata\\compat\\_overloaded_dict.py:106: ImplicitModificationWarning: Trying to modify attribute `._uns` of view, initializing view as actual.\n",
      "  self.data[key] = value\n",
      "C:\\Users\\Hlab\\AppData\\Local\\Programs\\Python\\Python310\\lib\\site-packages\\anndata\\compat\\_overloaded_dict.py:106: ImplicitModificationWarning: Trying to modify attribute `._uns` of view, initializing view as actual.\n",
      "  self.data[key] = value\n",
      "C:\\Users\\Hlab\\AppData\\Local\\Programs\\Python\\Python310\\lib\\site-packages\\anndata\\compat\\_overloaded_dict.py:106: ImplicitModificationWarning: Trying to modify attribute `._uns` of view, initializing view as actual.\n",
      "  self.data[key] = value\n",
      "C:\\Users\\Hlab\\AppData\\Local\\Programs\\Python\\Python310\\lib\\site-packages\\anndata\\compat\\_overloaded_dict.py:106: ImplicitModificationWarning: Trying to modify attribute `._uns` of view, initializing view as actual.\n",
      "  self.data[key] = value\n",
      "C:\\Users\\Hlab\\AppData\\Local\\Programs\\Python\\Python310\\lib\\site-packages\\anndata\\compat\\_overloaded_dict.py:106: ImplicitModificationWarning: Trying to modify attribute `._uns` of view, initializing view as actual.\n",
      "  self.data[key] = value\n",
      "C:\\Users\\Hlab\\AppData\\Local\\Programs\\Python\\Python310\\lib\\site-packages\\anndata\\compat\\_overloaded_dict.py:106: ImplicitModificationWarning: Trying to modify attribute `._uns` of view, initializing view as actual.\n",
      "  self.data[key] = value\n"
     ]
    },
    {
     "name": "stdout",
     "output_type": "stream",
     "text": [
      "WARNING: Your filename has more than two extensions: ['. Hem', '. (L)_19_AC19L_2_AC20L', '.h5ad'].\n",
      "Only considering the two last: ['. (L)_19_AC19L_2_AC20L', '.h5ad'].\n",
      "WARNING: Your filename has more than two extensions: ['. Hem', '. (L)_19_AC19L_2_AC20L', '.h5ad'].\n",
      "Only considering the two last: ['. (L)_19_AC19L_2_AC20L', '.h5ad'].\n"
     ]
    },
    {
     "name": "stderr",
     "output_type": "stream",
     "text": [
      "C:\\Users\\Hlab\\AppData\\Local\\Programs\\Python\\Python310\\lib\\site-packages\\anndata\\compat\\_overloaded_dict.py:106: ImplicitModificationWarning: Trying to modify attribute `._uns` of view, initializing view as actual.\n",
      "  self.data[key] = value\n",
      "C:\\Users\\Hlab\\AppData\\Local\\Programs\\Python\\Python310\\lib\\site-packages\\anndata\\compat\\_overloaded_dict.py:106: ImplicitModificationWarning: Trying to modify attribute `._uns` of view, initializing view as actual.\n",
      "  self.data[key] = value\n",
      "C:\\Users\\Hlab\\AppData\\Local\\Programs\\Python\\Python310\\lib\\site-packages\\anndata\\compat\\_overloaded_dict.py:106: ImplicitModificationWarning: Trying to modify attribute `._uns` of view, initializing view as actual.\n",
      "  self.data[key] = value\n",
      "C:\\Users\\Hlab\\AppData\\Local\\Programs\\Python\\Python310\\lib\\site-packages\\anndata\\compat\\_overloaded_dict.py:106: ImplicitModificationWarning: Trying to modify attribute `._uns` of view, initializing view as actual.\n",
      "  self.data[key] = value\n",
      "C:\\Users\\Hlab\\AppData\\Local\\Programs\\Python\\Python310\\lib\\site-packages\\anndata\\compat\\_overloaded_dict.py:106: ImplicitModificationWarning: Trying to modify attribute `._uns` of view, initializing view as actual.\n",
      "  self.data[key] = value\n",
      "C:\\Users\\Hlab\\AppData\\Local\\Programs\\Python\\Python310\\lib\\site-packages\\anndata\\compat\\_overloaded_dict.py:106: ImplicitModificationWarning: Trying to modify attribute `._uns` of view, initializing view as actual.\n",
      "  self.data[key] = value\n",
      "C:\\Users\\Hlab\\AppData\\Local\\Programs\\Python\\Python310\\lib\\site-packages\\anndata\\compat\\_overloaded_dict.py:106: ImplicitModificationWarning: Trying to modify attribute `._uns` of view, initializing view as actual.\n",
      "  self.data[key] = value\n",
      "C:\\Users\\Hlab\\AppData\\Local\\Programs\\Python\\Python310\\lib\\site-packages\\anndata\\compat\\_overloaded_dict.py:106: ImplicitModificationWarning: Trying to modify attribute `._uns` of view, initializing view as actual.\n",
      "  self.data[key] = value\n",
      "C:\\Users\\Hlab\\AppData\\Local\\Programs\\Python\\Python310\\lib\\site-packages\\anndata\\compat\\_overloaded_dict.py:106: ImplicitModificationWarning: Trying to modify attribute `._uns` of view, initializing view as actual.\n",
      "  self.data[key] = value\n",
      "C:\\Users\\Hlab\\AppData\\Local\\Programs\\Python\\Python310\\lib\\site-packages\\anndata\\compat\\_overloaded_dict.py:106: ImplicitModificationWarning: Trying to modify attribute `._uns` of view, initializing view as actual.\n",
      "  self.data[key] = value\n",
      "C:\\Users\\Hlab\\AppData\\Local\\Programs\\Python\\Python310\\lib\\site-packages\\anndata\\compat\\_overloaded_dict.py:106: ImplicitModificationWarning: Trying to modify attribute `._uns` of view, initializing view as actual.\n",
      "  self.data[key] = value\n",
      "C:\\Users\\Hlab\\AppData\\Local\\Programs\\Python\\Python310\\lib\\site-packages\\anndata\\compat\\_overloaded_dict.py:106: ImplicitModificationWarning: Trying to modify attribute `._uns` of view, initializing view as actual.\n",
      "  self.data[key] = value\n",
      "C:\\Users\\Hlab\\AppData\\Local\\Programs\\Python\\Python310\\lib\\site-packages\\anndata\\compat\\_overloaded_dict.py:106: ImplicitModificationWarning: Trying to modify attribute `._uns` of view, initializing view as actual.\n",
      "  self.data[key] = value\n",
      "C:\\Users\\Hlab\\AppData\\Local\\Programs\\Python\\Python310\\lib\\site-packages\\anndata\\compat\\_overloaded_dict.py:106: ImplicitModificationWarning: Trying to modify attribute `._uns` of view, initializing view as actual.\n",
      "  self.data[key] = value\n",
      "C:\\Users\\Hlab\\AppData\\Local\\Programs\\Python\\Python310\\lib\\site-packages\\anndata\\compat\\_overloaded_dict.py:106: ImplicitModificationWarning: Trying to modify attribute `._uns` of view, initializing view as actual.\n",
      "  self.data[key] = value\n",
      "C:\\Users\\Hlab\\AppData\\Local\\Programs\\Python\\Python310\\lib\\site-packages\\anndata\\compat\\_overloaded_dict.py:106: ImplicitModificationWarning: Trying to modify attribute `._uns` of view, initializing view as actual.\n",
      "  self.data[key] = value\n",
      "C:\\Users\\Hlab\\AppData\\Local\\Programs\\Python\\Python310\\lib\\site-packages\\anndata\\compat\\_overloaded_dict.py:106: ImplicitModificationWarning: Trying to modify attribute `._uns` of view, initializing view as actual.\n",
      "  self.data[key] = value\n",
      "C:\\Users\\Hlab\\AppData\\Local\\Programs\\Python\\Python310\\lib\\site-packages\\anndata\\compat\\_overloaded_dict.py:106: ImplicitModificationWarning: Trying to modify attribute `._uns` of view, initializing view as actual.\n",
      "  self.data[key] = value\n",
      "C:\\Users\\Hlab\\AppData\\Local\\Programs\\Python\\Python310\\lib\\site-packages\\anndata\\compat\\_overloaded_dict.py:106: ImplicitModificationWarning: Trying to modify attribute `._uns` of view, initializing view as actual.\n",
      "  self.data[key] = value\n"
     ]
    },
    {
     "name": "stdout",
     "output_type": "stream",
     "text": [
      "WARNING: Your filename has more than two extensions: ['. Hem', '. (R)_17_VC19R_3_VC20R', '.h5ad'].\n",
      "Only considering the two last: ['. (R)_17_VC19R_3_VC20R', '.h5ad'].\n",
      "WARNING: Your filename has more than two extensions: ['. Hem', '. (R)_17_VC19R_3_VC20R', '.h5ad'].\n",
      "Only considering the two last: ['. (R)_17_VC19R_3_VC20R', '.h5ad'].\n"
     ]
    },
    {
     "name": "stderr",
     "output_type": "stream",
     "text": [
      "C:\\Users\\Hlab\\AppData\\Local\\Programs\\Python\\Python310\\lib\\site-packages\\anndata\\compat\\_overloaded_dict.py:106: ImplicitModificationWarning: Trying to modify attribute `._uns` of view, initializing view as actual.\n",
      "  self.data[key] = value\n",
      "C:\\Users\\Hlab\\AppData\\Local\\Programs\\Python\\Python310\\lib\\site-packages\\anndata\\compat\\_overloaded_dict.py:106: ImplicitModificationWarning: Trying to modify attribute `._uns` of view, initializing view as actual.\n",
      "  self.data[key] = value\n",
      "C:\\Users\\Hlab\\AppData\\Local\\Programs\\Python\\Python310\\lib\\site-packages\\anndata\\compat\\_overloaded_dict.py:106: ImplicitModificationWarning: Trying to modify attribute `._uns` of view, initializing view as actual.\n",
      "  self.data[key] = value\n",
      "C:\\Users\\Hlab\\AppData\\Local\\Programs\\Python\\Python310\\lib\\site-packages\\anndata\\compat\\_overloaded_dict.py:106: ImplicitModificationWarning: Trying to modify attribute `._uns` of view, initializing view as actual.\n",
      "  self.data[key] = value\n",
      "C:\\Users\\Hlab\\AppData\\Local\\Programs\\Python\\Python310\\lib\\site-packages\\anndata\\compat\\_overloaded_dict.py:106: ImplicitModificationWarning: Trying to modify attribute `._uns` of view, initializing view as actual.\n",
      "  self.data[key] = value\n",
      "C:\\Users\\Hlab\\AppData\\Local\\Programs\\Python\\Python310\\lib\\site-packages\\anndata\\compat\\_overloaded_dict.py:106: ImplicitModificationWarning: Trying to modify attribute `._uns` of view, initializing view as actual.\n",
      "  self.data[key] = value\n",
      "C:\\Users\\Hlab\\AppData\\Local\\Programs\\Python\\Python310\\lib\\site-packages\\anndata\\compat\\_overloaded_dict.py:106: ImplicitModificationWarning: Trying to modify attribute `._uns` of view, initializing view as actual.\n",
      "  self.data[key] = value\n",
      "C:\\Users\\Hlab\\AppData\\Local\\Programs\\Python\\Python310\\lib\\site-packages\\anndata\\compat\\_overloaded_dict.py:106: ImplicitModificationWarning: Trying to modify attribute `._uns` of view, initializing view as actual.\n",
      "  self.data[key] = value\n",
      "C:\\Users\\Hlab\\AppData\\Local\\Programs\\Python\\Python310\\lib\\site-packages\\anndata\\compat\\_overloaded_dict.py:106: ImplicitModificationWarning: Trying to modify attribute `._uns` of view, initializing view as actual.\n",
      "  self.data[key] = value\n",
      "C:\\Users\\Hlab\\AppData\\Local\\Programs\\Python\\Python310\\lib\\site-packages\\anndata\\compat\\_overloaded_dict.py:106: ImplicitModificationWarning: Trying to modify attribute `._uns` of view, initializing view as actual.\n",
      "  self.data[key] = value\n",
      "C:\\Users\\Hlab\\AppData\\Local\\Programs\\Python\\Python310\\lib\\site-packages\\anndata\\compat\\_overloaded_dict.py:106: ImplicitModificationWarning: Trying to modify attribute `._uns` of view, initializing view as actual.\n",
      "  self.data[key] = value\n",
      "C:\\Users\\Hlab\\AppData\\Local\\Programs\\Python\\Python310\\lib\\site-packages\\anndata\\compat\\_overloaded_dict.py:106: ImplicitModificationWarning: Trying to modify attribute `._uns` of view, initializing view as actual.\n",
      "  self.data[key] = value\n",
      "C:\\Users\\Hlab\\AppData\\Local\\Programs\\Python\\Python310\\lib\\site-packages\\anndata\\compat\\_overloaded_dict.py:106: ImplicitModificationWarning: Trying to modify attribute `._uns` of view, initializing view as actual.\n",
      "  self.data[key] = value\n",
      "C:\\Users\\Hlab\\AppData\\Local\\Programs\\Python\\Python310\\lib\\site-packages\\anndata\\compat\\_overloaded_dict.py:106: ImplicitModificationWarning: Trying to modify attribute `._uns` of view, initializing view as actual.\n",
      "  self.data[key] = value\n",
      "C:\\Users\\Hlab\\AppData\\Local\\Programs\\Python\\Python310\\lib\\site-packages\\anndata\\compat\\_overloaded_dict.py:106: ImplicitModificationWarning: Trying to modify attribute `._uns` of view, initializing view as actual.\n",
      "  self.data[key] = value\n",
      "C:\\Users\\Hlab\\AppData\\Local\\Programs\\Python\\Python310\\lib\\site-packages\\anndata\\compat\\_overloaded_dict.py:106: ImplicitModificationWarning: Trying to modify attribute `._uns` of view, initializing view as actual.\n",
      "  self.data[key] = value\n",
      "C:\\Users\\Hlab\\AppData\\Local\\Programs\\Python\\Python310\\lib\\site-packages\\anndata\\compat\\_overloaded_dict.py:106: ImplicitModificationWarning: Trying to modify attribute `._uns` of view, initializing view as actual.\n",
      "  self.data[key] = value\n"
     ]
    },
    {
     "name": "stdout",
     "output_type": "stream",
     "text": [
      "WARNING: Your filename has more than two extensions: ['. Hem', '. (R)_20_AC19R_4_AC20R', '.h5ad'].\n",
      "Only considering the two last: ['. (R)_20_AC19R_4_AC20R', '.h5ad'].\n",
      "WARNING: Your filename has more than two extensions: ['. Hem', '. (R)_20_AC19R_4_AC20R', '.h5ad'].\n",
      "Only considering the two last: ['. (R)_20_AC19R_4_AC20R', '.h5ad'].\n"
     ]
    },
    {
     "name": "stderr",
     "output_type": "stream",
     "text": [
      "C:\\Users\\Hlab\\AppData\\Local\\Programs\\Python\\Python310\\lib\\site-packages\\anndata\\compat\\_overloaded_dict.py:106: ImplicitModificationWarning: Trying to modify attribute `._uns` of view, initializing view as actual.\n",
      "  self.data[key] = value\n",
      "C:\\Users\\Hlab\\AppData\\Local\\Programs\\Python\\Python310\\lib\\site-packages\\anndata\\compat\\_overloaded_dict.py:106: ImplicitModificationWarning: Trying to modify attribute `._uns` of view, initializing view as actual.\n",
      "  self.data[key] = value\n",
      "C:\\Users\\Hlab\\AppData\\Local\\Programs\\Python\\Python310\\lib\\site-packages\\anndata\\compat\\_overloaded_dict.py:106: ImplicitModificationWarning: Trying to modify attribute `._uns` of view, initializing view as actual.\n",
      "  self.data[key] = value\n",
      "C:\\Users\\Hlab\\AppData\\Local\\Programs\\Python\\Python310\\lib\\site-packages\\anndata\\compat\\_overloaded_dict.py:106: ImplicitModificationWarning: Trying to modify attribute `._uns` of view, initializing view as actual.\n",
      "  self.data[key] = value\n",
      "C:\\Users\\Hlab\\AppData\\Local\\Programs\\Python\\Python310\\lib\\site-packages\\anndata\\compat\\_overloaded_dict.py:106: ImplicitModificationWarning: Trying to modify attribute `._uns` of view, initializing view as actual.\n",
      "  self.data[key] = value\n",
      "C:\\Users\\Hlab\\AppData\\Local\\Programs\\Python\\Python310\\lib\\site-packages\\anndata\\compat\\_overloaded_dict.py:106: ImplicitModificationWarning: Trying to modify attribute `._uns` of view, initializing view as actual.\n",
      "  self.data[key] = value\n",
      "C:\\Users\\Hlab\\AppData\\Local\\Programs\\Python\\Python310\\lib\\site-packages\\anndata\\compat\\_overloaded_dict.py:106: ImplicitModificationWarning: Trying to modify attribute `._uns` of view, initializing view as actual.\n",
      "  self.data[key] = value\n",
      "C:\\Users\\Hlab\\AppData\\Local\\Programs\\Python\\Python310\\lib\\site-packages\\anndata\\compat\\_overloaded_dict.py:106: ImplicitModificationWarning: Trying to modify attribute `._uns` of view, initializing view as actual.\n",
      "  self.data[key] = value\n",
      "C:\\Users\\Hlab\\AppData\\Local\\Programs\\Python\\Python310\\lib\\site-packages\\anndata\\compat\\_overloaded_dict.py:106: ImplicitModificationWarning: Trying to modify attribute `._uns` of view, initializing view as actual.\n",
      "  self.data[key] = value\n",
      "C:\\Users\\Hlab\\AppData\\Local\\Programs\\Python\\Python310\\lib\\site-packages\\anndata\\compat\\_overloaded_dict.py:106: ImplicitModificationWarning: Trying to modify attribute `._uns` of view, initializing view as actual.\n",
      "  self.data[key] = value\n",
      "C:\\Users\\Hlab\\AppData\\Local\\Programs\\Python\\Python310\\lib\\site-packages\\anndata\\compat\\_overloaded_dict.py:106: ImplicitModificationWarning: Trying to modify attribute `._uns` of view, initializing view as actual.\n",
      "  self.data[key] = value\n",
      "C:\\Users\\Hlab\\AppData\\Local\\Programs\\Python\\Python310\\lib\\site-packages\\anndata\\compat\\_overloaded_dict.py:106: ImplicitModificationWarning: Trying to modify attribute `._uns` of view, initializing view as actual.\n",
      "  self.data[key] = value\n",
      "C:\\Users\\Hlab\\AppData\\Local\\Programs\\Python\\Python310\\lib\\site-packages\\anndata\\compat\\_overloaded_dict.py:106: ImplicitModificationWarning: Trying to modify attribute `._uns` of view, initializing view as actual.\n",
      "  self.data[key] = value\n"
     ]
    },
    {
     "ename": "ValueError",
     "evalue": "Could not calculate statistics for groups 20_AC19R since they only contain one sample.",
     "output_type": "error",
     "traceback": [
      "\u001b[1;31m---------------------------------------------------------------------------\u001b[0m",
      "\u001b[1;31mValueError\u001b[0m                                Traceback (most recent call last)",
      "Cell \u001b[1;32mIn [16], line 4\u001b[0m\n\u001b[0;32m      1\u001b[0m folderName \u001b[38;5;241m=\u001b[39m \u001b[38;5;124m'\u001b[39m\u001b[38;5;124mBiologicalReplicaSamples\u001b[39m\u001b[38;5;124m'\u001b[39m\n\u001b[0;32m      2\u001b[0m saveFolderName \u001b[38;5;241m=\u001b[39m \u001b[38;5;124m'\u001b[39m\u001b[38;5;124mBiologicalReplicaSamples_Clusters\u001b[39m\u001b[38;5;124m'\u001b[39m\n\u001b[1;32m----> 4\u001b[0m \u001b[43maddingQCandDEscore\u001b[49m\u001b[43m(\u001b[49m\u001b[43mbioRepComparisonLst\u001b[49m\u001b[43m,\u001b[49m\u001b[43m \u001b[49m\u001b[43mfolderName\u001b[49m\u001b[43m,\u001b[49m\u001b[43m \u001b[49m\u001b[43msaveFolderName\u001b[49m\u001b[43m)\u001b[49m\n",
      "Cell \u001b[1;32mIn [13], line 33\u001b[0m, in \u001b[0;36maddingQCandDEscore\u001b[1;34m(sampleComparLst, folderName, saveFolderName)\u001b[0m\n\u001b[0;32m     30\u001b[0m clustObj\u001b[38;5;241m.\u001b[39muns[\u001b[38;5;124m'\u001b[39m\u001b[38;5;124mlog1p\u001b[39m\u001b[38;5;124m'\u001b[39m] \u001b[38;5;241m=\u001b[39m {\u001b[38;5;124m'\u001b[39m\u001b[38;5;124mbase\u001b[39m\u001b[38;5;124m'\u001b[39m: \u001b[38;5;28;01mNone\u001b[39;00m}\n\u001b[0;32m     32\u001b[0m sc\u001b[38;5;241m.\u001b[39mpp\u001b[38;5;241m.\u001b[39mcalculate_qc_metrics(clustObj, percent_top\u001b[38;5;241m=\u001b[39m\u001b[38;5;28;01mNone\u001b[39;00m, log1p\u001b[38;5;241m=\u001b[39m\u001b[38;5;28;01mFalse\u001b[39;00m, inplace\u001b[38;5;241m=\u001b[39m\u001b[38;5;28;01mTrue\u001b[39;00m)\n\u001b[1;32m---> 33\u001b[0m \u001b[43msc\u001b[49m\u001b[38;5;241;43m.\u001b[39;49m\u001b[43mtl\u001b[49m\u001b[38;5;241;43m.\u001b[39;49m\u001b[43mrank_genes_groups\u001b[49m\u001b[43m(\u001b[49m\u001b[43mclustObj\u001b[49m\u001b[43m,\u001b[49m\u001b[43m \u001b[49m\u001b[43mdivideby\u001b[49m\u001b[43m,\u001b[49m\u001b[43m \u001b[49m\u001b[43mmethod\u001b[49m\u001b[38;5;241;43m=\u001b[39;49m\u001b[38;5;124;43m'\u001b[39;49m\u001b[38;5;124;43mwilcoxon\u001b[39;49m\u001b[38;5;124;43m'\u001b[39;49m\u001b[43m)\u001b[49m\n\u001b[0;32m     35\u001b[0m score_df \u001b[38;5;241m=\u001b[39m pd\u001b[38;5;241m.\u001b[39mDataFrame(clustObj\u001b[38;5;241m.\u001b[39muns[\u001b[38;5;124m'\u001b[39m\u001b[38;5;124mrank_genes_groups\u001b[39m\u001b[38;5;124m'\u001b[39m][\u001b[38;5;124m'\u001b[39m\u001b[38;5;124mscores\u001b[39m\u001b[38;5;124m'\u001b[39m])\n\u001b[0;32m     36\u001b[0m geneName_df \u001b[38;5;241m=\u001b[39m pd\u001b[38;5;241m.\u001b[39mDataFrame(clustObj\u001b[38;5;241m.\u001b[39muns[\u001b[38;5;124m'\u001b[39m\u001b[38;5;124mrank_genes_groups\u001b[39m\u001b[38;5;124m'\u001b[39m][\u001b[38;5;124m'\u001b[39m\u001b[38;5;124mnames\u001b[39m\u001b[38;5;124m'\u001b[39m])\n",
      "File \u001b[1;32m~\\AppData\\Local\\Programs\\Python\\Python310\\lib\\site-packages\\scanpy\\tools\\_rank_genes_groups.py:590\u001b[0m, in \u001b[0;36mrank_genes_groups\u001b[1;34m(adata, groupby, use_raw, groups, reference, n_genes, rankby_abs, pts, key_added, copy, method, corr_method, tie_correct, layer, **kwds)\u001b[0m\n\u001b[0;32m    580\u001b[0m adata\u001b[38;5;241m.\u001b[39muns[key_added] \u001b[38;5;241m=\u001b[39m {}\n\u001b[0;32m    581\u001b[0m adata\u001b[38;5;241m.\u001b[39muns[key_added][\u001b[38;5;124m'\u001b[39m\u001b[38;5;124mparams\u001b[39m\u001b[38;5;124m'\u001b[39m] \u001b[38;5;241m=\u001b[39m \u001b[38;5;28mdict\u001b[39m(\n\u001b[0;32m    582\u001b[0m     groupby\u001b[38;5;241m=\u001b[39mgroupby,\n\u001b[0;32m    583\u001b[0m     reference\u001b[38;5;241m=\u001b[39mreference,\n\u001b[1;32m   (...)\u001b[0m\n\u001b[0;32m    587\u001b[0m     corr_method\u001b[38;5;241m=\u001b[39mcorr_method,\n\u001b[0;32m    588\u001b[0m )\n\u001b[1;32m--> 590\u001b[0m test_obj \u001b[38;5;241m=\u001b[39m \u001b[43m_RankGenes\u001b[49m\u001b[43m(\u001b[49m\u001b[43madata\u001b[49m\u001b[43m,\u001b[49m\u001b[43m \u001b[49m\u001b[43mgroups_order\u001b[49m\u001b[43m,\u001b[49m\u001b[43m \u001b[49m\u001b[43mgroupby\u001b[49m\u001b[43m,\u001b[49m\u001b[43m \u001b[49m\u001b[43mreference\u001b[49m\u001b[43m,\u001b[49m\u001b[43m \u001b[49m\u001b[43muse_raw\u001b[49m\u001b[43m,\u001b[49m\u001b[43m \u001b[49m\u001b[43mlayer\u001b[49m\u001b[43m,\u001b[49m\u001b[43m \u001b[49m\u001b[43mpts\u001b[49m\u001b[43m)\u001b[49m\n\u001b[0;32m    592\u001b[0m \u001b[38;5;28;01mif\u001b[39;00m check_nonnegative_integers(test_obj\u001b[38;5;241m.\u001b[39mX) \u001b[38;5;129;01mand\u001b[39;00m method \u001b[38;5;241m!=\u001b[39m \u001b[38;5;124m'\u001b[39m\u001b[38;5;124mlogreg\u001b[39m\u001b[38;5;124m'\u001b[39m:\n\u001b[0;32m    593\u001b[0m     logg\u001b[38;5;241m.\u001b[39mwarning(\n\u001b[0;32m    594\u001b[0m         \u001b[38;5;124m\"\u001b[39m\u001b[38;5;124mIt seems you use rank_genes_groups on the raw count data. \u001b[39m\u001b[38;5;124m\"\u001b[39m\n\u001b[0;32m    595\u001b[0m         \u001b[38;5;124m\"\u001b[39m\u001b[38;5;124mPlease logarithmize your data before calling rank_genes_groups.\u001b[39m\u001b[38;5;124m\"\u001b[39m\n\u001b[0;32m    596\u001b[0m     )\n",
      "File \u001b[1;32m~\\AppData\\Local\\Programs\\Python\\Python310\\lib\\site-packages\\scanpy\\tools\\_rank_genes_groups.py:108\u001b[0m, in \u001b[0;36m_RankGenes.__init__\u001b[1;34m(self, adata, groups, groupby, reference, use_raw, layer, comp_pts)\u001b[0m\n\u001b[0;32m    103\u001b[0m invalid_groups_selected \u001b[38;5;241m=\u001b[39m \u001b[38;5;28mset\u001b[39m(\u001b[38;5;28mself\u001b[39m\u001b[38;5;241m.\u001b[39mgroups_order) \u001b[38;5;241m&\u001b[39m \u001b[38;5;28mset\u001b[39m(\n\u001b[0;32m    104\u001b[0m     adata\u001b[38;5;241m.\u001b[39mobs[groupby]\u001b[38;5;241m.\u001b[39mvalue_counts()\u001b[38;5;241m.\u001b[39mloc[\u001b[38;5;28;01mlambda\u001b[39;00m x: x \u001b[38;5;241m<\u001b[39m \u001b[38;5;241m2\u001b[39m]\u001b[38;5;241m.\u001b[39mindex\n\u001b[0;32m    105\u001b[0m )\n\u001b[0;32m    107\u001b[0m \u001b[38;5;28;01mif\u001b[39;00m \u001b[38;5;28mlen\u001b[39m(invalid_groups_selected) \u001b[38;5;241m>\u001b[39m \u001b[38;5;241m0\u001b[39m:\n\u001b[1;32m--> 108\u001b[0m     \u001b[38;5;28;01mraise\u001b[39;00m \u001b[38;5;167;01mValueError\u001b[39;00m(\n\u001b[0;32m    109\u001b[0m         \u001b[38;5;124m\"\u001b[39m\u001b[38;5;124mCould not calculate statistics for groups \u001b[39m\u001b[38;5;132;01m{}\u001b[39;00m\u001b[38;5;124m since they only \u001b[39m\u001b[38;5;124m\"\u001b[39m\n\u001b[0;32m    110\u001b[0m         \u001b[38;5;124m\"\u001b[39m\u001b[38;5;124mcontain one sample.\u001b[39m\u001b[38;5;124m\"\u001b[39m\u001b[38;5;241m.\u001b[39mformat(\u001b[38;5;124m'\u001b[39m\u001b[38;5;124m, \u001b[39m\u001b[38;5;124m'\u001b[39m\u001b[38;5;241m.\u001b[39mjoin(invalid_groups_selected))\n\u001b[0;32m    111\u001b[0m     )\n\u001b[0;32m    113\u001b[0m adata_comp \u001b[38;5;241m=\u001b[39m adata\n\u001b[0;32m    114\u001b[0m \u001b[38;5;28;01mif\u001b[39;00m layer \u001b[38;5;129;01mis\u001b[39;00m \u001b[38;5;129;01mnot\u001b[39;00m \u001b[38;5;28;01mNone\u001b[39;00m:\n",
      "\u001b[1;31mValueError\u001b[0m: Could not calculate statistics for groups 20_AC19R since they only contain one sample."
     ]
    }
   ],
   "source": [
    "folderName = 'BiologicalReplicaSamples'\n",
    "saveFolderName = 'BiologicalReplicaSamples_Clusters'\n",
    "\n",
    "addingQCandDEscore(bioRepComparisonLst, folderName, saveFolderName)\n",
    "# addingSexInfo(mouseSexLst, bioRepComparisonLst, folderName)"
   ]
  },
  {
   "cell_type": "code",
   "execution_count": 16,
   "id": "b3044e8e",
   "metadata": {
    "scrolled": true
   },
   "outputs": [
    {
     "ename": "KeyboardInterrupt",
     "evalue": "",
     "output_type": "error",
     "traceback": [
      "\u001b[1;31m---------------------------------------------------------------------------\u001b[0m",
      "\u001b[1;31mKeyboardInterrupt\u001b[0m                         Traceback (most recent call last)",
      "Cell \u001b[1;32mIn [16], line 4\u001b[0m\n\u001b[0;32m      1\u001b[0m folderName \u001b[38;5;241m=\u001b[39m \u001b[38;5;124m'\u001b[39m\u001b[38;5;124mPlasticityComparisons\u001b[39m\u001b[38;5;124m'\u001b[39m\n\u001b[0;32m      2\u001b[0m saveFolderName \u001b[38;5;241m=\u001b[39m \u001b[38;5;124m'\u001b[39m\u001b[38;5;124mPlasticityComparisons_Clusters\u001b[39m\u001b[38;5;124m'\u001b[39m\n\u001b[1;32m----> 4\u001b[0m \u001b[43maddingQCandDEscore\u001b[49m\u001b[43m(\u001b[49m\u001b[43mplastComparLst\u001b[49m\u001b[43m,\u001b[49m\u001b[43m \u001b[49m\u001b[43mfolderName\u001b[49m\u001b[43m,\u001b[49m\u001b[43m \u001b[49m\u001b[43msaveFolderName\u001b[49m\u001b[43m)\u001b[49m\n",
      "Cell \u001b[1;32mIn [15], line 24\u001b[0m, in \u001b[0;36maddingQCandDEscore\u001b[1;34m(sampleComparLst, folderName, saveFolderName)\u001b[0m\n\u001b[0;32m     21\u001b[0m     fileName \u001b[38;5;241m=\u001b[39m \u001b[38;5;124mf\u001b[39m\u001b[38;5;124m'\u001b[39m\u001b[38;5;132;01m{\u001b[39;00mcondition\u001b[38;5;132;01m}\u001b[39;00m\u001b[38;5;124m_\u001b[39m\u001b[38;5;132;01m{\u001b[39;00msample1_name\u001b[38;5;132;01m}\u001b[39;00m\u001b[38;5;124m_\u001b[39m\u001b[38;5;132;01m{\u001b[39;00msample2_name\u001b[38;5;132;01m}\u001b[39;00m\u001b[38;5;124m'\u001b[39m\n\u001b[0;32m     22\u001b[0m     divideby \u001b[38;5;241m=\u001b[39m \u001b[38;5;124m'\u001b[39m\u001b[38;5;124msample\u001b[39m\u001b[38;5;124m'\u001b[39m\n\u001b[1;32m---> 24\u001b[0m obj \u001b[38;5;241m=\u001b[39m \u001b[43msc\u001b[49m\u001b[38;5;241;43m.\u001b[39;49m\u001b[43mread\u001b[49m\u001b[43m(\u001b[49m\u001b[38;5;124;43mf\u001b[39;49m\u001b[38;5;124;43m'\u001b[39;49m\u001b[38;5;124;43mF:/SampleData/\u001b[39;49m\u001b[38;5;132;43;01m{\u001b[39;49;00m\u001b[43mfolderName\u001b[49m\u001b[38;5;132;43;01m}\u001b[39;49;00m\u001b[38;5;124;43m/\u001b[39;49m\u001b[38;5;132;43;01m{\u001b[39;49;00m\u001b[43mfileName\u001b[49m\u001b[38;5;132;43;01m}\u001b[39;49;00m\u001b[38;5;124;43m.h5ad\u001b[39;49m\u001b[38;5;124;43m'\u001b[39;49m\u001b[43m)\u001b[49m\n\u001b[0;32m     25\u001b[0m clustLst \u001b[38;5;241m=\u001b[39m \u001b[38;5;28mlist\u001b[39m(np\u001b[38;5;241m.\u001b[39munique(obj\u001b[38;5;241m.\u001b[39mobs[\u001b[38;5;124m'\u001b[39m\u001b[38;5;124mleiden_0.3\u001b[39m\u001b[38;5;124m'\u001b[39m]))\n\u001b[0;32m     26\u001b[0m sortedClustLst \u001b[38;5;241m=\u001b[39m sortClust(clustLst)\n",
      "File \u001b[1;32m~\\AppData\\Local\\Programs\\Python\\Python310\\lib\\site-packages\\scanpy\\readwrite.py:112\u001b[0m, in \u001b[0;36mread\u001b[1;34m(filename, backed, sheet, ext, delimiter, first_column_names, backup_url, cache, cache_compression, **kwargs)\u001b[0m\n\u001b[0;32m    110\u001b[0m filename \u001b[38;5;241m=\u001b[39m Path(filename)  \u001b[38;5;66;03m# allow passing strings\u001b[39;00m\n\u001b[0;32m    111\u001b[0m \u001b[38;5;28;01mif\u001b[39;00m is_valid_filename(filename):\n\u001b[1;32m--> 112\u001b[0m     \u001b[38;5;28;01mreturn\u001b[39;00m _read(\n\u001b[0;32m    113\u001b[0m         filename,\n\u001b[0;32m    114\u001b[0m         backed\u001b[38;5;241m=\u001b[39mbacked,\n\u001b[0;32m    115\u001b[0m         sheet\u001b[38;5;241m=\u001b[39msheet,\n\u001b[0;32m    116\u001b[0m         ext\u001b[38;5;241m=\u001b[39mext,\n\u001b[0;32m    117\u001b[0m         delimiter\u001b[38;5;241m=\u001b[39mdelimiter,\n\u001b[0;32m    118\u001b[0m         first_column_names\u001b[38;5;241m=\u001b[39mfirst_column_names,\n\u001b[0;32m    119\u001b[0m         backup_url\u001b[38;5;241m=\u001b[39mbackup_url,\n\u001b[0;32m    120\u001b[0m         cache\u001b[38;5;241m=\u001b[39mcache,\n\u001b[0;32m    121\u001b[0m         cache_compression\u001b[38;5;241m=\u001b[39mcache_compression,\n\u001b[0;32m    122\u001b[0m         \u001b[38;5;241m*\u001b[39m\u001b[38;5;241m*\u001b[39mkwargs,\n\u001b[0;32m    123\u001b[0m     )\n\u001b[0;32m    124\u001b[0m \u001b[38;5;66;03m# generate filename and read to dict\u001b[39;00m\n\u001b[0;32m    125\u001b[0m filekey \u001b[38;5;241m=\u001b[39m \u001b[38;5;28mstr\u001b[39m(filename)\n",
      "File \u001b[1;32m~\\AppData\\Local\\Programs\\Python\\Python310\\lib\\site-packages\\scanpy\\readwrite.py:722\u001b[0m, in \u001b[0;36m_read\u001b[1;34m(filename, backed, sheet, ext, delimiter, first_column_names, backup_url, cache, cache_compression, suppress_cache_warning, **kwargs)\u001b[0m\n\u001b[0;32m    720\u001b[0m \u001b[38;5;28;01mif\u001b[39;00m ext \u001b[38;5;129;01min\u001b[39;00m {\u001b[38;5;124m'\u001b[39m\u001b[38;5;124mh5\u001b[39m\u001b[38;5;124m'\u001b[39m, \u001b[38;5;124m'\u001b[39m\u001b[38;5;124mh5ad\u001b[39m\u001b[38;5;124m'\u001b[39m}:\n\u001b[0;32m    721\u001b[0m     \u001b[38;5;28;01mif\u001b[39;00m sheet \u001b[38;5;129;01mis\u001b[39;00m \u001b[38;5;28;01mNone\u001b[39;00m:\n\u001b[1;32m--> 722\u001b[0m         \u001b[38;5;28;01mreturn\u001b[39;00m \u001b[43mread_h5ad\u001b[49m\u001b[43m(\u001b[49m\u001b[43mfilename\u001b[49m\u001b[43m,\u001b[49m\u001b[43m \u001b[49m\u001b[43mbacked\u001b[49m\u001b[38;5;241;43m=\u001b[39;49m\u001b[43mbacked\u001b[49m\u001b[43m)\u001b[49m\n\u001b[0;32m    723\u001b[0m     \u001b[38;5;28;01melse\u001b[39;00m:\n\u001b[0;32m    724\u001b[0m         logg\u001b[38;5;241m.\u001b[39mdebug(\u001b[38;5;124mf\u001b[39m\u001b[38;5;124m'\u001b[39m\u001b[38;5;124mreading sheet \u001b[39m\u001b[38;5;132;01m{\u001b[39;00msheet\u001b[38;5;132;01m}\u001b[39;00m\u001b[38;5;124m from file \u001b[39m\u001b[38;5;132;01m{\u001b[39;00mfilename\u001b[38;5;132;01m}\u001b[39;00m\u001b[38;5;124m'\u001b[39m)\n",
      "File \u001b[1;32m~\\AppData\\Local\\Programs\\Python\\Python310\\lib\\site-packages\\anndata\\_io\\h5ad.py:240\u001b[0m, in \u001b[0;36mread_h5ad\u001b[1;34m(filename, backed, as_sparse, as_sparse_fmt, chunk_size)\u001b[0m\n\u001b[0;32m    237\u001b[0m     \u001b[38;5;28;01melse\u001b[39;00m:  \u001b[38;5;66;03m# Base case\u001b[39;00m\n\u001b[0;32m    238\u001b[0m         d[k] \u001b[38;5;241m=\u001b[39m read_elem(f[k])\n\u001b[1;32m--> 240\u001b[0m d[\u001b[38;5;124m\"\u001b[39m\u001b[38;5;124mraw\u001b[39m\u001b[38;5;124m\"\u001b[39m] \u001b[38;5;241m=\u001b[39m \u001b[43m_read_raw\u001b[49m\u001b[43m(\u001b[49m\u001b[43mf\u001b[49m\u001b[43m,\u001b[49m\u001b[43m \u001b[49m\u001b[43mas_sparse\u001b[49m\u001b[43m,\u001b[49m\u001b[43m \u001b[49m\u001b[43mrdasp\u001b[49m\u001b[43m)\u001b[49m\n\u001b[0;32m    242\u001b[0m X_dset \u001b[38;5;241m=\u001b[39m f\u001b[38;5;241m.\u001b[39mget(\u001b[38;5;124m\"\u001b[39m\u001b[38;5;124mX\u001b[39m\u001b[38;5;124m\"\u001b[39m, \u001b[38;5;28;01mNone\u001b[39;00m)\n\u001b[0;32m    243\u001b[0m \u001b[38;5;28;01mif\u001b[39;00m X_dset \u001b[38;5;129;01mis\u001b[39;00m \u001b[38;5;28;01mNone\u001b[39;00m:\n",
      "File \u001b[1;32m~\\AppData\\Local\\Programs\\Python\\Python310\\lib\\site-packages\\anndata\\_io\\h5ad.py:269\u001b[0m, in \u001b[0;36m_read_raw\u001b[1;34m(f, as_sparse, rdasp, attrs)\u001b[0m\n\u001b[0;32m    267\u001b[0m \u001b[38;5;28;01mif\u001b[39;00m \u001b[38;5;124m\"\u001b[39m\u001b[38;5;124mX\u001b[39m\u001b[38;5;124m\"\u001b[39m \u001b[38;5;129;01min\u001b[39;00m attrs \u001b[38;5;129;01mand\u001b[39;00m \u001b[38;5;124m\"\u001b[39m\u001b[38;5;124mraw/X\u001b[39m\u001b[38;5;124m\"\u001b[39m \u001b[38;5;129;01min\u001b[39;00m f:\n\u001b[0;32m    268\u001b[0m     read_x \u001b[38;5;241m=\u001b[39m rdasp \u001b[38;5;28;01mif\u001b[39;00m \u001b[38;5;124m\"\u001b[39m\u001b[38;5;124mraw/X\u001b[39m\u001b[38;5;124m\"\u001b[39m \u001b[38;5;129;01min\u001b[39;00m as_sparse \u001b[38;5;28;01melse\u001b[39;00m read_elem\n\u001b[1;32m--> 269\u001b[0m     raw[\u001b[38;5;124m\"\u001b[39m\u001b[38;5;124mX\u001b[39m\u001b[38;5;124m\"\u001b[39m] \u001b[38;5;241m=\u001b[39m \u001b[43mread_x\u001b[49m\u001b[43m(\u001b[49m\u001b[43mf\u001b[49m\u001b[43m[\u001b[49m\u001b[38;5;124;43m\"\u001b[39;49m\u001b[38;5;124;43mraw/X\u001b[39;49m\u001b[38;5;124;43m\"\u001b[39;49m\u001b[43m]\u001b[49m\u001b[43m)\u001b[49m\n\u001b[0;32m    270\u001b[0m \u001b[38;5;28;01mfor\u001b[39;00m v \u001b[38;5;129;01min\u001b[39;00m (\u001b[38;5;124m\"\u001b[39m\u001b[38;5;124mvar\u001b[39m\u001b[38;5;124m\"\u001b[39m, \u001b[38;5;124m\"\u001b[39m\u001b[38;5;124mvarm\u001b[39m\u001b[38;5;124m\"\u001b[39m):\n\u001b[0;32m    271\u001b[0m     \u001b[38;5;28;01mif\u001b[39;00m v \u001b[38;5;129;01min\u001b[39;00m attrs \u001b[38;5;129;01mand\u001b[39;00m \u001b[38;5;124mf\u001b[39m\u001b[38;5;124m\"\u001b[39m\u001b[38;5;124mraw/\u001b[39m\u001b[38;5;132;01m{\u001b[39;00mv\u001b[38;5;132;01m}\u001b[39;00m\u001b[38;5;124m\"\u001b[39m \u001b[38;5;129;01min\u001b[39;00m f:\n",
      "File \u001b[1;32m~\\AppData\\Local\\Programs\\Python\\Python310\\lib\\site-packages\\anndata\\_io\\specs\\registry.py:183\u001b[0m, in \u001b[0;36mread_elem\u001b[1;34m(elem, modifiers)\u001b[0m\n\u001b[0;32m    178\u001b[0m \u001b[38;5;28;01mdef\u001b[39;00m \u001b[38;5;21mread_elem\u001b[39m(\n\u001b[0;32m    179\u001b[0m     elem: Union[H5Array, H5Group, ZarrGroup, ZarrArray],\n\u001b[0;32m    180\u001b[0m     modifiers: \u001b[38;5;28mfrozenset\u001b[39m(\u001b[38;5;28mstr\u001b[39m) \u001b[38;5;241m=\u001b[39m \u001b[38;5;28mfrozenset\u001b[39m(),\n\u001b[0;32m    181\u001b[0m ) \u001b[38;5;241m-\u001b[39m\u001b[38;5;241m>\u001b[39m Any:\n\u001b[0;32m    182\u001b[0m \u001b[38;5;250m    \u001b[39m\u001b[38;5;124;03m\"\"\"Read an element from an on disk store.\"\"\"\u001b[39;00m\n\u001b[1;32m--> 183\u001b[0m     \u001b[38;5;28;01mreturn\u001b[39;00m \u001b[43m_REGISTRY\u001b[49m\u001b[38;5;241;43m.\u001b[39;49m\u001b[43mget_reader\u001b[49m\u001b[43m(\u001b[49m\u001b[38;5;28;43mtype\u001b[39;49m\u001b[43m(\u001b[49m\u001b[43melem\u001b[49m\u001b[43m)\u001b[49m\u001b[43m,\u001b[49m\u001b[43m \u001b[49m\u001b[43mget_spec\u001b[49m\u001b[43m(\u001b[49m\u001b[43melem\u001b[49m\u001b[43m)\u001b[49m\u001b[43m,\u001b[49m\u001b[43m \u001b[49m\u001b[38;5;28;43mfrozenset\u001b[39;49m\u001b[43m(\u001b[49m\u001b[43mmodifiers\u001b[49m\u001b[43m)\u001b[49m\u001b[43m)\u001b[49m\u001b[43m(\u001b[49m\u001b[43melem\u001b[49m\u001b[43m)\u001b[49m\n",
      "File \u001b[1;32m~\\AppData\\Local\\Programs\\Python\\Python310\\lib\\site-packages\\anndata\\_io\\specs\\methods.py:475\u001b[0m, in \u001b[0;36mread_sparse\u001b[1;34m(elem)\u001b[0m\n\u001b[0;32m    470\u001b[0m \u001b[38;5;129m@_REGISTRY\u001b[39m\u001b[38;5;241m.\u001b[39mregister_read(H5Group, IOSpec(\u001b[38;5;124m\"\u001b[39m\u001b[38;5;124mcsc_matrix\u001b[39m\u001b[38;5;124m\"\u001b[39m, \u001b[38;5;124m\"\u001b[39m\u001b[38;5;124m0.1.0\u001b[39m\u001b[38;5;124m\"\u001b[39m))\n\u001b[0;32m    471\u001b[0m \u001b[38;5;129m@_REGISTRY\u001b[39m\u001b[38;5;241m.\u001b[39mregister_read(H5Group, IOSpec(\u001b[38;5;124m\"\u001b[39m\u001b[38;5;124mcsr_matrix\u001b[39m\u001b[38;5;124m\"\u001b[39m, \u001b[38;5;124m\"\u001b[39m\u001b[38;5;124m0.1.0\u001b[39m\u001b[38;5;124m\"\u001b[39m))\n\u001b[0;32m    472\u001b[0m \u001b[38;5;129m@_REGISTRY\u001b[39m\u001b[38;5;241m.\u001b[39mregister_read(ZarrGroup, IOSpec(\u001b[38;5;124m\"\u001b[39m\u001b[38;5;124mcsc_matrix\u001b[39m\u001b[38;5;124m\"\u001b[39m, \u001b[38;5;124m\"\u001b[39m\u001b[38;5;124m0.1.0\u001b[39m\u001b[38;5;124m\"\u001b[39m))\n\u001b[0;32m    473\u001b[0m \u001b[38;5;129m@_REGISTRY\u001b[39m\u001b[38;5;241m.\u001b[39mregister_read(ZarrGroup, IOSpec(\u001b[38;5;124m\"\u001b[39m\u001b[38;5;124mcsr_matrix\u001b[39m\u001b[38;5;124m\"\u001b[39m, \u001b[38;5;124m\"\u001b[39m\u001b[38;5;124m0.1.0\u001b[39m\u001b[38;5;124m\"\u001b[39m))\n\u001b[0;32m    474\u001b[0m \u001b[38;5;28;01mdef\u001b[39;00m \u001b[38;5;21mread_sparse\u001b[39m(elem):\n\u001b[1;32m--> 475\u001b[0m     \u001b[38;5;28;01mreturn\u001b[39;00m \u001b[43mSparseDataset\u001b[49m\u001b[43m(\u001b[49m\u001b[43melem\u001b[49m\u001b[43m)\u001b[49m\u001b[38;5;241;43m.\u001b[39;49m\u001b[43mto_memory\u001b[49m\u001b[43m(\u001b[49m\u001b[43m)\u001b[49m\n",
      "File \u001b[1;32m~\\AppData\\Local\\Programs\\Python\\Python310\\lib\\site-packages\\anndata\\_core\\sparse_dataset.py:379\u001b[0m, in \u001b[0;36mSparseDataset.to_memory\u001b[1;34m(self)\u001b[0m\n\u001b[0;32m    377\u001b[0m format_class \u001b[38;5;241m=\u001b[39m get_memory_class(\u001b[38;5;28mself\u001b[39m\u001b[38;5;241m.\u001b[39mformat_str)\n\u001b[0;32m    378\u001b[0m mtx \u001b[38;5;241m=\u001b[39m format_class(\u001b[38;5;28mself\u001b[39m\u001b[38;5;241m.\u001b[39mshape, dtype\u001b[38;5;241m=\u001b[39m\u001b[38;5;28mself\u001b[39m\u001b[38;5;241m.\u001b[39mdtype)\n\u001b[1;32m--> 379\u001b[0m mtx\u001b[38;5;241m.\u001b[39mdata \u001b[38;5;241m=\u001b[39m \u001b[38;5;28;43mself\u001b[39;49m\u001b[38;5;241;43m.\u001b[39;49m\u001b[43mgroup\u001b[49m\u001b[43m[\u001b[49m\u001b[38;5;124;43m\"\u001b[39;49m\u001b[38;5;124;43mdata\u001b[39;49m\u001b[38;5;124;43m\"\u001b[39;49m\u001b[43m]\u001b[49m\u001b[43m[\u001b[49m\u001b[38;5;241;43m.\u001b[39;49m\u001b[38;5;241;43m.\u001b[39;49m\u001b[38;5;241;43m.\u001b[39;49m\u001b[43m]\u001b[49m\n\u001b[0;32m    380\u001b[0m mtx\u001b[38;5;241m.\u001b[39mindices \u001b[38;5;241m=\u001b[39m \u001b[38;5;28mself\u001b[39m\u001b[38;5;241m.\u001b[39mgroup[\u001b[38;5;124m\"\u001b[39m\u001b[38;5;124mindices\u001b[39m\u001b[38;5;124m\"\u001b[39m][\u001b[38;5;241m.\u001b[39m\u001b[38;5;241m.\u001b[39m\u001b[38;5;241m.\u001b[39m]\n\u001b[0;32m    381\u001b[0m mtx\u001b[38;5;241m.\u001b[39mindptr \u001b[38;5;241m=\u001b[39m \u001b[38;5;28mself\u001b[39m\u001b[38;5;241m.\u001b[39mgroup[\u001b[38;5;124m\"\u001b[39m\u001b[38;5;124mindptr\u001b[39m\u001b[38;5;124m\"\u001b[39m][\u001b[38;5;241m.\u001b[39m\u001b[38;5;241m.\u001b[39m\u001b[38;5;241m.\u001b[39m]\n",
      "File \u001b[1;32mh5py\\_objects.pyx:54\u001b[0m, in \u001b[0;36mh5py._objects.with_phil.wrapper\u001b[1;34m()\u001b[0m\n",
      "File \u001b[1;32mh5py\\_objects.pyx:55\u001b[0m, in \u001b[0;36mh5py._objects.with_phil.wrapper\u001b[1;34m()\u001b[0m\n",
      "File \u001b[1;32m~\\AppData\\Local\\Programs\\Python\\Python310\\lib\\site-packages\\h5py\\_hl\\dataset.py:741\u001b[0m, in \u001b[0;36mDataset.__getitem__\u001b[1;34m(self, args, new_dtype)\u001b[0m\n\u001b[0;32m    739\u001b[0m \u001b[38;5;28;01mif\u001b[39;00m \u001b[38;5;28mself\u001b[39m\u001b[38;5;241m.\u001b[39m_fast_read_ok \u001b[38;5;129;01mand\u001b[39;00m (new_dtype \u001b[38;5;129;01mis\u001b[39;00m \u001b[38;5;28;01mNone\u001b[39;00m):\n\u001b[0;32m    740\u001b[0m     \u001b[38;5;28;01mtry\u001b[39;00m:\n\u001b[1;32m--> 741\u001b[0m         \u001b[38;5;28;01mreturn\u001b[39;00m \u001b[38;5;28;43mself\u001b[39;49m\u001b[38;5;241;43m.\u001b[39;49m\u001b[43m_fast_reader\u001b[49m\u001b[38;5;241;43m.\u001b[39;49m\u001b[43mread\u001b[49m\u001b[43m(\u001b[49m\u001b[43margs\u001b[49m\u001b[43m)\u001b[49m\n\u001b[0;32m    742\u001b[0m     \u001b[38;5;28;01mexcept\u001b[39;00m \u001b[38;5;167;01mTypeError\u001b[39;00m:\n\u001b[0;32m    743\u001b[0m         \u001b[38;5;28;01mpass\u001b[39;00m  \u001b[38;5;66;03m# Fall back to Python read pathway below\u001b[39;00m\n",
      "\u001b[1;31mKeyboardInterrupt\u001b[0m: "
     ]
    }
   ],
   "source": [
    "folderName = 'PlasticityComparisons'\n",
    "saveFolderName = 'PlasticityComparisons_Clusters'\n",
    "\n",
    "addingQCandDEscore(plastComparLst, folderName, saveFolderName)\n",
    "# addingSexInfo(mouseSexLst, plastComparLst, folderName)"
   ]
  },
  {
   "cell_type": "code",
   "execution_count": 29,
   "id": "da7d41ea",
   "metadata": {
    "scrolled": true
   },
   "outputs": [
    {
     "name": "stdout",
     "output_type": "stream",
     "text": [
      "0 1037 1187\n",
      "0 2224 32165\n"
     ]
    },
    {
     "name": "stderr",
     "output_type": "stream",
     "text": [
      "C:\\Users\\Hlab\\AppData\\Local\\Programs\\Python\\Python310\\lib\\site-packages\\anndata\\compat\\_overloaded_dict.py:106: ImplicitModificationWarning: Trying to modify attribute `._uns` of view, initializing view as actual.\n",
      "  self.data[key] = value\n"
     ]
    },
    {
     "name": "stdout",
     "output_type": "stream",
     "text": [
      "1 868 856\n",
      "1 1724 32165\n"
     ]
    },
    {
     "name": "stderr",
     "output_type": "stream",
     "text": [
      "C:\\Users\\Hlab\\AppData\\Local\\Programs\\Python\\Python310\\lib\\site-packages\\anndata\\compat\\_overloaded_dict.py:106: ImplicitModificationWarning: Trying to modify attribute `._uns` of view, initializing view as actual.\n",
      "  self.data[key] = value\n"
     ]
    },
    {
     "name": "stdout",
     "output_type": "stream",
     "text": [
      "2 824 841\n",
      "2 1665 32165\n"
     ]
    },
    {
     "name": "stderr",
     "output_type": "stream",
     "text": [
      "C:\\Users\\Hlab\\AppData\\Local\\Programs\\Python\\Python310\\lib\\site-packages\\anndata\\compat\\_overloaded_dict.py:106: ImplicitModificationWarning: Trying to modify attribute `._uns` of view, initializing view as actual.\n",
      "  self.data[key] = value\n"
     ]
    },
    {
     "name": "stdout",
     "output_type": "stream",
     "text": [
      "3 1195 381\n",
      "3 1576 32165\n"
     ]
    },
    {
     "name": "stderr",
     "output_type": "stream",
     "text": [
      "C:\\Users\\Hlab\\AppData\\Local\\Programs\\Python\\Python310\\lib\\site-packages\\anndata\\compat\\_overloaded_dict.py:106: ImplicitModificationWarning: Trying to modify attribute `._uns` of view, initializing view as actual.\n",
      "  self.data[key] = value\n"
     ]
    },
    {
     "name": "stdout",
     "output_type": "stream",
     "text": [
      "4 723 828\n",
      "4 1551 32165\n"
     ]
    },
    {
     "name": "stderr",
     "output_type": "stream",
     "text": [
      "C:\\Users\\Hlab\\AppData\\Local\\Programs\\Python\\Python310\\lib\\site-packages\\anndata\\compat\\_overloaded_dict.py:106: ImplicitModificationWarning: Trying to modify attribute `._uns` of view, initializing view as actual.\n",
      "  self.data[key] = value\n"
     ]
    },
    {
     "name": "stdout",
     "output_type": "stream",
     "text": [
      "5 777 624\n",
      "5 1401 32165\n"
     ]
    },
    {
     "name": "stderr",
     "output_type": "stream",
     "text": [
      "C:\\Users\\Hlab\\AppData\\Local\\Programs\\Python\\Python310\\lib\\site-packages\\anndata\\compat\\_overloaded_dict.py:106: ImplicitModificationWarning: Trying to modify attribute `._uns` of view, initializing view as actual.\n",
      "  self.data[key] = value\n"
     ]
    },
    {
     "name": "stdout",
     "output_type": "stream",
     "text": [
      "6 506 651\n",
      "6 1157 32165\n"
     ]
    },
    {
     "name": "stderr",
     "output_type": "stream",
     "text": [
      "C:\\Users\\Hlab\\AppData\\Local\\Programs\\Python\\Python310\\lib\\site-packages\\anndata\\compat\\_overloaded_dict.py:106: ImplicitModificationWarning: Trying to modify attribute `._uns` of view, initializing view as actual.\n",
      "  self.data[key] = value\n"
     ]
    },
    {
     "name": "stdout",
     "output_type": "stream",
     "text": [
      "7 426 480\n",
      "7 906 32165\n"
     ]
    },
    {
     "name": "stderr",
     "output_type": "stream",
     "text": [
      "C:\\Users\\Hlab\\AppData\\Local\\Programs\\Python\\Python310\\lib\\site-packages\\anndata\\compat\\_overloaded_dict.py:106: ImplicitModificationWarning: Trying to modify attribute `._uns` of view, initializing view as actual.\n",
      "  self.data[key] = value\n"
     ]
    },
    {
     "name": "stdout",
     "output_type": "stream",
     "text": [
      "8 405 381\n",
      "8 786 32165\n"
     ]
    },
    {
     "name": "stderr",
     "output_type": "stream",
     "text": [
      "C:\\Users\\Hlab\\AppData\\Local\\Programs\\Python\\Python310\\lib\\site-packages\\anndata\\compat\\_overloaded_dict.py:106: ImplicitModificationWarning: Trying to modify attribute `._uns` of view, initializing view as actual.\n",
      "  self.data[key] = value\n"
     ]
    },
    {
     "name": "stdout",
     "output_type": "stream",
     "text": [
      "9 315 301\n",
      "9 616 32165\n"
     ]
    },
    {
     "name": "stderr",
     "output_type": "stream",
     "text": [
      "C:\\Users\\Hlab\\AppData\\Local\\Programs\\Python\\Python310\\lib\\site-packages\\anndata\\compat\\_overloaded_dict.py:106: ImplicitModificationWarning: Trying to modify attribute `._uns` of view, initializing view as actual.\n",
      "  self.data[key] = value\n"
     ]
    },
    {
     "name": "stdout",
     "output_type": "stream",
     "text": [
      "10 254 274\n",
      "10 528 32165\n"
     ]
    },
    {
     "name": "stderr",
     "output_type": "stream",
     "text": [
      "C:\\Users\\Hlab\\AppData\\Local\\Programs\\Python\\Python310\\lib\\site-packages\\anndata\\compat\\_overloaded_dict.py:106: ImplicitModificationWarning: Trying to modify attribute `._uns` of view, initializing view as actual.\n",
      "  self.data[key] = value\n"
     ]
    },
    {
     "name": "stdout",
     "output_type": "stream",
     "text": [
      "11 234 231\n",
      "11 465 32165\n"
     ]
    },
    {
     "name": "stderr",
     "output_type": "stream",
     "text": [
      "C:\\Users\\Hlab\\AppData\\Local\\Programs\\Python\\Python310\\lib\\site-packages\\anndata\\compat\\_overloaded_dict.py:106: ImplicitModificationWarning: Trying to modify attribute `._uns` of view, initializing view as actual.\n",
      "  self.data[key] = value\n"
     ]
    },
    {
     "name": "stdout",
     "output_type": "stream",
     "text": [
      "12 202 236\n",
      "12 438 32165\n"
     ]
    },
    {
     "name": "stderr",
     "output_type": "stream",
     "text": [
      "C:\\Users\\Hlab\\AppData\\Local\\Programs\\Python\\Python310\\lib\\site-packages\\anndata\\compat\\_overloaded_dict.py:106: ImplicitModificationWarning: Trying to modify attribute `._uns` of view, initializing view as actual.\n",
      "  self.data[key] = value\n"
     ]
    },
    {
     "name": "stdout",
     "output_type": "stream",
     "text": [
      "13 197 210\n",
      "13 407 32165\n"
     ]
    },
    {
     "name": "stderr",
     "output_type": "stream",
     "text": [
      "C:\\Users\\Hlab\\AppData\\Local\\Programs\\Python\\Python310\\lib\\site-packages\\anndata\\compat\\_overloaded_dict.py:106: ImplicitModificationWarning: Trying to modify attribute `._uns` of view, initializing view as actual.\n",
      "  self.data[key] = value\n"
     ]
    },
    {
     "name": "stdout",
     "output_type": "stream",
     "text": [
      "14 153 168\n",
      "14 321 32165\n"
     ]
    },
    {
     "name": "stderr",
     "output_type": "stream",
     "text": [
      "C:\\Users\\Hlab\\AppData\\Local\\Programs\\Python\\Python310\\lib\\site-packages\\anndata\\compat\\_overloaded_dict.py:106: ImplicitModificationWarning: Trying to modify attribute `._uns` of view, initializing view as actual.\n",
      "  self.data[key] = value\n"
     ]
    },
    {
     "name": "stdout",
     "output_type": "stream",
     "text": [
      "15 131 153\n",
      "15 284 32165\n"
     ]
    },
    {
     "name": "stderr",
     "output_type": "stream",
     "text": [
      "C:\\Users\\Hlab\\AppData\\Local\\Programs\\Python\\Python310\\lib\\site-packages\\anndata\\compat\\_overloaded_dict.py:106: ImplicitModificationWarning: Trying to modify attribute `._uns` of view, initializing view as actual.\n",
      "  self.data[key] = value\n"
     ]
    },
    {
     "name": "stdout",
     "output_type": "stream",
     "text": [
      "16 95 78\n",
      "16 173 32165\n"
     ]
    },
    {
     "name": "stderr",
     "output_type": "stream",
     "text": [
      "C:\\Users\\Hlab\\AppData\\Local\\Programs\\Python\\Python310\\lib\\site-packages\\anndata\\compat\\_overloaded_dict.py:106: ImplicitModificationWarning: Trying to modify attribute `._uns` of view, initializing view as actual.\n",
      "  self.data[key] = value\n"
     ]
    },
    {
     "name": "stdout",
     "output_type": "stream",
     "text": [
      "17 84 58\n",
      "17 142 32165\n"
     ]
    },
    {
     "name": "stderr",
     "output_type": "stream",
     "text": [
      "C:\\Users\\Hlab\\AppData\\Local\\Programs\\Python\\Python310\\lib\\site-packages\\anndata\\compat\\_overloaded_dict.py:106: ImplicitModificationWarning: Trying to modify attribute `._uns` of view, initializing view as actual.\n",
      "  self.data[key] = value\n"
     ]
    },
    {
     "name": "stdout",
     "output_type": "stream",
     "text": [
      "0 1314 1296\n",
      "0 2610 32165\n"
     ]
    },
    {
     "name": "stderr",
     "output_type": "stream",
     "text": [
      "C:\\Users\\Hlab\\AppData\\Local\\Programs\\Python\\Python310\\lib\\site-packages\\anndata\\compat\\_overloaded_dict.py:106: ImplicitModificationWarning: Trying to modify attribute `._uns` of view, initializing view as actual.\n",
      "  self.data[key] = value\n"
     ]
    },
    {
     "name": "stdout",
     "output_type": "stream",
     "text": [
      "1 1134 1145\n",
      "1 2279 32165\n"
     ]
    },
    {
     "name": "stderr",
     "output_type": "stream",
     "text": [
      "C:\\Users\\Hlab\\AppData\\Local\\Programs\\Python\\Python310\\lib\\site-packages\\anndata\\compat\\_overloaded_dict.py:106: ImplicitModificationWarning: Trying to modify attribute `._uns` of view, initializing view as actual.\n",
      "  self.data[key] = value\n"
     ]
    },
    {
     "name": "stdout",
     "output_type": "stream",
     "text": [
      "2 1223 946\n",
      "2 2169 32165\n"
     ]
    },
    {
     "name": "stderr",
     "output_type": "stream",
     "text": [
      "C:\\Users\\Hlab\\AppData\\Local\\Programs\\Python\\Python310\\lib\\site-packages\\anndata\\compat\\_overloaded_dict.py:106: ImplicitModificationWarning: Trying to modify attribute `._uns` of view, initializing view as actual.\n",
      "  self.data[key] = value\n"
     ]
    },
    {
     "name": "stdout",
     "output_type": "stream",
     "text": [
      "3 568 736\n",
      "3 1304 32165\n"
     ]
    },
    {
     "name": "stderr",
     "output_type": "stream",
     "text": [
      "C:\\Users\\Hlab\\AppData\\Local\\Programs\\Python\\Python310\\lib\\site-packages\\anndata\\compat\\_overloaded_dict.py:106: ImplicitModificationWarning: Trying to modify attribute `._uns` of view, initializing view as actual.\n",
      "  self.data[key] = value\n"
     ]
    },
    {
     "name": "stdout",
     "output_type": "stream",
     "text": [
      "4 570 680\n",
      "4 1250 32165\n"
     ]
    },
    {
     "name": "stderr",
     "output_type": "stream",
     "text": [
      "C:\\Users\\Hlab\\AppData\\Local\\Programs\\Python\\Python310\\lib\\site-packages\\anndata\\compat\\_overloaded_dict.py:106: ImplicitModificationWarning: Trying to modify attribute `._uns` of view, initializing view as actual.\n",
      "  self.data[key] = value\n"
     ]
    },
    {
     "name": "stdout",
     "output_type": "stream",
     "text": [
      "5 585 558\n",
      "5 1143 32165\n"
     ]
    },
    {
     "name": "stderr",
     "output_type": "stream",
     "text": [
      "C:\\Users\\Hlab\\AppData\\Local\\Programs\\Python\\Python310\\lib\\site-packages\\anndata\\compat\\_overloaded_dict.py:106: ImplicitModificationWarning: Trying to modify attribute `._uns` of view, initializing view as actual.\n",
      "  self.data[key] = value\n"
     ]
    },
    {
     "name": "stdout",
     "output_type": "stream",
     "text": [
      "6 1054 6\n",
      "6 1060 32165\n"
     ]
    },
    {
     "name": "stderr",
     "output_type": "stream",
     "text": [
      "C:\\Users\\Hlab\\AppData\\Local\\Programs\\Python\\Python310\\lib\\site-packages\\anndata\\compat\\_overloaded_dict.py:106: ImplicitModificationWarning: Trying to modify attribute `._uns` of view, initializing view as actual.\n",
      "  self.data[key] = value\n"
     ]
    },
    {
     "name": "stdout",
     "output_type": "stream",
     "text": [
      "7 83 861\n",
      "7 944 32165\n"
     ]
    },
    {
     "name": "stderr",
     "output_type": "stream",
     "text": [
      "C:\\Users\\Hlab\\AppData\\Local\\Programs\\Python\\Python310\\lib\\site-packages\\anndata\\compat\\_overloaded_dict.py:106: ImplicitModificationWarning: Trying to modify attribute `._uns` of view, initializing view as actual.\n",
      "  self.data[key] = value\n"
     ]
    },
    {
     "name": "stdout",
     "output_type": "stream",
     "text": [
      "8 549 372\n",
      "8 921 32165\n"
     ]
    },
    {
     "name": "stderr",
     "output_type": "stream",
     "text": [
      "C:\\Users\\Hlab\\AppData\\Local\\Programs\\Python\\Python310\\lib\\site-packages\\anndata\\compat\\_overloaded_dict.py:106: ImplicitModificationWarning: Trying to modify attribute `._uns` of view, initializing view as actual.\n",
      "  self.data[key] = value\n"
     ]
    },
    {
     "name": "stdout",
     "output_type": "stream",
     "text": [
      "9 397 469\n",
      "9 866 32165\n"
     ]
    },
    {
     "name": "stderr",
     "output_type": "stream",
     "text": [
      "C:\\Users\\Hlab\\AppData\\Local\\Programs\\Python\\Python310\\lib\\site-packages\\anndata\\compat\\_overloaded_dict.py:106: ImplicitModificationWarning: Trying to modify attribute `._uns` of view, initializing view as actual.\n",
      "  self.data[key] = value\n"
     ]
    },
    {
     "name": "stdout",
     "output_type": "stream",
     "text": [
      "10 168 628\n",
      "10 796 32165\n"
     ]
    },
    {
     "name": "stderr",
     "output_type": "stream",
     "text": [
      "C:\\Users\\Hlab\\AppData\\Local\\Programs\\Python\\Python310\\lib\\site-packages\\anndata\\compat\\_overloaded_dict.py:106: ImplicitModificationWarning: Trying to modify attribute `._uns` of view, initializing view as actual.\n",
      "  self.data[key] = value\n"
     ]
    },
    {
     "name": "stdout",
     "output_type": "stream",
     "text": [
      "11 376 400\n",
      "11 776 32165\n"
     ]
    },
    {
     "name": "stderr",
     "output_type": "stream",
     "text": [
      "C:\\Users\\Hlab\\AppData\\Local\\Programs\\Python\\Python310\\lib\\site-packages\\anndata\\compat\\_overloaded_dict.py:106: ImplicitModificationWarning: Trying to modify attribute `._uns` of view, initializing view as actual.\n",
      "  self.data[key] = value\n"
     ]
    },
    {
     "name": "stdout",
     "output_type": "stream",
     "text": [
      "12 102 347\n",
      "12 449 32165\n"
     ]
    },
    {
     "name": "stderr",
     "output_type": "stream",
     "text": [
      "C:\\Users\\Hlab\\AppData\\Local\\Programs\\Python\\Python310\\lib\\site-packages\\anndata\\compat\\_overloaded_dict.py:106: ImplicitModificationWarning: Trying to modify attribute `._uns` of view, initializing view as actual.\n",
      "  self.data[key] = value\n"
     ]
    },
    {
     "name": "stdout",
     "output_type": "stream",
     "text": [
      "13 207 187\n",
      "13 394 32165\n"
     ]
    },
    {
     "name": "stderr",
     "output_type": "stream",
     "text": [
      "C:\\Users\\Hlab\\AppData\\Local\\Programs\\Python\\Python310\\lib\\site-packages\\anndata\\compat\\_overloaded_dict.py:106: ImplicitModificationWarning: Trying to modify attribute `._uns` of view, initializing view as actual.\n",
      "  self.data[key] = value\n"
     ]
    },
    {
     "name": "stdout",
     "output_type": "stream",
     "text": [
      "14 158 113\n",
      "14 271 32165\n"
     ]
    },
    {
     "name": "stderr",
     "output_type": "stream",
     "text": [
      "C:\\Users\\Hlab\\AppData\\Local\\Programs\\Python\\Python310\\lib\\site-packages\\anndata\\compat\\_overloaded_dict.py:106: ImplicitModificationWarning: Trying to modify attribute `._uns` of view, initializing view as actual.\n",
      "  self.data[key] = value\n"
     ]
    },
    {
     "name": "stdout",
     "output_type": "stream",
     "text": [
      "15 127 125\n",
      "15 252 32165\n"
     ]
    },
    {
     "name": "stderr",
     "output_type": "stream",
     "text": [
      "C:\\Users\\Hlab\\AppData\\Local\\Programs\\Python\\Python310\\lib\\site-packages\\anndata\\compat\\_overloaded_dict.py:106: ImplicitModificationWarning: Trying to modify attribute `._uns` of view, initializing view as actual.\n",
      "  self.data[key] = value\n"
     ]
    },
    {
     "name": "stdout",
     "output_type": "stream",
     "text": [
      "16 95 151\n",
      "16 246 32165\n"
     ]
    },
    {
     "name": "stderr",
     "output_type": "stream",
     "text": [
      "C:\\Users\\Hlab\\AppData\\Local\\Programs\\Python\\Python310\\lib\\site-packages\\anndata\\compat\\_overloaded_dict.py:106: ImplicitModificationWarning: Trying to modify attribute `._uns` of view, initializing view as actual.\n",
      "  self.data[key] = value\n"
     ]
    },
    {
     "name": "stdout",
     "output_type": "stream",
     "text": [
      "17 189 1\n",
      "18 91 75\n",
      "18 166 32165\n"
     ]
    },
    {
     "name": "stderr",
     "output_type": "stream",
     "text": [
      "C:\\Users\\Hlab\\AppData\\Local\\Programs\\Python\\Python310\\lib\\site-packages\\anndata\\compat\\_overloaded_dict.py:106: ImplicitModificationWarning: Trying to modify attribute `._uns` of view, initializing view as actual.\n",
      "  self.data[key] = value\n"
     ]
    },
    {
     "name": "stdout",
     "output_type": "stream",
     "text": [
      "0 1248 1366\n",
      "0 2614 32165\n"
     ]
    },
    {
     "name": "stderr",
     "output_type": "stream",
     "text": [
      "C:\\Users\\Hlab\\AppData\\Local\\Programs\\Python\\Python310\\lib\\site-packages\\anndata\\compat\\_overloaded_dict.py:106: ImplicitModificationWarning: Trying to modify attribute `._uns` of view, initializing view as actual.\n",
      "  self.data[key] = value\n"
     ]
    },
    {
     "name": "stdout",
     "output_type": "stream",
     "text": [
      "1 1180 1236\n",
      "1 2416 32165\n"
     ]
    },
    {
     "name": "stderr",
     "output_type": "stream",
     "text": [
      "C:\\Users\\Hlab\\AppData\\Local\\Programs\\Python\\Python310\\lib\\site-packages\\anndata\\compat\\_overloaded_dict.py:106: ImplicitModificationWarning: Trying to modify attribute `._uns` of view, initializing view as actual.\n",
      "  self.data[key] = value\n"
     ]
    },
    {
     "name": "stdout",
     "output_type": "stream",
     "text": [
      "2 775 797\n",
      "2 1572 32165\n"
     ]
    },
    {
     "name": "stderr",
     "output_type": "stream",
     "text": [
      "C:\\Users\\Hlab\\AppData\\Local\\Programs\\Python\\Python310\\lib\\site-packages\\anndata\\compat\\_overloaded_dict.py:106: ImplicitModificationWarning: Trying to modify attribute `._uns` of view, initializing view as actual.\n",
      "  self.data[key] = value\n"
     ]
    },
    {
     "name": "stdout",
     "output_type": "stream",
     "text": [
      "3 720 825\n",
      "3 1545 32165\n"
     ]
    },
    {
     "name": "stderr",
     "output_type": "stream",
     "text": [
      "C:\\Users\\Hlab\\AppData\\Local\\Programs\\Python\\Python310\\lib\\site-packages\\anndata\\compat\\_overloaded_dict.py:106: ImplicitModificationWarning: Trying to modify attribute `._uns` of view, initializing view as actual.\n",
      "  self.data[key] = value\n"
     ]
    },
    {
     "name": "stdout",
     "output_type": "stream",
     "text": [
      "4 337 631\n",
      "4 968 32165\n"
     ]
    },
    {
     "name": "stderr",
     "output_type": "stream",
     "text": [
      "C:\\Users\\Hlab\\AppData\\Local\\Programs\\Python\\Python310\\lib\\site-packages\\anndata\\compat\\_overloaded_dict.py:106: ImplicitModificationWarning: Trying to modify attribute `._uns` of view, initializing view as actual.\n",
      "  self.data[key] = value\n"
     ]
    },
    {
     "name": "stdout",
     "output_type": "stream",
     "text": [
      "5 420 521\n",
      "5 941 32165\n"
     ]
    },
    {
     "name": "stderr",
     "output_type": "stream",
     "text": [
      "C:\\Users\\Hlab\\AppData\\Local\\Programs\\Python\\Python310\\lib\\site-packages\\anndata\\compat\\_overloaded_dict.py:106: ImplicitModificationWarning: Trying to modify attribute `._uns` of view, initializing view as actual.\n",
      "  self.data[key] = value\n"
     ]
    },
    {
     "name": "stdout",
     "output_type": "stream",
     "text": [
      "6 432 491\n",
      "6 923 32165\n"
     ]
    },
    {
     "name": "stderr",
     "output_type": "stream",
     "text": [
      "C:\\Users\\Hlab\\AppData\\Local\\Programs\\Python\\Python310\\lib\\site-packages\\anndata\\compat\\_overloaded_dict.py:106: ImplicitModificationWarning: Trying to modify attribute `._uns` of view, initializing view as actual.\n",
      "  self.data[key] = value\n"
     ]
    },
    {
     "name": "stdout",
     "output_type": "stream",
     "text": [
      "7 449 432\n",
      "7 881 32165\n"
     ]
    },
    {
     "name": "stderr",
     "output_type": "stream",
     "text": [
      "C:\\Users\\Hlab\\AppData\\Local\\Programs\\Python\\Python310\\lib\\site-packages\\anndata\\compat\\_overloaded_dict.py:106: ImplicitModificationWarning: Trying to modify attribute `._uns` of view, initializing view as actual.\n",
      "  self.data[key] = value\n"
     ]
    },
    {
     "name": "stdout",
     "output_type": "stream",
     "text": [
      "8 376 417\n",
      "8 793 32165\n"
     ]
    },
    {
     "name": "stderr",
     "output_type": "stream",
     "text": [
      "C:\\Users\\Hlab\\AppData\\Local\\Programs\\Python\\Python310\\lib\\site-packages\\anndata\\compat\\_overloaded_dict.py:106: ImplicitModificationWarning: Trying to modify attribute `._uns` of view, initializing view as actual.\n",
      "  self.data[key] = value\n"
     ]
    },
    {
     "name": "stdout",
     "output_type": "stream",
     "text": [
      "9 290 226\n",
      "9 516 32165\n"
     ]
    },
    {
     "name": "stderr",
     "output_type": "stream",
     "text": [
      "C:\\Users\\Hlab\\AppData\\Local\\Programs\\Python\\Python310\\lib\\site-packages\\anndata\\compat\\_overloaded_dict.py:106: ImplicitModificationWarning: Trying to modify attribute `._uns` of view, initializing view as actual.\n",
      "  self.data[key] = value\n"
     ]
    },
    {
     "name": "stdout",
     "output_type": "stream",
     "text": [
      "10 232 254\n",
      "10 486 32165\n"
     ]
    },
    {
     "name": "stderr",
     "output_type": "stream",
     "text": [
      "C:\\Users\\Hlab\\AppData\\Local\\Programs\\Python\\Python310\\lib\\site-packages\\anndata\\compat\\_overloaded_dict.py:106: ImplicitModificationWarning: Trying to modify attribute `._uns` of view, initializing view as actual.\n",
      "  self.data[key] = value\n"
     ]
    },
    {
     "name": "stdout",
     "output_type": "stream",
     "text": [
      "11 194 274\n",
      "11 468 32165\n"
     ]
    },
    {
     "name": "stderr",
     "output_type": "stream",
     "text": [
      "C:\\Users\\Hlab\\AppData\\Local\\Programs\\Python\\Python310\\lib\\site-packages\\anndata\\compat\\_overloaded_dict.py:106: ImplicitModificationWarning: Trying to modify attribute `._uns` of view, initializing view as actual.\n",
      "  self.data[key] = value\n"
     ]
    },
    {
     "name": "stdout",
     "output_type": "stream",
     "text": [
      "12 219 202\n",
      "12 421 32165\n"
     ]
    },
    {
     "name": "stderr",
     "output_type": "stream",
     "text": [
      "C:\\Users\\Hlab\\AppData\\Local\\Programs\\Python\\Python310\\lib\\site-packages\\anndata\\compat\\_overloaded_dict.py:106: ImplicitModificationWarning: Trying to modify attribute `._uns` of view, initializing view as actual.\n",
      "  self.data[key] = value\n"
     ]
    },
    {
     "name": "stdout",
     "output_type": "stream",
     "text": [
      "13 172 207\n",
      "13 379 32165\n"
     ]
    },
    {
     "name": "stderr",
     "output_type": "stream",
     "text": [
      "C:\\Users\\Hlab\\AppData\\Local\\Programs\\Python\\Python310\\lib\\site-packages\\anndata\\compat\\_overloaded_dict.py:106: ImplicitModificationWarning: Trying to modify attribute `._uns` of view, initializing view as actual.\n",
      "  self.data[key] = value\n"
     ]
    },
    {
     "name": "stdout",
     "output_type": "stream",
     "text": [
      "14 275 79\n",
      "14 354 32165\n"
     ]
    },
    {
     "name": "stderr",
     "output_type": "stream",
     "text": [
      "C:\\Users\\Hlab\\AppData\\Local\\Programs\\Python\\Python310\\lib\\site-packages\\anndata\\compat\\_overloaded_dict.py:106: ImplicitModificationWarning: Trying to modify attribute `._uns` of view, initializing view as actual.\n",
      "  self.data[key] = value\n"
     ]
    },
    {
     "name": "stdout",
     "output_type": "stream",
     "text": [
      "15 122 165\n",
      "15 287 32165\n"
     ]
    },
    {
     "name": "stderr",
     "output_type": "stream",
     "text": [
      "C:\\Users\\Hlab\\AppData\\Local\\Programs\\Python\\Python310\\lib\\site-packages\\anndata\\compat\\_overloaded_dict.py:106: ImplicitModificationWarning: Trying to modify attribute `._uns` of view, initializing view as actual.\n",
      "  self.data[key] = value\n"
     ]
    },
    {
     "name": "stdout",
     "output_type": "stream",
     "text": [
      "16 66 73\n",
      "16 139 32165\n"
     ]
    },
    {
     "name": "stderr",
     "output_type": "stream",
     "text": [
      "C:\\Users\\Hlab\\AppData\\Local\\Programs\\Python\\Python310\\lib\\site-packages\\anndata\\compat\\_overloaded_dict.py:106: ImplicitModificationWarning: Trying to modify attribute `._uns` of view, initializing view as actual.\n",
      "  self.data[key] = value\n"
     ]
    },
    {
     "name": "stdout",
     "output_type": "stream",
     "text": [
      "0 1359 1103\n",
      "0 2462 32165\n"
     ]
    },
    {
     "name": "stderr",
     "output_type": "stream",
     "text": [
      "C:\\Users\\Hlab\\AppData\\Local\\Programs\\Python\\Python310\\lib\\site-packages\\anndata\\compat\\_overloaded_dict.py:106: ImplicitModificationWarning: Trying to modify attribute `._uns` of view, initializing view as actual.\n",
      "  self.data[key] = value\n"
     ]
    },
    {
     "name": "stdout",
     "output_type": "stream",
     "text": [
      "1 1077 1208\n",
      "1 2285 32165\n"
     ]
    },
    {
     "name": "stderr",
     "output_type": "stream",
     "text": [
      "C:\\Users\\Hlab\\AppData\\Local\\Programs\\Python\\Python310\\lib\\site-packages\\anndata\\compat\\_overloaded_dict.py:106: ImplicitModificationWarning: Trying to modify attribute `._uns` of view, initializing view as actual.\n",
      "  self.data[key] = value\n"
     ]
    },
    {
     "name": "stdout",
     "output_type": "stream",
     "text": [
      "2 1067 885\n",
      "2 1952 32165\n"
     ]
    },
    {
     "name": "stderr",
     "output_type": "stream",
     "text": [
      "C:\\Users\\Hlab\\AppData\\Local\\Programs\\Python\\Python310\\lib\\site-packages\\anndata\\compat\\_overloaded_dict.py:106: ImplicitModificationWarning: Trying to modify attribute `._uns` of view, initializing view as actual.\n",
      "  self.data[key] = value\n"
     ]
    },
    {
     "name": "stdout",
     "output_type": "stream",
     "text": [
      "3 766 894\n",
      "3 1660 32165\n"
     ]
    },
    {
     "name": "stderr",
     "output_type": "stream",
     "text": [
      "C:\\Users\\Hlab\\AppData\\Local\\Programs\\Python\\Python310\\lib\\site-packages\\anndata\\compat\\_overloaded_dict.py:106: ImplicitModificationWarning: Trying to modify attribute `._uns` of view, initializing view as actual.\n",
      "  self.data[key] = value\n"
     ]
    },
    {
     "name": "stdout",
     "output_type": "stream",
     "text": [
      "4 826 549\n",
      "4 1375 32165\n"
     ]
    },
    {
     "name": "stderr",
     "output_type": "stream",
     "text": [
      "C:\\Users\\Hlab\\AppData\\Local\\Programs\\Python\\Python310\\lib\\site-packages\\anndata\\compat\\_overloaded_dict.py:106: ImplicitModificationWarning: Trying to modify attribute `._uns` of view, initializing view as actual.\n",
      "  self.data[key] = value\n"
     ]
    },
    {
     "name": "stdout",
     "output_type": "stream",
     "text": [
      "5 697 520\n",
      "5 1217 32165\n"
     ]
    },
    {
     "name": "stderr",
     "output_type": "stream",
     "text": [
      "C:\\Users\\Hlab\\AppData\\Local\\Programs\\Python\\Python310\\lib\\site-packages\\anndata\\compat\\_overloaded_dict.py:106: ImplicitModificationWarning: Trying to modify attribute `._uns` of view, initializing view as actual.\n",
      "  self.data[key] = value\n"
     ]
    },
    {
     "name": "stdout",
     "output_type": "stream",
     "text": [
      "6 567 601\n",
      "6 1168 32165\n"
     ]
    },
    {
     "name": "stderr",
     "output_type": "stream",
     "text": [
      "C:\\Users\\Hlab\\AppData\\Local\\Programs\\Python\\Python310\\lib\\site-packages\\anndata\\compat\\_overloaded_dict.py:106: ImplicitModificationWarning: Trying to modify attribute `._uns` of view, initializing view as actual.\n",
      "  self.data[key] = value\n"
     ]
    },
    {
     "name": "stdout",
     "output_type": "stream",
     "text": [
      "7 14 1078\n",
      "7 1092 32165\n"
     ]
    },
    {
     "name": "stderr",
     "output_type": "stream",
     "text": [
      "C:\\Users\\Hlab\\AppData\\Local\\Programs\\Python\\Python310\\lib\\site-packages\\anndata\\compat\\_overloaded_dict.py:106: ImplicitModificationWarning: Trying to modify attribute `._uns` of view, initializing view as actual.\n",
      "  self.data[key] = value\n"
     ]
    },
    {
     "name": "stdout",
     "output_type": "stream",
     "text": [
      "8 414 453\n",
      "8 867 32165\n"
     ]
    },
    {
     "name": "stderr",
     "output_type": "stream",
     "text": [
      "C:\\Users\\Hlab\\AppData\\Local\\Programs\\Python\\Python310\\lib\\site-packages\\anndata\\compat\\_overloaded_dict.py:106: ImplicitModificationWarning: Trying to modify attribute `._uns` of view, initializing view as actual.\n",
      "  self.data[key] = value\n"
     ]
    },
    {
     "name": "stdout",
     "output_type": "stream",
     "text": [
      "9 395 333\n",
      "9 728 32165\n"
     ]
    },
    {
     "name": "stderr",
     "output_type": "stream",
     "text": [
      "C:\\Users\\Hlab\\AppData\\Local\\Programs\\Python\\Python310\\lib\\site-packages\\anndata\\compat\\_overloaded_dict.py:106: ImplicitModificationWarning: Trying to modify attribute `._uns` of view, initializing view as actual.\n",
      "  self.data[key] = value\n"
     ]
    },
    {
     "name": "stdout",
     "output_type": "stream",
     "text": [
      "10 135 424\n",
      "10 559 32165\n"
     ]
    },
    {
     "name": "stderr",
     "output_type": "stream",
     "text": [
      "C:\\Users\\Hlab\\AppData\\Local\\Programs\\Python\\Python310\\lib\\site-packages\\anndata\\compat\\_overloaded_dict.py:106: ImplicitModificationWarning: Trying to modify attribute `._uns` of view, initializing view as actual.\n",
      "  self.data[key] = value\n"
     ]
    },
    {
     "name": "stdout",
     "output_type": "stream",
     "text": [
      "11 262 182\n",
      "11 444 32165\n"
     ]
    },
    {
     "name": "stderr",
     "output_type": "stream",
     "text": [
      "C:\\Users\\Hlab\\AppData\\Local\\Programs\\Python\\Python310\\lib\\site-packages\\anndata\\compat\\_overloaded_dict.py:106: ImplicitModificationWarning: Trying to modify attribute `._uns` of view, initializing view as actual.\n",
      "  self.data[key] = value\n"
     ]
    },
    {
     "name": "stdout",
     "output_type": "stream",
     "text": [
      "12 244 112\n",
      "12 356 32165\n"
     ]
    },
    {
     "name": "stderr",
     "output_type": "stream",
     "text": [
      "C:\\Users\\Hlab\\AppData\\Local\\Programs\\Python\\Python310\\lib\\site-packages\\anndata\\compat\\_overloaded_dict.py:106: ImplicitModificationWarning: Trying to modify attribute `._uns` of view, initializing view as actual.\n",
      "  self.data[key] = value\n"
     ]
    },
    {
     "name": "stdout",
     "output_type": "stream",
     "text": [
      "13 204 130\n",
      "13 334 32165\n"
     ]
    },
    {
     "name": "stderr",
     "output_type": "stream",
     "text": [
      "C:\\Users\\Hlab\\AppData\\Local\\Programs\\Python\\Python310\\lib\\site-packages\\anndata\\compat\\_overloaded_dict.py:106: ImplicitModificationWarning: Trying to modify attribute `._uns` of view, initializing view as actual.\n",
      "  self.data[key] = value\n"
     ]
    },
    {
     "name": "stdout",
     "output_type": "stream",
     "text": [
      "14 200 119\n",
      "14 319 32165\n"
     ]
    },
    {
     "name": "stderr",
     "output_type": "stream",
     "text": [
      "C:\\Users\\Hlab\\AppData\\Local\\Programs\\Python\\Python310\\lib\\site-packages\\anndata\\compat\\_overloaded_dict.py:106: ImplicitModificationWarning: Trying to modify attribute `._uns` of view, initializing view as actual.\n",
      "  self.data[key] = value\n"
     ]
    },
    {
     "name": "stdout",
     "output_type": "stream",
     "text": [
      "15 34 125\n",
      "15 159 32165\n"
     ]
    },
    {
     "name": "stderr",
     "output_type": "stream",
     "text": [
      "C:\\Users\\Hlab\\AppData\\Local\\Programs\\Python\\Python310\\lib\\site-packages\\anndata\\compat\\_overloaded_dict.py:106: ImplicitModificationWarning: Trying to modify attribute `._uns` of view, initializing view as actual.\n",
      "  self.data[key] = value\n"
     ]
    },
    {
     "name": "stdout",
     "output_type": "stream",
     "text": [
      "16 75 75\n",
      "16 150 32165\n"
     ]
    },
    {
     "name": "stderr",
     "output_type": "stream",
     "text": [
      "C:\\Users\\Hlab\\AppData\\Local\\Programs\\Python\\Python310\\lib\\site-packages\\anndata\\compat\\_overloaded_dict.py:106: ImplicitModificationWarning: Trying to modify attribute `._uns` of view, initializing view as actual.\n",
      "  self.data[key] = value\n"
     ]
    },
    {
     "name": "stdout",
     "output_type": "stream",
     "text": [
      "17 22 30\n",
      "17 52 32165\n"
     ]
    },
    {
     "name": "stderr",
     "output_type": "stream",
     "text": [
      "C:\\Users\\Hlab\\AppData\\Local\\Programs\\Python\\Python310\\lib\\site-packages\\anndata\\compat\\_overloaded_dict.py:106: ImplicitModificationWarning: Trying to modify attribute `._uns` of view, initializing view as actual.\n",
      "  self.data[key] = value\n"
     ]
    }
   ],
   "source": [
    "folderName = 'HemisphericComparisons'\n",
    "saveFolderName = 'HemisphericComparisons_Clusters'\n",
    "\n",
    "addingQCandDEscore(hemComparLst, folderName, saveFolderName)\n",
    "# addingSexInfo(mouseSexLst, hemComparLst, folderName)"
   ]
  },
  {
   "cell_type": "markdown",
   "id": "281b72ac",
   "metadata": {},
   "source": [
    "## Counting the DE Genes, Calculating Fold Change, and Saving Counts in Dictionary File"
   ]
  },
  {
   "cell_type": "code",
   "execution_count": 13,
   "id": "a8113a36",
   "metadata": {},
   "outputs": [
    {
     "name": "stdout",
     "output_type": "stream",
     "text": [
      "{'1_VC20L': [0, 0, 0, 0, 0, 0, 0, 0, 0, 0, 0, 0, 0, 0, 0, 0, 0], '2_AC20L': [0, 0, 0, 0, 0, 0, 0, 0, 0, 0, 0, 0, 0, 0, 0, 0], '3_VC20R': [0, 0, 0, 0, 0, 0, 0, 0, 0, 0, 0, 0, 0, 0, 0, 0], '4_AC20R': [0, 0, 0, 0, 0, 0, 0, 0, 0, 0, 0, 0, 0, 0, 0, 0, 0], '5_VC22L': [0, 0, 0, 0, 0, 0, 0, 0, 0, 0, 0, 0, 0, 0, 0, 0, 0, 0], '6_AC22L': [0, 0, 0, 0, 0, 0, 0, 0, 0, 0, 0, 0, 0, 0, 0], '7_VC24L': [0, 0, 0, 0, 0, 0, 0, 0, 0, 0, 0, 0, 0, 0, 0, 0, 0, 0], '8_AC24L': [0, 0, 0, 0, 0, 0, 0, 0, 0, 0, 0, 0, 0, 0, 0], '9_VC23L': [0, 0, 0, 0, 0, 0, 0, 0, 0, 0, 0, 0, 0, 0, 0, 0, 0, 0, 0, 0], '10_VC25L': [0, 0, 0, 0, 0, 0, 0, 0, 0, 0, 0, 0, 0, 0, 0, 0, 0], '13_AC25L': [0, 0, 0, 0, 0, 0, 0, 0, 0, 0, 0, 0, 0, 0], '14_AC23L': [0, 0, 0, 0, 0, 0, 0, 0, 0, 0, 0, 0, 0], '16_VC19L': [0, 0, 0, 0, 0, 0, 0, 0, 0, 0, 0, 0, 0, 0, 0, 0, 0, 0, 0], '17_VC19R': [0, 0, 0, 0, 0, 0, 0, 0, 0, 0, 0, 0, 0, 0, 0, 0, 0, 0], '19_AC19L': [0, 0, 0, 0, 0, 0, 0, 0, 0, 0, 0, 0, 0, 0, 0], '20_AC19R': [0, 0, 0, 0, 0, 0, 0, 0, 0, 0, 0, 0, 0, 0, 0, 0, 0, 0]}\n"
     ]
    }
   ],
   "source": [
    "'''COUNTING DE GENES FOR INDIVIDUAL SAMPLE HALVES'''\n",
    "\n",
    "folderName = 'IndividualSamples'\n",
    "savePath = 'F:/FigureCalculations/Figure4/diffExp_WithinSample'\n",
    "\n",
    "thresholdDEGenes(sampleNameLst, folderName, savePath)"
   ]
  },
  {
   "cell_type": "code",
   "execution_count": null,
   "id": "c4b70ca2",
   "metadata": {},
   "outputs": [],
   "source": [
    "'''CALCULATING FOLD CHANGE FOR INDIVIDUAL SAMPLE HALVES'''\n",
    "\n",
    "folderName = 'IndividualSamples'\n",
    "savePath = 'F:/FigureCalculations/Figure4/foldChange_WithinSample'\n",
    "\n",
    "calculatingFoldChange(sampleNameLst, folderName, savePath)"
   ]
  },
  {
   "cell_type": "code",
   "execution_count": 9,
   "id": "5b134185",
   "metadata": {
    "scrolled": true
   },
   "outputs": [
    {
     "name": "stdout",
     "output_type": "stream",
     "text": [
      "WARNING: Your filename has more than two extensions: ['. Hem', '. (L)_16_VC19L_1_VC20L', '.h5ad'].\n",
      "Only considering the two last: ['. (L)_16_VC19L_1_VC20L', '.h5ad'].\n",
      "WARNING: Your filename has more than two extensions: ['. Hem', '. (L)_16_VC19L_1_VC20L', '.h5ad'].\n",
      "Only considering the two last: ['. (L)_16_VC19L_1_VC20L', '.h5ad'].\n",
      "WARNING: Your filename has more than two extensions: ['. Hem', '. (L)_16_VC19L_1_VC20L_0', '.h5ad'].\n",
      "Only considering the two last: ['. (L)_16_VC19L_1_VC20L_0', '.h5ad'].\n",
      "WARNING: Your filename has more than two extensions: ['. Hem', '. (L)_16_VC19L_1_VC20L_0', '.h5ad'].\n",
      "Only considering the two last: ['. (L)_16_VC19L_1_VC20L_0', '.h5ad'].\n",
      "WARNING: Your filename has more than two extensions: ['. Hem', '. (L)_16_VC19L_1_VC20L_1', '.h5ad'].\n",
      "Only considering the two last: ['. (L)_16_VC19L_1_VC20L_1', '.h5ad'].\n",
      "WARNING: Your filename has more than two extensions: ['. Hem', '. (L)_16_VC19L_1_VC20L_1', '.h5ad'].\n",
      "Only considering the two last: ['. (L)_16_VC19L_1_VC20L_1', '.h5ad'].\n",
      "WARNING: Your filename has more than two extensions: ['. Hem', '. (L)_16_VC19L_1_VC20L_2', '.h5ad'].\n",
      "Only considering the two last: ['. (L)_16_VC19L_1_VC20L_2', '.h5ad'].\n",
      "WARNING: Your filename has more than two extensions: ['. Hem', '. (L)_16_VC19L_1_VC20L_2', '.h5ad'].\n",
      "Only considering the two last: ['. (L)_16_VC19L_1_VC20L_2', '.h5ad'].\n",
      "WARNING: Your filename has more than two extensions: ['. Hem', '. (L)_16_VC19L_1_VC20L_3', '.h5ad'].\n",
      "Only considering the two last: ['. (L)_16_VC19L_1_VC20L_3', '.h5ad'].\n",
      "WARNING: Your filename has more than two extensions: ['. Hem', '. (L)_16_VC19L_1_VC20L_3', '.h5ad'].\n",
      "Only considering the two last: ['. (L)_16_VC19L_1_VC20L_3', '.h5ad'].\n",
      "WARNING: Your filename has more than two extensions: ['. Hem', '. (L)_16_VC19L_1_VC20L_4', '.h5ad'].\n",
      "Only considering the two last: ['. (L)_16_VC19L_1_VC20L_4', '.h5ad'].\n",
      "WARNING: Your filename has more than two extensions: ['. Hem', '. (L)_16_VC19L_1_VC20L_4', '.h5ad'].\n",
      "Only considering the two last: ['. (L)_16_VC19L_1_VC20L_4', '.h5ad'].\n",
      "WARNING: Your filename has more than two extensions: ['. Hem', '. (L)_16_VC19L_1_VC20L_5', '.h5ad'].\n",
      "Only considering the two last: ['. (L)_16_VC19L_1_VC20L_5', '.h5ad'].\n",
      "WARNING: Your filename has more than two extensions: ['. Hem', '. (L)_16_VC19L_1_VC20L_5', '.h5ad'].\n",
      "Only considering the two last: ['. (L)_16_VC19L_1_VC20L_5', '.h5ad'].\n",
      "WARNING: Your filename has more than two extensions: ['. Hem', '. (L)_16_VC19L_1_VC20L_6', '.h5ad'].\n",
      "Only considering the two last: ['. (L)_16_VC19L_1_VC20L_6', '.h5ad'].\n",
      "WARNING: Your filename has more than two extensions: ['. Hem', '. (L)_16_VC19L_1_VC20L_6', '.h5ad'].\n",
      "Only considering the two last: ['. (L)_16_VC19L_1_VC20L_6', '.h5ad'].\n",
      "WARNING: Your filename has more than two extensions: ['. Hem', '. (L)_16_VC19L_1_VC20L_7', '.h5ad'].\n",
      "Only considering the two last: ['. (L)_16_VC19L_1_VC20L_7', '.h5ad'].\n",
      "WARNING: Your filename has more than two extensions: ['. Hem', '. (L)_16_VC19L_1_VC20L_7', '.h5ad'].\n",
      "Only considering the two last: ['. (L)_16_VC19L_1_VC20L_7', '.h5ad'].\n",
      "WARNING: Your filename has more than two extensions: ['. Hem', '. (L)_16_VC19L_1_VC20L_8', '.h5ad'].\n",
      "Only considering the two last: ['. (L)_16_VC19L_1_VC20L_8', '.h5ad'].\n",
      "WARNING: Your filename has more than two extensions: ['. Hem', '. (L)_16_VC19L_1_VC20L_8', '.h5ad'].\n",
      "Only considering the two last: ['. (L)_16_VC19L_1_VC20L_8', '.h5ad'].\n",
      "WARNING: Your filename has more than two extensions: ['. Hem', '. (L)_16_VC19L_1_VC20L_9', '.h5ad'].\n",
      "Only considering the two last: ['. (L)_16_VC19L_1_VC20L_9', '.h5ad'].\n",
      "WARNING: Your filename has more than two extensions: ['. Hem', '. (L)_16_VC19L_1_VC20L_9', '.h5ad'].\n",
      "Only considering the two last: ['. (L)_16_VC19L_1_VC20L_9', '.h5ad'].\n",
      "WARNING: Your filename has more than two extensions: ['. Hem', '. (L)_16_VC19L_1_VC20L_10', '.h5ad'].\n",
      "Only considering the two last: ['. (L)_16_VC19L_1_VC20L_10', '.h5ad'].\n",
      "WARNING: Your filename has more than two extensions: ['. Hem', '. (L)_16_VC19L_1_VC20L_10', '.h5ad'].\n",
      "Only considering the two last: ['. (L)_16_VC19L_1_VC20L_10', '.h5ad'].\n",
      "WARNING: Your filename has more than two extensions: ['. Hem', '. (L)_16_VC19L_1_VC20L_11', '.h5ad'].\n",
      "Only considering the two last: ['. (L)_16_VC19L_1_VC20L_11', '.h5ad'].\n",
      "WARNING: Your filename has more than two extensions: ['. Hem', '. (L)_16_VC19L_1_VC20L_11', '.h5ad'].\n",
      "Only considering the two last: ['. (L)_16_VC19L_1_VC20L_11', '.h5ad'].\n",
      "WARNING: Your filename has more than two extensions: ['. Hem', '. (L)_16_VC19L_1_VC20L_12', '.h5ad'].\n",
      "Only considering the two last: ['. (L)_16_VC19L_1_VC20L_12', '.h5ad'].\n",
      "WARNING: Your filename has more than two extensions: ['. Hem', '. (L)_16_VC19L_1_VC20L_12', '.h5ad'].\n",
      "Only considering the two last: ['. (L)_16_VC19L_1_VC20L_12', '.h5ad'].\n",
      "WARNING: Your filename has more than two extensions: ['. Hem', '. (L)_16_VC19L_1_VC20L_13', '.h5ad'].\n",
      "Only considering the two last: ['. (L)_16_VC19L_1_VC20L_13', '.h5ad'].\n",
      "WARNING: Your filename has more than two extensions: ['. Hem', '. (L)_16_VC19L_1_VC20L_13', '.h5ad'].\n",
      "Only considering the two last: ['. (L)_16_VC19L_1_VC20L_13', '.h5ad'].\n",
      "WARNING: Your filename has more than two extensions: ['. Hem', '. (L)_16_VC19L_1_VC20L_14', '.h5ad'].\n",
      "Only considering the two last: ['. (L)_16_VC19L_1_VC20L_14', '.h5ad'].\n",
      "WARNING: Your filename has more than two extensions: ['. Hem', '. (L)_16_VC19L_1_VC20L_14', '.h5ad'].\n",
      "Only considering the two last: ['. (L)_16_VC19L_1_VC20L_14', '.h5ad'].\n",
      "WARNING: Your filename has more than two extensions: ['. Hem', '. (L)_16_VC19L_1_VC20L_15', '.h5ad'].\n",
      "Only considering the two last: ['. (L)_16_VC19L_1_VC20L_15', '.h5ad'].\n",
      "WARNING: Your filename has more than two extensions: ['. Hem', '. (L)_16_VC19L_1_VC20L_15', '.h5ad'].\n",
      "Only considering the two last: ['. (L)_16_VC19L_1_VC20L_15', '.h5ad'].\n",
      "WARNING: Your filename has more than two extensions: ['. Hem', '. (L)_16_VC19L_1_VC20L_16', '.h5ad'].\n",
      "Only considering the two last: ['. (L)_16_VC19L_1_VC20L_16', '.h5ad'].\n",
      "WARNING: Your filename has more than two extensions: ['. Hem', '. (L)_16_VC19L_1_VC20L_16', '.h5ad'].\n",
      "Only considering the two last: ['. (L)_16_VC19L_1_VC20L_16', '.h5ad'].\n",
      "WARNING: Your filename has more than two extensions: ['. Hem', '. (L)_16_VC19L_1_VC20L_17', '.h5ad'].\n",
      "Only considering the two last: ['. (L)_16_VC19L_1_VC20L_17', '.h5ad'].\n",
      "WARNING: Your filename has more than two extensions: ['. Hem', '. (L)_16_VC19L_1_VC20L_17', '.h5ad'].\n",
      "Only considering the two last: ['. (L)_16_VC19L_1_VC20L_17', '.h5ad'].\n",
      "WARNING: Your filename has more than two extensions: ['. Hem', '. (L)_16_VC19L_1_VC20L_18', '.h5ad'].\n",
      "Only considering the two last: ['. (L)_16_VC19L_1_VC20L_18', '.h5ad'].\n",
      "WARNING: Your filename has more than two extensions: ['. Hem', '. (L)_16_VC19L_1_VC20L_18', '.h5ad'].\n",
      "Only considering the two last: ['. (L)_16_VC19L_1_VC20L_18', '.h5ad'].\n",
      "WARNING: Your filename has more than two extensions: ['. Hem', '. (L)_19_AC19L_2_AC20L', '.h5ad'].\n",
      "Only considering the two last: ['. (L)_19_AC19L_2_AC20L', '.h5ad'].\n",
      "WARNING: Your filename has more than two extensions: ['. Hem', '. (L)_19_AC19L_2_AC20L', '.h5ad'].\n",
      "Only considering the two last: ['. (L)_19_AC19L_2_AC20L', '.h5ad'].\n",
      "WARNING: Your filename has more than two extensions: ['. Hem', '. (L)_19_AC19L_2_AC20L_0', '.h5ad'].\n",
      "Only considering the two last: ['. (L)_19_AC19L_2_AC20L_0', '.h5ad'].\n",
      "WARNING: Your filename has more than two extensions: ['. Hem', '. (L)_19_AC19L_2_AC20L_0', '.h5ad'].\n",
      "Only considering the two last: ['. (L)_19_AC19L_2_AC20L_0', '.h5ad'].\n",
      "WARNING: Your filename has more than two extensions: ['. Hem', '. (L)_19_AC19L_2_AC20L_1', '.h5ad'].\n",
      "Only considering the two last: ['. (L)_19_AC19L_2_AC20L_1', '.h5ad'].\n",
      "WARNING: Your filename has more than two extensions: ['. Hem', '. (L)_19_AC19L_2_AC20L_1', '.h5ad'].\n",
      "Only considering the two last: ['. (L)_19_AC19L_2_AC20L_1', '.h5ad'].\n",
      "WARNING: Your filename has more than two extensions: ['. Hem', '. (L)_19_AC19L_2_AC20L_2', '.h5ad'].\n",
      "Only considering the two last: ['. (L)_19_AC19L_2_AC20L_2', '.h5ad'].\n",
      "WARNING: Your filename has more than two extensions: ['. Hem', '. (L)_19_AC19L_2_AC20L_2', '.h5ad'].\n",
      "Only considering the two last: ['. (L)_19_AC19L_2_AC20L_2', '.h5ad'].\n"
     ]
    },
    {
     "name": "stdout",
     "output_type": "stream",
     "text": [
      "WARNING: Your filename has more than two extensions: ['. Hem', '. (L)_19_AC19L_2_AC20L_3', '.h5ad'].\n",
      "Only considering the two last: ['. (L)_19_AC19L_2_AC20L_3', '.h5ad'].\n",
      "WARNING: Your filename has more than two extensions: ['. Hem', '. (L)_19_AC19L_2_AC20L_3', '.h5ad'].\n",
      "Only considering the two last: ['. (L)_19_AC19L_2_AC20L_3', '.h5ad'].\n",
      "WARNING: Your filename has more than two extensions: ['. Hem', '. (L)_19_AC19L_2_AC20L_4', '.h5ad'].\n",
      "Only considering the two last: ['. (L)_19_AC19L_2_AC20L_4', '.h5ad'].\n",
      "WARNING: Your filename has more than two extensions: ['. Hem', '. (L)_19_AC19L_2_AC20L_4', '.h5ad'].\n",
      "Only considering the two last: ['. (L)_19_AC19L_2_AC20L_4', '.h5ad'].\n",
      "WARNING: Your filename has more than two extensions: ['. Hem', '. (L)_19_AC19L_2_AC20L_5', '.h5ad'].\n",
      "Only considering the two last: ['. (L)_19_AC19L_2_AC20L_5', '.h5ad'].\n",
      "WARNING: Your filename has more than two extensions: ['. Hem', '. (L)_19_AC19L_2_AC20L_5', '.h5ad'].\n",
      "Only considering the two last: ['. (L)_19_AC19L_2_AC20L_5', '.h5ad'].\n",
      "WARNING: Your filename has more than two extensions: ['. Hem', '. (L)_19_AC19L_2_AC20L_6', '.h5ad'].\n",
      "Only considering the two last: ['. (L)_19_AC19L_2_AC20L_6', '.h5ad'].\n",
      "WARNING: Your filename has more than two extensions: ['. Hem', '. (L)_19_AC19L_2_AC20L_6', '.h5ad'].\n",
      "Only considering the two last: ['. (L)_19_AC19L_2_AC20L_6', '.h5ad'].\n",
      "WARNING: Your filename has more than two extensions: ['. Hem', '. (L)_19_AC19L_2_AC20L_7', '.h5ad'].\n",
      "Only considering the two last: ['. (L)_19_AC19L_2_AC20L_7', '.h5ad'].\n",
      "WARNING: Your filename has more than two extensions: ['. Hem', '. (L)_19_AC19L_2_AC20L_7', '.h5ad'].\n",
      "Only considering the two last: ['. (L)_19_AC19L_2_AC20L_7', '.h5ad'].\n",
      "WARNING: Your filename has more than two extensions: ['. Hem', '. (L)_19_AC19L_2_AC20L_8', '.h5ad'].\n",
      "Only considering the two last: ['. (L)_19_AC19L_2_AC20L_8', '.h5ad'].\n",
      "WARNING: Your filename has more than two extensions: ['. Hem', '. (L)_19_AC19L_2_AC20L_8', '.h5ad'].\n",
      "Only considering the two last: ['. (L)_19_AC19L_2_AC20L_8', '.h5ad'].\n",
      "WARNING: Your filename has more than two extensions: ['. Hem', '. (L)_19_AC19L_2_AC20L_9', '.h5ad'].\n",
      "Only considering the two last: ['. (L)_19_AC19L_2_AC20L_9', '.h5ad'].\n",
      "WARNING: Your filename has more than two extensions: ['. Hem', '. (L)_19_AC19L_2_AC20L_9', '.h5ad'].\n",
      "Only considering the two last: ['. (L)_19_AC19L_2_AC20L_9', '.h5ad'].\n",
      "WARNING: Your filename has more than two extensions: ['. Hem', '. (L)_19_AC19L_2_AC20L_10', '.h5ad'].\n",
      "Only considering the two last: ['. (L)_19_AC19L_2_AC20L_10', '.h5ad'].\n",
      "WARNING: Your filename has more than two extensions: ['. Hem', '. (L)_19_AC19L_2_AC20L_10', '.h5ad'].\n",
      "Only considering the two last: ['. (L)_19_AC19L_2_AC20L_10', '.h5ad'].\n",
      "WARNING: Your filename has more than two extensions: ['. Hem', '. (L)_19_AC19L_2_AC20L_11', '.h5ad'].\n",
      "Only considering the two last: ['. (L)_19_AC19L_2_AC20L_11', '.h5ad'].\n",
      "WARNING: Your filename has more than two extensions: ['. Hem', '. (L)_19_AC19L_2_AC20L_11', '.h5ad'].\n",
      "Only considering the two last: ['. (L)_19_AC19L_2_AC20L_11', '.h5ad'].\n",
      "WARNING: Your filename has more than two extensions: ['. Hem', '. (L)_19_AC19L_2_AC20L_12', '.h5ad'].\n",
      "Only considering the two last: ['. (L)_19_AC19L_2_AC20L_12', '.h5ad'].\n",
      "WARNING: Your filename has more than two extensions: ['. Hem', '. (L)_19_AC19L_2_AC20L_12', '.h5ad'].\n",
      "Only considering the two last: ['. (L)_19_AC19L_2_AC20L_12', '.h5ad'].\n",
      "WARNING: Your filename has more than two extensions: ['. Hem', '. (L)_19_AC19L_2_AC20L_13', '.h5ad'].\n",
      "Only considering the two last: ['. (L)_19_AC19L_2_AC20L_13', '.h5ad'].\n",
      "WARNING: Your filename has more than two extensions: ['. Hem', '. (L)_19_AC19L_2_AC20L_13', '.h5ad'].\n",
      "Only considering the two last: ['. (L)_19_AC19L_2_AC20L_13', '.h5ad'].\n",
      "WARNING: Your filename has more than two extensions: ['. Hem', '. (L)_19_AC19L_2_AC20L_14', '.h5ad'].\n",
      "Only considering the two last: ['. (L)_19_AC19L_2_AC20L_14', '.h5ad'].\n",
      "WARNING: Your filename has more than two extensions: ['. Hem', '. (L)_19_AC19L_2_AC20L_14', '.h5ad'].\n",
      "Only considering the two last: ['. (L)_19_AC19L_2_AC20L_14', '.h5ad'].\n",
      "WARNING: Your filename has more than two extensions: ['. Hem', '. (L)_19_AC19L_2_AC20L_15', '.h5ad'].\n",
      "Only considering the two last: ['. (L)_19_AC19L_2_AC20L_15', '.h5ad'].\n",
      "WARNING: Your filename has more than two extensions: ['. Hem', '. (L)_19_AC19L_2_AC20L_15', '.h5ad'].\n",
      "Only considering the two last: ['. (L)_19_AC19L_2_AC20L_15', '.h5ad'].\n",
      "WARNING: Your filename has more than two extensions: ['. Hem', '. (L)_19_AC19L_2_AC20L_16', '.h5ad'].\n",
      "Only considering the two last: ['. (L)_19_AC19L_2_AC20L_16', '.h5ad'].\n",
      "WARNING: Your filename has more than two extensions: ['. Hem', '. (L)_19_AC19L_2_AC20L_16', '.h5ad'].\n",
      "Only considering the two last: ['. (L)_19_AC19L_2_AC20L_16', '.h5ad'].\n",
      "WARNING: Your filename has more than two extensions: ['. Hem', '. (L)_19_AC19L_2_AC20L_17', '.h5ad'].\n",
      "Only considering the two last: ['. (L)_19_AC19L_2_AC20L_17', '.h5ad'].\n",
      "WARNING: Your filename has more than two extensions: ['. Hem', '. (L)_19_AC19L_2_AC20L_17', '.h5ad'].\n",
      "Only considering the two last: ['. (L)_19_AC19L_2_AC20L_17', '.h5ad'].\n",
      "WARNING: Your filename has more than two extensions: ['. Hem', '. (R)_17_VC19R_3_VC20R', '.h5ad'].\n",
      "Only considering the two last: ['. (R)_17_VC19R_3_VC20R', '.h5ad'].\n",
      "WARNING: Your filename has more than two extensions: ['. Hem', '. (R)_17_VC19R_3_VC20R', '.h5ad'].\n",
      "Only considering the two last: ['. (R)_17_VC19R_3_VC20R', '.h5ad'].\n",
      "WARNING: Your filename has more than two extensions: ['. Hem', '. (R)_17_VC19R_3_VC20R_0', '.h5ad'].\n",
      "Only considering the two last: ['. (R)_17_VC19R_3_VC20R_0', '.h5ad'].\n",
      "WARNING: Your filename has more than two extensions: ['. Hem', '. (R)_17_VC19R_3_VC20R_0', '.h5ad'].\n",
      "Only considering the two last: ['. (R)_17_VC19R_3_VC20R_0', '.h5ad'].\n",
      "WARNING: Your filename has more than two extensions: ['. Hem', '. (R)_17_VC19R_3_VC20R_1', '.h5ad'].\n",
      "Only considering the two last: ['. (R)_17_VC19R_3_VC20R_1', '.h5ad'].\n",
      "WARNING: Your filename has more than two extensions: ['. Hem', '. (R)_17_VC19R_3_VC20R_1', '.h5ad'].\n",
      "Only considering the two last: ['. (R)_17_VC19R_3_VC20R_1', '.h5ad'].\n",
      "WARNING: Your filename has more than two extensions: ['. Hem', '. (R)_17_VC19R_3_VC20R_2', '.h5ad'].\n",
      "Only considering the two last: ['. (R)_17_VC19R_3_VC20R_2', '.h5ad'].\n",
      "WARNING: Your filename has more than two extensions: ['. Hem', '. (R)_17_VC19R_3_VC20R_2', '.h5ad'].\n",
      "Only considering the two last: ['. (R)_17_VC19R_3_VC20R_2', '.h5ad'].\n",
      "WARNING: Your filename has more than two extensions: ['. Hem', '. (R)_17_VC19R_3_VC20R_3', '.h5ad'].\n",
      "Only considering the two last: ['. (R)_17_VC19R_3_VC20R_3', '.h5ad'].\n",
      "WARNING: Your filename has more than two extensions: ['. Hem', '. (R)_17_VC19R_3_VC20R_3', '.h5ad'].\n",
      "Only considering the two last: ['. (R)_17_VC19R_3_VC20R_3', '.h5ad'].\n",
      "WARNING: Your filename has more than two extensions: ['. Hem', '. (R)_17_VC19R_3_VC20R_4', '.h5ad'].\n",
      "Only considering the two last: ['. (R)_17_VC19R_3_VC20R_4', '.h5ad'].\n",
      "WARNING: Your filename has more than two extensions: ['. Hem', '. (R)_17_VC19R_3_VC20R_4', '.h5ad'].\n",
      "Only considering the two last: ['. (R)_17_VC19R_3_VC20R_4', '.h5ad'].\n",
      "WARNING: Your filename has more than two extensions: ['. Hem', '. (R)_17_VC19R_3_VC20R_5', '.h5ad'].\n",
      "Only considering the two last: ['. (R)_17_VC19R_3_VC20R_5', '.h5ad'].\n",
      "WARNING: Your filename has more than two extensions: ['. Hem', '. (R)_17_VC19R_3_VC20R_5', '.h5ad'].\n",
      "Only considering the two last: ['. (R)_17_VC19R_3_VC20R_5', '.h5ad'].\n",
      "WARNING: Your filename has more than two extensions: ['. Hem', '. (R)_17_VC19R_3_VC20R_6', '.h5ad'].\n",
      "Only considering the two last: ['. (R)_17_VC19R_3_VC20R_6', '.h5ad'].\n",
      "WARNING: Your filename has more than two extensions: ['. Hem', '. (R)_17_VC19R_3_VC20R_6', '.h5ad'].\n",
      "Only considering the two last: ['. (R)_17_VC19R_3_VC20R_6', '.h5ad'].\n",
      "WARNING: Your filename has more than two extensions: ['. Hem', '. (R)_17_VC19R_3_VC20R_7', '.h5ad'].\n",
      "Only considering the two last: ['. (R)_17_VC19R_3_VC20R_7', '.h5ad'].\n",
      "WARNING: Your filename has more than two extensions: ['. Hem', '. (R)_17_VC19R_3_VC20R_7', '.h5ad'].\n",
      "Only considering the two last: ['. (R)_17_VC19R_3_VC20R_7', '.h5ad'].\n"
     ]
    },
    {
     "name": "stdout",
     "output_type": "stream",
     "text": [
      "WARNING: Your filename has more than two extensions: ['. Hem', '. (R)_17_VC19R_3_VC20R_8', '.h5ad'].\n",
      "Only considering the two last: ['. (R)_17_VC19R_3_VC20R_8', '.h5ad'].\n",
      "WARNING: Your filename has more than two extensions: ['. Hem', '. (R)_17_VC19R_3_VC20R_8', '.h5ad'].\n",
      "Only considering the two last: ['. (R)_17_VC19R_3_VC20R_8', '.h5ad'].\n",
      "WARNING: Your filename has more than two extensions: ['. Hem', '. (R)_17_VC19R_3_VC20R_9', '.h5ad'].\n",
      "Only considering the two last: ['. (R)_17_VC19R_3_VC20R_9', '.h5ad'].\n",
      "WARNING: Your filename has more than two extensions: ['. Hem', '. (R)_17_VC19R_3_VC20R_9', '.h5ad'].\n",
      "Only considering the two last: ['. (R)_17_VC19R_3_VC20R_9', '.h5ad'].\n",
      "WARNING: Your filename has more than two extensions: ['. Hem', '. (R)_17_VC19R_3_VC20R_10', '.h5ad'].\n",
      "Only considering the two last: ['. (R)_17_VC19R_3_VC20R_10', '.h5ad'].\n",
      "WARNING: Your filename has more than two extensions: ['. Hem', '. (R)_17_VC19R_3_VC20R_10', '.h5ad'].\n",
      "Only considering the two last: ['. (R)_17_VC19R_3_VC20R_10', '.h5ad'].\n",
      "WARNING: Your filename has more than two extensions: ['. Hem', '. (R)_17_VC19R_3_VC20R_11', '.h5ad'].\n",
      "Only considering the two last: ['. (R)_17_VC19R_3_VC20R_11', '.h5ad'].\n",
      "WARNING: Your filename has more than two extensions: ['. Hem', '. (R)_17_VC19R_3_VC20R_11', '.h5ad'].\n",
      "Only considering the two last: ['. (R)_17_VC19R_3_VC20R_11', '.h5ad'].\n",
      "WARNING: Your filename has more than two extensions: ['. Hem', '. (R)_17_VC19R_3_VC20R_12', '.h5ad'].\n",
      "Only considering the two last: ['. (R)_17_VC19R_3_VC20R_12', '.h5ad'].\n",
      "WARNING: Your filename has more than two extensions: ['. Hem', '. (R)_17_VC19R_3_VC20R_12', '.h5ad'].\n",
      "Only considering the two last: ['. (R)_17_VC19R_3_VC20R_12', '.h5ad'].\n",
      "WARNING: Your filename has more than two extensions: ['. Hem', '. (R)_17_VC19R_3_VC20R_13', '.h5ad'].\n",
      "Only considering the two last: ['. (R)_17_VC19R_3_VC20R_13', '.h5ad'].\n",
      "WARNING: Your filename has more than two extensions: ['. Hem', '. (R)_17_VC19R_3_VC20R_13', '.h5ad'].\n",
      "Only considering the two last: ['. (R)_17_VC19R_3_VC20R_13', '.h5ad'].\n",
      "WARNING: Your filename has more than two extensions: ['. Hem', '. (R)_17_VC19R_3_VC20R_14', '.h5ad'].\n",
      "Only considering the two last: ['. (R)_17_VC19R_3_VC20R_14', '.h5ad'].\n",
      "WARNING: Your filename has more than two extensions: ['. Hem', '. (R)_17_VC19R_3_VC20R_14', '.h5ad'].\n",
      "Only considering the two last: ['. (R)_17_VC19R_3_VC20R_14', '.h5ad'].\n",
      "WARNING: Your filename has more than two extensions: ['. Hem', '. (R)_17_VC19R_3_VC20R_15', '.h5ad'].\n",
      "Only considering the two last: ['. (R)_17_VC19R_3_VC20R_15', '.h5ad'].\n",
      "WARNING: Your filename has more than two extensions: ['. Hem', '. (R)_17_VC19R_3_VC20R_15', '.h5ad'].\n",
      "Only considering the two last: ['. (R)_17_VC19R_3_VC20R_15', '.h5ad'].\n",
      "WARNING: Your filename has more than two extensions: ['. Hem', '. (R)_17_VC19R_3_VC20R_16', '.h5ad'].\n",
      "Only considering the two last: ['. (R)_17_VC19R_3_VC20R_16', '.h5ad'].\n",
      "WARNING: Your filename has more than two extensions: ['. Hem', '. (R)_17_VC19R_3_VC20R_16', '.h5ad'].\n",
      "Only considering the two last: ['. (R)_17_VC19R_3_VC20R_16', '.h5ad'].\n",
      "WARNING: Your filename has more than two extensions: ['. Hem', '. (R)_20_AC19R_4_AC20R', '.h5ad'].\n",
      "Only considering the two last: ['. (R)_20_AC19R_4_AC20R', '.h5ad'].\n",
      "WARNING: Your filename has more than two extensions: ['. Hem', '. (R)_20_AC19R_4_AC20R', '.h5ad'].\n",
      "Only considering the two last: ['. (R)_20_AC19R_4_AC20R', '.h5ad'].\n",
      "WARNING: Your filename has more than two extensions: ['. Hem', '. (R)_20_AC19R_4_AC20R_0', '.h5ad'].\n",
      "Only considering the two last: ['. (R)_20_AC19R_4_AC20R_0', '.h5ad'].\n",
      "WARNING: Your filename has more than two extensions: ['. Hem', '. (R)_20_AC19R_4_AC20R_0', '.h5ad'].\n",
      "Only considering the two last: ['. (R)_20_AC19R_4_AC20R_0', '.h5ad'].\n",
      "WARNING: Your filename has more than two extensions: ['. Hem', '. (R)_20_AC19R_4_AC20R_1', '.h5ad'].\n",
      "Only considering the two last: ['. (R)_20_AC19R_4_AC20R_1', '.h5ad'].\n",
      "WARNING: Your filename has more than two extensions: ['. Hem', '. (R)_20_AC19R_4_AC20R_1', '.h5ad'].\n",
      "Only considering the two last: ['. (R)_20_AC19R_4_AC20R_1', '.h5ad'].\n",
      "WARNING: Your filename has more than two extensions: ['. Hem', '. (R)_20_AC19R_4_AC20R_2', '.h5ad'].\n",
      "Only considering the two last: ['. (R)_20_AC19R_4_AC20R_2', '.h5ad'].\n",
      "WARNING: Your filename has more than two extensions: ['. Hem', '. (R)_20_AC19R_4_AC20R_2', '.h5ad'].\n",
      "Only considering the two last: ['. (R)_20_AC19R_4_AC20R_2', '.h5ad'].\n",
      "WARNING: Your filename has more than two extensions: ['. Hem', '. (R)_20_AC19R_4_AC20R_3', '.h5ad'].\n",
      "Only considering the two last: ['. (R)_20_AC19R_4_AC20R_3', '.h5ad'].\n",
      "WARNING: Your filename has more than two extensions: ['. Hem', '. (R)_20_AC19R_4_AC20R_3', '.h5ad'].\n",
      "Only considering the two last: ['. (R)_20_AC19R_4_AC20R_3', '.h5ad'].\n",
      "WARNING: Your filename has more than two extensions: ['. Hem', '. (R)_20_AC19R_4_AC20R_4', '.h5ad'].\n",
      "Only considering the two last: ['. (R)_20_AC19R_4_AC20R_4', '.h5ad'].\n",
      "WARNING: Your filename has more than two extensions: ['. Hem', '. (R)_20_AC19R_4_AC20R_4', '.h5ad'].\n",
      "Only considering the two last: ['. (R)_20_AC19R_4_AC20R_4', '.h5ad'].\n",
      "WARNING: Your filename has more than two extensions: ['. Hem', '. (R)_20_AC19R_4_AC20R_5', '.h5ad'].\n",
      "Only considering the two last: ['. (R)_20_AC19R_4_AC20R_5', '.h5ad'].\n",
      "WARNING: Your filename has more than two extensions: ['. Hem', '. (R)_20_AC19R_4_AC20R_5', '.h5ad'].\n",
      "Only considering the two last: ['. (R)_20_AC19R_4_AC20R_5', '.h5ad'].\n",
      "WARNING: Your filename has more than two extensions: ['. Hem', '. (R)_20_AC19R_4_AC20R_6', '.h5ad'].\n",
      "Only considering the two last: ['. (R)_20_AC19R_4_AC20R_6', '.h5ad'].\n",
      "WARNING: Your filename has more than two extensions: ['. Hem', '. (R)_20_AC19R_4_AC20R_6', '.h5ad'].\n",
      "Only considering the two last: ['. (R)_20_AC19R_4_AC20R_6', '.h5ad'].\n",
      "WARNING: Your filename has more than two extensions: ['. Hem', '. (R)_20_AC19R_4_AC20R_7', '.h5ad'].\n",
      "Only considering the two last: ['. (R)_20_AC19R_4_AC20R_7', '.h5ad'].\n",
      "WARNING: Your filename has more than two extensions: ['. Hem', '. (R)_20_AC19R_4_AC20R_7', '.h5ad'].\n",
      "Only considering the two last: ['. (R)_20_AC19R_4_AC20R_7', '.h5ad'].\n",
      "WARNING: Your filename has more than two extensions: ['. Hem', '. (R)_20_AC19R_4_AC20R_8', '.h5ad'].\n",
      "Only considering the two last: ['. (R)_20_AC19R_4_AC20R_8', '.h5ad'].\n",
      "WARNING: Your filename has more than two extensions: ['. Hem', '. (R)_20_AC19R_4_AC20R_8', '.h5ad'].\n",
      "Only considering the two last: ['. (R)_20_AC19R_4_AC20R_8', '.h5ad'].\n",
      "WARNING: Your filename has more than two extensions: ['. Hem', '. (R)_20_AC19R_4_AC20R_9', '.h5ad'].\n",
      "Only considering the two last: ['. (R)_20_AC19R_4_AC20R_9', '.h5ad'].\n",
      "WARNING: Your filename has more than two extensions: ['. Hem', '. (R)_20_AC19R_4_AC20R_9', '.h5ad'].\n",
      "Only considering the two last: ['. (R)_20_AC19R_4_AC20R_9', '.h5ad'].\n",
      "WARNING: Your filename has more than two extensions: ['. Hem', '. (R)_20_AC19R_4_AC20R_10', '.h5ad'].\n",
      "Only considering the two last: ['. (R)_20_AC19R_4_AC20R_10', '.h5ad'].\n",
      "WARNING: Your filename has more than two extensions: ['. Hem', '. (R)_20_AC19R_4_AC20R_10', '.h5ad'].\n",
      "Only considering the two last: ['. (R)_20_AC19R_4_AC20R_10', '.h5ad'].\n",
      "WARNING: Your filename has more than two extensions: ['. Hem', '. (R)_20_AC19R_4_AC20R_11', '.h5ad'].\n",
      "Only considering the two last: ['. (R)_20_AC19R_4_AC20R_11', '.h5ad'].\n",
      "WARNING: Your filename has more than two extensions: ['. Hem', '. (R)_20_AC19R_4_AC20R_11', '.h5ad'].\n",
      "Only considering the two last: ['. (R)_20_AC19R_4_AC20R_11', '.h5ad'].\n",
      "{'7_VC24L_9_VC23L': [15, 69, 11, 23, 37, 15, 8, 6, 6, 6, 4, 5, 1, 3, 2, 3, 1, 0, 2, 0], '8_AC24L_14_AC23L': [13, 15, 34, 9, 5, 7, 22, 4, 4, 4, 1, 2, 1, 2, 1, 0], '5_VC22L_10_VC25L': [17, 20, 8, 15, 6, 3, 5, 6, 4, 5, 3, 5, 2, 1, 2, 1, 1, 0, 0], '6_AC22L_13_AC25L': [24, 30, 14, 38, 7, 5, 18, 4, 4, 3, 2, 1, 2, 1, 0, 0], '16_VC19L_1_VC20L': [2, 1, 1, 2, 3, 0, 1, 2, 2, 1, 1, 1, 0, 0, 0, 0, 0, 0, 0], '19_AC19L_2_AC20L': [15, 4, 13, 12, 5, 1, 0, 3, 1, 2, 2, 2, 0, 1, 0, 1, 0, 0], '17_VC19R_3_VC20R': [8, 10, 5, 4, 1, 1, 3, 2, 1, 0, 1, 1, 2, 0, 0, 0, 0], '20_AC19R_4_AC20R': [7, 6, 4, 4, 1, 1, 1, 0, 0, 0, 0, 1, -5, -5, -5, -5, -5, -5, -5, -5]}\n"
     ]
    }
   ],
   "source": [
    "'''COUNTING DE GENES FOR BIOLOGICAL REPLICAS'''\n",
    "\n",
    "folderName = 'BiologicalReplicaSamples'\n",
    "savePath = 'F:/FigureCalculations/Figure4/diffExp_BiologicalReplicaSamples'\n",
    "\n",
    "thresholdDEGenes(bioRepComparisonLst, folderName, savePath)"
   ]
  },
  {
   "cell_type": "code",
   "execution_count": null,
   "id": "f0fa3400",
   "metadata": {
    "scrolled": true
   },
   "outputs": [],
   "source": [
    "'''CALCULATING FOLD CHANGE FOR BIOLOGICAL REPLICAS'''\n",
    "\n",
    "folderName = 'BiologicalReplicaSamples'\n",
    "savePath = 'F:/FigureCalculations/Figure4/foldChange_BiologicalReplicaSamples'\n",
    "\n",
    "calculatingFoldChange(bioRepComparisonLst, folderName, savePath)"
   ]
  },
  {
   "cell_type": "code",
   "execution_count": 10,
   "id": "44fcbe1b",
   "metadata": {
    "scrolled": true
   },
   "outputs": [
    {
     "name": "stdout",
     "output_type": "stream",
     "text": [
      "{'5_VC22L_7_VC24L': [5, 8, 1, 5, 1, 1, 1, 1, 1, 1, 1, 0, 0, 0, 0, 0, 1, 0, 0, 0], '5_VC22L_9_VC23L': [41, 13, 40, 14, 21, 5, 6, 9, 8, 3, 5, 6, 2, 2, -5, 1, 1, -5, 1, 1, 0], '10_VC25L_7_VC24L': [14, 16, 11, 53, 24, 13, 10, 5, 4, 6, 5, 4, 5, 1, 2, 2, 1, 1, 1, 0], '10_VC25L_9_VC23L': [2, 4, 2, 0, 4, 3, 1, 1, 0, 0, 0, 0, 0, 0, 0, 0, 0, 0, 0, 0], '6_AC22L_8_AC24L': [15, 14, 3, 8, 5, 1, 1, 1, 1, 1, 0, 0, 0, 0, 0, 0], '6_AC22L_14_AC23L': [58, 66, 40, 24, 15, 5, 17, 4, 4, 5, 1, 2, 1, 1, 0, 0], '13_AC25L_8_AC24L': [10, 11, 19, 8, 9, 7, 16, 4, 4, 4, 2, 2, 2, 2, 0, 1], '13_AC25L_14_AC23L': [3, 5, 11, 0, 0, 2, 1, 0, 0, 0, 0, 0, 0, 0, 0], '16_VC19L_7_VC24L': [42, 29, 13, 24, 11, 22, 4, 1, 8, 4, 0, 6, 0, 0, 0, 0, 0, 0, 0, 0], '16_VC19L_9_VC23L': [17, 66, 10, 49, 16, 16, 18, 7, 9, 9, 5, 4, 8, 1, 2, 3, 1, 2, -5, 1, 0], '1_VC20L_7_VC24L': [41, 29, 15, 30, 18, 7, 8, 3, 10, 1, 7, 1, 1, 0, 0, 0, 0, 1, 0], '1_VC20L_9_VC23L': [106, 42, 75, 32, 12, 18, 13, 16, 21, 11, 7, 1, 5, 0, 5, 3, 2, 5, 0, 0, 0], '19_AC19L_8_AC24L': [42, 21, 21, 14, 10, 1, 15, 0, 1, 2, 1, 1, 0, 0, 0, 0, 0, 0], '19_AC19L_14_AC23L': [82, 60, 31, 30, 25, 24, 7, 0, 18, 5, 6, 2, 2, -5, 1, 0, 1], '2_AC20L_8_AC24L': [76, 29, 33, 74, 20, 4, 20, 1, 2, 4, 5, 1, 0, 0, 1, 0, 0, 0], '2_AC20L_14_AC23L': [98, 60, 48, 57, 22, 9, 32, 0, 6, 6, 6, 2, 3, 5, 1, 0]}\n"
     ]
    }
   ],
   "source": [
    "'''COUNTING DE GENES FOR PLASTICITY COMPARISONS'''\n",
    "\n",
    "folderName = 'PlasticityComparisons'\n",
    "savePath = 'F:/FigureCalculations/Figure4/diffExp_PlasticityComparisons'\n",
    "\n",
    "thresholdDEGenes(plastComparLst, folderName, savePath)"
   ]
  },
  {
   "cell_type": "code",
   "execution_count": null,
   "id": "175887fe",
   "metadata": {},
   "outputs": [],
   "source": [
    "'''CALCULATING FOLD CHANGE FOR PLASTICITY COMPARISONS'''\n",
    "\n",
    "folderName = 'PlasticityComparisons'\n",
    "savePath = 'F:/FigureCalculations/Figure4/foldChange_PlasticityComparisons'\n",
    "\n",
    "calculatingFoldChange(plastComparLst, folderName, savePath)"
   ]
  },
  {
   "cell_type": "code",
   "execution_count": 11,
   "id": "6ee573e1",
   "metadata": {},
   "outputs": [
    {
     "name": "stdout",
     "output_type": "stream",
     "text": [
      "{'16_VC19L_17_VC19R': [0, 0, 0, 0, 0, 0, 0, 0, 0, 0, 0, 0, 0, 0, 0, 0, 0, 0], '19_AC19L_20_AC19R': [0, 0, 1, 0, 0, 0, 0, 0, 0, 0, 0, 0, 0, 0, 0, 0, 0, -5, 0], '1_VC20L_3_VC20R': [1, 3, 0, 0, 0, 0, 0, 0, 0, 0, 0, 0, 0, 0, 0, 0, 0], '2_AC20L_4_AC20R': [0, 2, 0, 0, 0, 0, 0, 0, 4, 0, 132, 0, 0, 0, 0, 0, 0, 0]}\n"
     ]
    }
   ],
   "source": [
    "'''COUNTING DE GENES FOR HEMISPHERIC COMPARISONS'''\n",
    "\n",
    "folderName = 'HemisphericComparisons'\n",
    "savePath = 'F:/FigureCalculations/Figure4/diffExp_HemiComparisons'\n",
    "\n",
    "thresholdDEGenes(hemComparLst, folderName, savePath)"
   ]
  },
  {
   "cell_type": "code",
   "execution_count": 55,
   "id": "e0e034f1",
   "metadata": {},
   "outputs": [],
   "source": [
    "'''CALCULATING FOLD CHANGE FOR HEMISPHERIC COMPARISONS'''\n",
    "\n",
    "folderName = 'HemisphericComparisons'\n",
    "savePath = 'F:/FigureCalculations/Figure4/foldChange_HemiComparisons'\n",
    "\n",
    "calculatingFoldChange(hemComparLst, folderName, savePath)"
   ]
  },
  {
   "cell_type": "code",
   "execution_count": null,
   "id": "f3915acd",
   "metadata": {},
   "outputs": [],
   "source": []
  }
 ],
 "metadata": {
  "kernelspec": {
   "display_name": "Python 3 (ipykernel)",
   "language": "python",
   "name": "python3"
  },
  "language_info": {
   "codemirror_mode": {
    "name": "ipython",
    "version": 3
   },
   "file_extension": ".py",
   "mimetype": "text/x-python",
   "name": "python",
   "nbconvert_exporter": "python",
   "pygments_lexer": "ipython3",
   "version": "3.10.8"
  }
 },
 "nbformat": 4,
 "nbformat_minor": 5
}
