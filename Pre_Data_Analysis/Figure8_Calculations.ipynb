{
 "cells": [
  {
   "cell_type": "code",
   "execution_count": 3,
   "id": "a81a0dca",
   "metadata": {},
   "outputs": [],
   "source": [
    "import anndata, os, fnmatch, math, random\n",
    "import scanpy as sc\n",
    "import matplotlib as mlp"
   ]
  },
  {
   "cell_type": "code",
   "execution_count": 4,
   "id": "39499739",
   "metadata": {},
   "outputs": [],
   "source": [
    "'''IMPORTING FUNCTIONS FROM GENERAL FUNCTIONS FILE'''\n",
    "\n",
    "%run GeneralFunctions.ipynb\n",
    "%run Figure8_Functions.ipynb"
   ]
  },
  {
   "cell_type": "code",
   "execution_count": 5,
   "id": "d3afdcef",
   "metadata": {},
   "outputs": [],
   "source": [
    "# Genes to remove\n",
    "genesToRemove = ['Eif2s3y', 'Eif2s3x', 'Zfy', 'Usp9y', 'Ddx3y', 'Ddx3x', 'Uty', 'Ubely', 'Tspy', 'Kdm5d', 'Kdm5c', 'Rbmy',\n",
    "                   'Sry', 'Utx', 'Kdm6a', 'Xist', 'Tsix']"
   ]
  },
  {
   "cell_type": "code",
   "execution_count": 6,
   "id": "e95e1f74",
   "metadata": {},
   "outputs": [],
   "source": [
    "saveFolder = 'PlasticityComparisons_noSexGenes'\n",
    "for comparLst in plastComparLst:\n",
    "    condition = comparLst[0]\n",
    "    sample1_name = comparLst[1]\n",
    "    sample2_name = comparLst[2]\n",
    "    \n",
    "    sampleObj = sc.read(f'F:/SampleData/PlasticityComparisons/{condition}_{sample1_name}_{sample2_name}')\n",
    "    \n",
    "    removeGenes(sampleObj, genesToRemove, condition, sample1_name, sample2_name, saveFolder)"
   ]
  },
  {
   "cell_type": "code",
   "execution_count": 7,
   "id": "04c9ec7e",
   "metadata": {},
   "outputs": [],
   "source": [
    "saveFolder = 'BiologicalReplicaSamples_noSexGenes'\n",
    "for comparLst in bioRepComparisonLst:\n",
    "    condition = comparLst[0]\n",
    "    sample1_name = comparLst[1]\n",
    "    sample2_name = comparLst[2]\n",
    "    \n",
    "    sampleObj = sc.read(f'F:/SampleData/BiologicalReplicaSamples/{condition}_{sample1_name}_{sample2_name}')\n",
    "    \n",
    "    removeGenes(sampleObj, genesToRemove, condition, sample1_name, sample2_name, saveFolder)"
   ]
  },
  {
   "cell_type": "code",
   "execution_count": null,
   "id": "65031f4e",
   "metadata": {},
   "outputs": [],
   "source": []
  }
 ],
 "metadata": {
  "kernelspec": {
   "display_name": "Python 3 (ipykernel)",
   "language": "python",
   "name": "python3"
  },
  "language_info": {
   "codemirror_mode": {
    "name": "ipython",
    "version": 3
   },
   "file_extension": ".py",
   "mimetype": "text/x-python",
   "name": "python",
   "nbconvert_exporter": "python",
   "pygments_lexer": "ipython3",
   "version": "3.10.8"
  }
 },
 "nbformat": 4,
 "nbformat_minor": 5
}
