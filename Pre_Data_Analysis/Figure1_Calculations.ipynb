{
 "cells": [
  {
   "cell_type": "code",
   "execution_count": 1,
   "id": "d744e957",
   "metadata": {},
   "outputs": [],
   "source": [
    "import anndata\n",
    "import scanpy as sc\n",
    "import numpy as np\n",
    "import math \n",
    "import pickle\n",
    "import os\n",
    "import fnmatch"
   ]
  },
  {
   "cell_type": "code",
   "execution_count": 2,
   "id": "a7454618",
   "metadata": {},
   "outputs": [],
   "source": [
    "'''IMPORTING FUNCTIONS FROM FUNCTION FILES'''\n",
    "\n",
    "%run GeneralFunctions.ipynb\n",
    "%run Figure1_Functions.ipynb"
   ]
  },
  {
   "cell_type": "code",
   "execution_count": 4,
   "id": "9b7505b0",
   "metadata": {},
   "outputs": [],
   "source": [
    "'''CALCULATING AND SAVING THE CORRELATION MATRIX FOR WITHIN SAMPLE COMPARISONS'''\n",
    "\n",
    "# Where the correlations for all samples are being stored\n",
    "corrMtx_withinSample = betweenSampleCorrelationCalculations(sampleNameConditionLst)\n",
    "\n",
    "# Saving the correlation matrix calculations\n",
    "filePath = f'F:/FigureCalculations/Figure1/corrMtx_withinSample.pkl'\n",
    "\n",
    "with open(filePath, 'wb') as file:\n",
    "    pickle.dump(corrMtx_withinSample, file)"
   ]
  },
  {
   "cell_type": "code",
   "execution_count": 22,
   "id": "d35d2a03",
   "metadata": {
    "scrolled": true
   },
   "outputs": [
    {
     "name": "stdout",
     "output_type": "stream",
     "text": [
      "7_VC24L 9_VC23L\n",
      "8_AC24L 14_AC23L\n",
      "5_VC22L 10_VC25L\n",
      "6_AC22L 13_AC25L\n",
      "16_VC19L 1_VC20L\n",
      "19_AC19L 2_AC20L\n",
      "17_VC19R 3_VC20R\n",
      "20_AC19R 4_AC20R\n"
     ]
    }
   ],
   "source": [
    "'''CALCULATING AND SAVING THE CORRELATION MATRIX FOR BIOLOGICAL REPLICA COMPARISONS'''\n",
    "\n",
    "# Where the correlations for all samples are being stored\n",
    "corrMtx_biologicalRep = betweenSampleCorrelationCalculations(bioRepComparisonLst)\n",
    "\n",
    "# Saving the correlation matrix calculations\n",
    "filePath = f'F:/FigureCalculations/Figure1/corrMtx_biologicalRep.pkl'\n",
    "\n",
    "with open(filePath, 'wb') as file:\n",
    "    pickle.dump(corrMtx_biologicalRep, file)"
   ]
  },
  {
   "cell_type": "code",
   "execution_count": 23,
   "id": "2e911b98",
   "metadata": {},
   "outputs": [
    {
     "name": "stdout",
     "output_type": "stream",
     "text": [
      "5_VC22L 7_VC24L\n",
      "5_VC22L 9_VC23L\n",
      "10_VC25L 7_VC24L\n",
      "10_VC25L 9_VC23L\n",
      "6_AC22L 8_AC24L\n",
      "6_AC22L 14_AC23L\n",
      "13_AC25L 8_AC24L\n",
      "13_AC25L 14_AC23L\n",
      "16_VC19L 7_VC24L\n",
      "16_VC19L 9_VC23L\n",
      "1_VC20L 7_VC24L\n",
      "1_VC20L 9_VC23L\n",
      "19_AC19L 8_AC24L\n",
      "19_AC19L 14_AC23L\n",
      "2_AC20L 8_AC24L\n",
      "2_AC20L 14_AC23L\n"
     ]
    }
   ],
   "source": [
    "# Where the correlations for all samples are being stored\n",
    "corrMtx_plasticityCompar = betweenSampleCorrelationCalculations(plastComparLst)\n",
    "\n",
    "# Saving the correlation matrix calculations\n",
    "filePath = f'F:/FigureCalculations/Figure1/corrMtx_plasticityCompar.pkl'\n",
    "\n",
    "with open(filePath, 'wb') as file:\n",
    "    pickle.dump(corrMtx_plasticityCompar, file)"
   ]
  },
  {
   "cell_type": "code",
   "execution_count": null,
   "id": "685c17d3",
   "metadata": {},
   "outputs": [],
   "source": []
  }
 ],
 "metadata": {
  "kernelspec": {
   "display_name": "Python 3 (ipykernel)",
   "language": "python",
   "name": "python3"
  },
  "language_info": {
   "codemirror_mode": {
    "name": "ipython",
    "version": 3
   },
   "file_extension": ".py",
   "mimetype": "text/x-python",
   "name": "python",
   "nbconvert_exporter": "python",
   "pygments_lexer": "ipython3",
   "version": "3.10.8"
  }
 },
 "nbformat": 4,
 "nbformat_minor": 5
}
