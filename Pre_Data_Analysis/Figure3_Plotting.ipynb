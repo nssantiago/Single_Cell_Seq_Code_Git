{
 "cells": [
  {
   "cell_type": "code",
   "execution_count": null,
   "id": "7b4a55bd",
   "metadata": {},
   "outputs": [],
   "source": [
    "import anndata\n",
    "import scanpy as sc\n",
    "import numpy as np\n",
    "import pickle\n",
    "import os\n",
    "import fnmatch\n",
    "import math\n",
    "import pandas as pd\n",
    "import seaborn as sb\n",
    "import matplotlib as mlp\n",
    "import matplotlib.pyplot as plt\n",
    "from matplotlib import rcParams\n",
    "from matplotlib import colors\n",
    "from matplotlib.colors import ListedColormap\n",
    "from matplotlib.ticker import MultipleLocator, LogLocator, LogFormatter, LogFormatterSciNotation, MaxNLocator\n",
    "import matplotlib.patches as mpatches"
   ]
  },
  {
   "cell_type": "code",
   "execution_count": null,
   "id": "fff5fcba",
   "metadata": {},
   "outputs": [],
   "source": [
    "'''IMPORTING NECESSARY FUNCTIONS FROM GENERAL FUNCTION FILE'''\n",
    "\n",
    "%run GeneralFunctions.ipynb\n",
    "%run Figure3_Functions.ipynb"
   ]
  },
  {
   "cell_type": "code",
   "execution_count": null,
   "id": "b2e17199",
   "metadata": {
    "scrolled": true
   },
   "outputs": [],
   "source": [
    "sampleComparisonLst = sampleNameConditionLst\n",
    "obj_filePath = 'F:/SampleData/IndividualSamples/'\n",
    "savePath = 'F:/Figures/Figure3/WithinSample/'\n",
    "\n",
    "plottingFig3(sampleComparisonLst, obj_filePath, savePath)"
   ]
  },
  {
   "cell_type": "code",
   "execution_count": null,
   "id": "7a6deb7a",
   "metadata": {},
   "outputs": [],
   "source": [
    "sampleComparisonLst = bioRepComparisonLst\n",
    "obj_filePath = 'F:/SampleData/BiologicalReplicaSamples/'\n",
    "savePath = 'F:/Figures/Figure3/BiologicalReplica/'\n",
    "\n",
    "plottingFig3(sampleComparisonLst, obj_filePath, savePath)"
   ]
  },
  {
   "cell_type": "code",
   "execution_count": null,
   "id": "2e3a0a57",
   "metadata": {},
   "outputs": [],
   "source": [
    "sampleComparisonLst = plastComparLst\n",
    "obj_filePath = 'F:/SampleData/PlasticityComparisons/'\n",
    "savePath = 'F:/Figures/Figure3/PlasticityComparisons/'\n",
    "\n",
    "plottingFig3(sampleComparisonLst, obj_filePath, savePath)"
   ]
  }
 ],
 "metadata": {
  "kernelspec": {
   "display_name": "Python 3 (ipykernel)",
   "language": "python",
   "name": "python3"
  },
  "language_info": {
   "codemirror_mode": {
    "name": "ipython",
    "version": 3
   },
   "file_extension": ".py",
   "mimetype": "text/x-python",
   "name": "python",
   "nbconvert_exporter": "python",
   "pygments_lexer": "ipython3",
   "version": "3.10.8"
  }
 },
 "nbformat": 4,
 "nbformat_minor": 5
}
