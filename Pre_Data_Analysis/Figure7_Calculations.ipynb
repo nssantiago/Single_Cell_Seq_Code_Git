{
 "cells": [
  {
   "cell_type": "code",
   "execution_count": 1,
   "id": "64875b00",
   "metadata": {},
   "outputs": [],
   "source": [
    "import anndata, os, fnmatch, math, random\n",
    "import scanpy as sc"
   ]
  },
  {
   "cell_type": "code",
   "execution_count": 3,
   "id": "bf4ec22e",
   "metadata": {},
   "outputs": [],
   "source": [
    "'''IMPORTING FUNCTIONS FROM GENERAL FUNCTIONS FILE'''\n",
    "\n",
    "%run GeneralFunctions.ipynb\n",
    "%run Figure7_Functions.ipynb"
   ]
  },
  {
   "cell_type": "code",
   "execution_count": 4,
   "id": "95eedf21",
   "metadata": {},
   "outputs": [],
   "source": [
    "'''DIVIDING DATA IN QUARTERS'''\n",
    "\n",
    "filePath = 'F:/SampleData/SampleHalves/'\n",
    "\n",
    "for sampleName in sampleNameLst: \n",
    "    halvingHalfs(sampleName, filePath)"
   ]
  },
  {
   "cell_type": "code",
   "execution_count": 5,
   "id": "5d494bfd",
   "metadata": {},
   "outputs": [],
   "source": [
    "'''DIVIDING DATA IN EITHS'''\n",
    "\n",
    "filePath = 'F:/SampleData/SampleQuaters/'\n",
    "\n",
    "for sampleName in sampleNameLst: \n",
    "    halvingQuarters(sampleName, filePath)"
   ]
  },
  {
   "cell_type": "code",
   "execution_count": null,
   "id": "518558b3",
   "metadata": {},
   "outputs": [],
   "source": []
  }
 ],
 "metadata": {
  "kernelspec": {
   "display_name": "Python 3 (ipykernel)",
   "language": "python",
   "name": "python3"
  },
  "language_info": {
   "codemirror_mode": {
    "name": "ipython",
    "version": 3
   },
   "file_extension": ".py",
   "mimetype": "text/x-python",
   "name": "python",
   "nbconvert_exporter": "python",
   "pygments_lexer": "ipython3",
   "version": "3.10.8"
  }
 },
 "nbformat": 4,
 "nbformat_minor": 5
}
