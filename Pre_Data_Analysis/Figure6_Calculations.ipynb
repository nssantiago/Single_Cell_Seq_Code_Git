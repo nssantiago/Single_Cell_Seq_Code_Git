{
 "cells": [
  {
   "cell_type": "code",
   "execution_count": 1,
   "id": "6c88d1a8",
   "metadata": {},
   "outputs": [],
   "source": [
    "import anndata, pickle, os, fnmatch, math, random\n",
    "import scipy.stats as stats\n",
    "import statistics as st\n",
    "import scanpy as sc\n",
    "import numpy as np\n",
    "import pandas as pd"
   ]
  },
  {
   "cell_type": "code",
   "execution_count": 7,
   "id": "7db6d973",
   "metadata": {},
   "outputs": [],
   "source": [
    "'''IMPORTING NECESSARY FUNCTIONS FROM GENERAL FUNCTION FILE'''\n",
    "\n",
    "%run GeneralFunctions.ipynb\n",
    "%run Figure6_Functions.ipynb"
   ]
  },
  {
   "cell_type": "code",
   "execution_count": 3,
   "id": "a414e8fe",
   "metadata": {},
   "outputs": [
    {
     "name": "stdout",
     "output_type": "stream",
     "text": [
      "VC Deaf vs. Control_5_VC22L_7_VC24L\n",
      "VC Deaf vs. Control_10_VC25L_9_VC23L\n",
      "AC Deaf vs. Control_6_AC22L_8_AC24L\n",
      "AC Deaf vs. Control_13_AC25L_14_AC23L\n",
      "Stored 'plastComparFvsM' (list)\n"
     ]
    }
   ],
   "source": [
    "'''CONCATENATING FEMALE PLASTICITY COMPARISONS WITH THE EQUIVALENT MALE COMPARISON'''\n",
    "\n",
    "plastComparFvsM = concatMandFPlasticCompar(plastComparLst)\n",
    "\n",
    "%store plastComparFvsM"
   ]
  },
  {
   "cell_type": "code",
   "execution_count": 8,
   "id": "e3423c07",
   "metadata": {},
   "outputs": [],
   "source": [
    "'''ADDING CONDITION INFORMATION TO ANNDATA OBJECT'''\n",
    "\n",
    "for sampleLst in plastComparFvsM:\n",
    "    condition = sampleLst[0]\n",
    "    sample1_name = sampleLst[1]\n",
    "    sample2_name = sampleLst[2]\n",
    "    sample3_name = sampleLst[3]\n",
    "    sample4_name = sampleLst[4]\n",
    "    \n",
    "    sampleObj = sc.read(f'F:/SampleData/PlasitcityComparisons_FvsM/{condition}.h5ad')\n",
    "    \n",
    "    addingSampleCondition(sampleObj, sample1_name, sample2_name, sample3_name, sample4_name)"
   ]
  },
  {
   "cell_type": "code",
   "execution_count": null,
   "id": "795a3782",
   "metadata": {},
   "outputs": [],
   "source": [
    "\n"
   ]
  }
 ],
 "metadata": {
  "kernelspec": {
   "display_name": "Python 3 (ipykernel)",
   "language": "python",
   "name": "python3"
  },
  "language_info": {
   "codemirror_mode": {
    "name": "ipython",
    "version": 3
   },
   "file_extension": ".py",
   "mimetype": "text/x-python",
   "name": "python",
   "nbconvert_exporter": "python",
   "pygments_lexer": "ipython3",
   "version": "3.10.8"
  }
 },
 "nbformat": 4,
 "nbformat_minor": 5
}
