{
 "cells": [
  {
   "cell_type": "code",
   "execution_count": 1,
   "id": "17a76091",
   "metadata": {},
   "outputs": [],
   "source": [
    "import anndata, random, os, fnmatch\n",
    "import scanpy as sc\n",
    "import numpy as np"
   ]
  },
  {
   "cell_type": "code",
   "execution_count": 2,
   "id": "40940789",
   "metadata": {},
   "outputs": [],
   "source": [
    "'''IMPORTING FUNCTIONS FROM GENERAL FUNCTIONS FILE'''\n",
    "\n",
    "%run GeneralFunctions.ipynb"
   ]
  },
  {
   "cell_type": "markdown",
   "id": "b694ea2a",
   "metadata": {},
   "source": [
    "# Lists Used in 'DataObjectCreation' File"
   ]
  },
  {
   "cell_type": "code",
   "execution_count": null,
   "id": "a62b8a68",
   "metadata": {},
   "outputs": [],
   "source": [
    "# List of Samples and their Randomization Seeds \n",
    "sampleSeedList = [['1_VC20L', 47], ['2_AC20L', 81], ['3_VC20R', 18], ['4_AC20R', 51], ['5_VC22L', 32], ['6_AC22L', 81], \n",
    "                  ['7_VC24L', 10], ['8_AC24L', 66], ['9_VC23L', 24], ['10_VC25L', 62], ['13_AC25L', 8], ['14_AC23L', 94], \n",
    "                  ['16_VC19L', 69], ['17_VC19R', 91], ['19_AC19L', 88], ['20_AC19R', 54]]"
   ]
  },
  {
   "cell_type": "markdown",
   "id": "1321722b",
   "metadata": {},
   "source": [
    "# Functions Used in 'DataObjectCreation' File"
   ]
  },
  {
   "cell_type": "code",
   "execution_count": null,
   "id": "e9111363",
   "metadata": {},
   "outputs": [],
   "source": [
    "# Returns the sex of the mouse\n",
    "    # sampleName = string of the sample name you want to get the information for \n",
    "def mouseSex(sampleName):\n",
    "    for lst in mouseSexLst:\n",
    "        mouseNum = lst[0]\n",
    "        mouseSex = lst[1]\n",
    "        if mouseNum in sampleName:\n",
    "            return mouseSex"
   ]
  },
  {
   "cell_type": "code",
   "execution_count": null,
   "id": "a7edeb52",
   "metadata": {},
   "outputs": [],
   "source": [
    "# Returns the condition of the mouse\n",
    "    # sampleName = string of the sample name you want to get the information for \n",
    "def mouseCondition(sampleName):\n",
    "    for lst in sampleNameConditionLst:\n",
    "        mouseCondition = lst[0]\n",
    "        sample = lst[1]\n",
    "        if sample == sampleName:\n",
    "            return mouseCondition"
   ]
  },
  {
   "cell_type": "code",
   "execution_count": null,
   "id": "ed383784",
   "metadata": {},
   "outputs": [],
   "source": [
    "# This function labels each sample's halves and then concatenates the biological replaicats \n",
    "    # sample1_name = string of the name used for sample 1 \n",
    "    # sample1_pathLst = list containing strings of the path of the AnnData files for sample 1 halves' \n",
    "    # sample2_name = string of the name used for sample 2\n",
    "    # sample2_pathLst = list containing strings of the path of the AnnData files for sample 1 halves' \n",
    "def concatSamples(sample1_name, sample1_pathLst, sample2_name, sample2_pathLst):\n",
    "        # Getting all info for sample 1\n",
    "        sample1_Half1 = sc.read(sample1_pathLst[0])\n",
    "        sample1_Half2 = sc.read(sample1_pathLst[1])\n",
    "        \n",
    "        # Getting all info for sample 2 \n",
    "        sample2_Half1 = sc.read(sample2_pathLst[0])\n",
    "        sample2_Half2 = sc.read(sample2_pathLst[1])\n",
    "        \n",
    "        # Labeling sample halves before concatonating halves\n",
    "        sample1_Half1.obs['half'] = f'{sample1_name}_Half1'\n",
    "        sample1_Half2.obs['half'] = f'{sample1_name}_Half2'\n",
    "        sample2_Half1.obs['half'] = f'{sample2_name}_Half1'\n",
    "        sample2_Half2.obs['half'] = f'{sample2_name}_Half2'\n",
    "        \n",
    "        # Concatenating labeled anndata objects \n",
    "        concatData = anndata.concat([sample1_Half1, sample1_Half2, sample2_Half1, sample2_Half2], join=\"outer\")\n",
    "    \n",
    "        return concatData"
   ]
  },
  {
   "cell_type": "code",
   "execution_count": null,
   "id": "9ea698d2",
   "metadata": {},
   "outputs": [],
   "source": [
    "# Creates conatenated samples from a list of comparisons you want to do \n",
    "    # comparisonLst = list containing lists of the comparisons you want to make \n",
    "        # example list: [[condition of 1 and 2, sample1, sample2], [condition of 3 and 4, sample3, sample4], ...]\n",
    "    # folderName = name of the folder where you want to save your concatenated samples\n",
    "        # if you want to change where the files are saved completely change the 'folderPath' var inside the function\n",
    "def creatingConcatSampleFiles(comparisonLst, folderName):\n",
    "    # Looping through sample lists in comparisonLst \n",
    "    for sampleLst in comparisonLst:\n",
    "        condition = sampleLst[0]\n",
    "        sample1_name = sampleLst[1]\n",
    "        sample2_name = sampleLst[2]\n",
    "\n",
    "        # Path where the sample halves are being saved \n",
    "        folderPath = f'F:/SampleData/SampleHalves/'\n",
    "        \n",
    "        # Using general function 'search_files' to look for the object folder paths for the two samples\n",
    "        sample1_pathLst = search_files(folderPath, sample1_name)\n",
    "        sample2_pathLst = search_files(folderPath, sample2_name)\n",
    "\n",
    "        # Using the 'concatSamples' helper function to concatenate the sample halves \n",
    "        concatData = concatSamples(sample1_name, sample1_pathLst, sample2_name, sample2_pathLst)\n",
    "\n",
    "        # Re-Clustering\n",
    "        # PCA\n",
    "        sc.tl.pca(concatData, svd_solver='arpack')\n",
    "\n",
    "        # Neighbors and UMAP Computations\n",
    "        sc.pp.neighbors(concatData, n_neighbors=50, n_pcs =50, use_rep = \"Scanorama\")\n",
    "        sc.tl.umap(concatData) \n",
    "\n",
    "        # Re-calculating cluster numbers \n",
    "        sc.tl.leiden(concatData, resolution = 0.3, key_added = \"leiden_0.3\")\n",
    "\n",
    "        concatData.write(f'F:/SampleData/{folderName}/{condition}_{sample1_name}_{sample2_name}.h5ad')"
   ]
  }
 ],
 "metadata": {
  "kernelspec": {
   "display_name": "Python 3 (ipykernel)",
   "language": "python",
   "name": "python3"
  },
  "language_info": {
   "codemirror_mode": {
    "name": "ipython",
    "version": 3
   },
   "file_extension": ".py",
   "mimetype": "text/x-python",
   "name": "python",
   "nbconvert_exporter": "python",
   "pygments_lexer": "ipython3",
   "version": "3.10.8"
  }
 },
 "nbformat": 4,
 "nbformat_minor": 5
}
